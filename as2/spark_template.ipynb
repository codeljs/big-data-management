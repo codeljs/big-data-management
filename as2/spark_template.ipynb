{
 "cells": [
  {
   "cell_type": "code",
   "execution_count": 1,
   "id": "ef86e88d",
   "metadata": {},
   "outputs": [
    {
     "name": "stdout",
     "output_type": "stream",
     "text": [
      "Starting Spark application\n"
     ]
    },
    {
     "data": {
      "text/html": [
       "<table>\n",
       "<tr><th>ID</th><th>YARN Application ID</th><th>Kind</th><th>State</th><th>Spark UI</th><th>Driver log</th><th>User</th><th>Current session?</th></tr><tr><td>1223</td><td>application_1670501390673_0088</td><td>pyspark</td><td>idle</td><td><a target=\"_blank\" href=\"http://ambari0.local:8088/proxy/application_1670501390673_0088/\">Link</a></td><td><a target=\"_blank\" href=\"http://ambari2.local:8042/node/containerlogs/container_e17_1670501390673_0088_01_000001/livy\">Link</a></td><td>None</td><td>✔</td></tr></table>"
      ],
      "text/plain": [
       "<IPython.core.display.HTML object>"
      ]
     },
     "metadata": {},
     "output_type": "display_data"
    },
    {
     "data": {
      "application/vnd.jupyter.widget-view+json": {
       "model_id": "",
       "version_major": 2,
       "version_minor": 0
      },
      "text/plain": [
       "FloatProgress(value=0.0, bar_style='info', description='Progress:', layout=Layout(height='25px', width='50%'),…"
      ]
     },
     "metadata": {},
     "output_type": "display_data"
    },
    {
     "name": "stdout",
     "output_type": "stream",
     "text": [
      "SparkSession available as 'spark'.\n"
     ]
    },
    {
     "data": {
      "application/vnd.jupyter.widget-view+json": {
       "model_id": "",
       "version_major": 2,
       "version_minor": 0
      },
      "text/plain": [
       "FloatProgress(value=0.0, bar_style='info', description='Progress:', layout=Layout(height='25px', width='50%'),…"
      ]
     },
     "metadata": {},
     "output_type": "display_data"
    },
    {
     "name": "stdout",
     "output_type": "stream",
     "text": [
      "Running a simple command to start connection to spark"
     ]
    }
   ],
   "source": [
    "print(\"Running a simple command to start connection to spark\")"
   ]
  },
  {
   "cell_type": "code",
   "execution_count": 2,
   "id": "245faec3",
   "metadata": {},
   "outputs": [
    {
     "data": {
      "text/html": [
       "Current session configs: <tt>{'kind': 'pyspark'}</tt><br>"
      ],
      "text/plain": [
       "<IPython.core.display.HTML object>"
      ]
     },
     "metadata": {},
     "output_type": "display_data"
    },
    {
     "data": {
      "text/html": [
       "<table>\n",
       "<tr><th>ID</th><th>YARN Application ID</th><th>Kind</th><th>State</th><th>Spark UI</th><th>Driver log</th><th>User</th><th>Current session?</th></tr><tr><td>1222</td><td>application_1670501390673_0087</td><td>pyspark</td><td>idle</td><td><a target=\"_blank\" href=\"http://ambari0.local:8088/proxy/application_1670501390673_0087/\">Link</a></td><td><a target=\"_blank\" href=\"http://ambari1.local:8042/node/containerlogs/container_e17_1670501390673_0087_01_000001/livy\">Link</a></td><td>None</td><td></td></tr><tr><td>1223</td><td>application_1670501390673_0088</td><td>pyspark</td><td>idle</td><td><a target=\"_blank\" href=\"http://ambari0.local:8088/proxy/application_1670501390673_0088/\">Link</a></td><td><a target=\"_blank\" href=\"http://ambari2.local:8042/node/containerlogs/container_e17_1670501390673_0088_01_000001/livy\">Link</a></td><td>None</td><td>✔</td></tr><tr><td>1224</td><td>application_1670501390673_0089</td><td>pyspark</td><td>idle</td><td><a target=\"_blank\" href=\"http://ambari0.local:8088/proxy/application_1670501390673_0089/\">Link</a></td><td><a target=\"_blank\" href=\"http://ambari4.local:8042/node/containerlogs/container_e17_1670501390673_0089_01_000001/livy\">Link</a></td><td>None</td><td></td></tr></table>"
      ],
      "text/plain": [
       "<IPython.core.display.HTML object>"
      ]
     },
     "metadata": {},
     "output_type": "display_data"
    }
   ],
   "source": [
    "%%info"
   ]
  },
  {
   "cell_type": "code",
   "execution_count": 3,
   "id": "ce740b25",
   "metadata": {},
   "outputs": [
    {
     "data": {
      "text/html": [
       "\n",
       "<table>\n",
       "  <tr>\n",
       "    <th>Magic</th>\n",
       "    <th>Example</th>\n",
       "    <th>Explanation</th>\n",
       "  </tr>\n",
       "  <tr>\n",
       "    <td>info</td>\n",
       "    <td>%%info</td>\n",
       "    <td>Outputs session information for the current Livy endpoint.</td>\n",
       "  </tr>\n",
       "  <tr>\n",
       "    <td>cleanup</td>\n",
       "    <td>%%cleanup -f</td>\n",
       "    <td>Deletes all sessions for the current Livy endpoint, including this notebook's session. The force flag is mandatory.</td>\n",
       "  </tr>\n",
       "  <tr>\n",
       "    <td>delete</td>\n",
       "    <td>%%delete -f -s 0</td>\n",
       "    <td>Deletes a session by number for the current Livy endpoint. Cannot delete this kernel's session.</td>\n",
       "  </tr>\n",
       "  <tr>\n",
       "    <td>logs</td>\n",
       "    <td>%%logs</td>\n",
       "    <td>Outputs the current session's Livy logs.</td>\n",
       "  </tr>\n",
       "  <tr>\n",
       "    <td>configure</td>\n",
       "    <td>%%configure -f<br/>{\"executorMemory\": \"1000M\", \"executorCores\": 4}</td>\n",
       "    <td>Configure the session creation parameters. The force flag is mandatory if a session has already been\n",
       "    created and the session will be dropped and recreated.<br/>Look at <a href=\"https://github.com/cloudera/livy#request-body\">\n",
       "    Livy's POST /sessions Request Body</a> for a list of valid parameters. Parameters must be passed in as a JSON string.</td>\n",
       "  </tr>\n",
       "  <tr>\n",
       "    <td>spark</td>\n",
       "    <td>%%spark -o df<br/>df = spark.read.parquet('...</td>\n",
       "    <td>Executes spark commands.\n",
       "    Parameters:\n",
       "      <ul>\n",
       "        <li>-o VAR_NAME: The Spark dataframe of name VAR_NAME will be available in the %%local Python context as a\n",
       "          <a href=\"http://pandas.pydata.org/\">Pandas</a> dataframe with the same name.</li>\n",
       "        <li>-m METHOD: Sample method, either <tt>take</tt> or <tt>sample</tt>.</li>\n",
       "        <li>-n MAXROWS: The maximum number of rows of a dataframe that will be pulled from Livy to Jupyter.\n",
       "            If this number is negative, then the number of rows will be unlimited.</li>\n",
       "        <li>-r FRACTION: Fraction used for sampling.</li>\n",
       "      </ul>\n",
       "    </td>\n",
       "  </tr>\n",
       "  <tr>\n",
       "    <td>sql</td>\n",
       "    <td>%%sql -o tables -q<br/>SHOW TABLES</td>\n",
       "    <td>Executes a SQL query against the variable sqlContext (Spark v1.x) or spark (Spark v2.x).\n",
       "    Parameters:\n",
       "      <ul>\n",
       "        <li>-o VAR_NAME: The result of the SQL query will be available in the %%local Python context as a\n",
       "          <a href=\"http://pandas.pydata.org/\">Pandas</a> dataframe.</li>\n",
       "        <li>-q: The magic will return None instead of the dataframe (no visualization).</li>\n",
       "        <li>-m, -n, -r are the same as the %%spark parameters above.</li>\n",
       "      </ul>\n",
       "    </td>\n",
       "  </tr>\n",
       "  <tr>\n",
       "    <td>local</td>\n",
       "    <td>%%local<br/>a = 1</td>\n",
       "    <td>All the code in subsequent lines will be executed locally. Code must be valid Python code.</td>\n",
       "  </tr>\n",
       "  <tr>\n",
       "    <td>send_to_spark</td>\n",
       "    <td>%%send_to_spark -i variable -t str -n var</td>\n",
       "    <td>Sends a variable from local output to spark cluster.\n",
       "    <br/>\n",
       "    Parameters:\n",
       "      <ul>\n",
       "        <li>-i VAR_NAME: Local Pandas DataFrame(or String) of name VAR_NAME will be available in the %%spark context as a \n",
       "          Spark dataframe(or String) with the same name.</li>\n",
       "        <li>-t TYPE: Specifies the type of variable passed as -i. Available options are:\n",
       "         `str` for string and `df` for Pandas DataFrame. Optional, defaults to `str`.</li>\n",
       "        <li>-n NAME: Custom name of variable passed as -i. Optional, defaults to -i variable name.</li>\n",
       "        <li>-m MAXROWS: Maximum amount of Pandas rows that will be sent to Spark. Defaults to 2500.</li>\n",
       "      </ul>\n",
       "    </td>\n",
       "  </tr>\n",
       "  <tr>\n",
       "    <td>pretty</td>\n",
       "    <td>%%pretty</td>\n",
       "    <td>If the cell output is a dataframe, like <code>df.show()</code>, then it will pretty print the dataframe as an HTML table</td>\n",
       "  </tr>\n",
       "</table>\n"
      ],
      "text/plain": [
       "<IPython.core.display.HTML object>"
      ]
     },
     "metadata": {},
     "output_type": "display_data"
    }
   ],
   "source": [
    "%%help"
   ]
  },
  {
   "cell_type": "code",
   "execution_count": 4,
   "id": "9492c87f",
   "metadata": {},
   "outputs": [
    {
     "data": {
      "application/vnd.jupyter.widget-view+json": {
       "model_id": "",
       "version_major": 2,
       "version_minor": 0
      },
      "text/plain": [
       "FloatProgress(value=0.0, bar_style='info', description='Progress:', layout=Layout(height='25px', width='50%'),…"
      ]
     },
     "metadata": {},
     "output_type": "display_data"
    },
    {
     "name": "stdout",
     "output_type": "stream",
     "text": [
      "<pyspark.sql.session.SparkSession object at 0x7f6e7db08898>"
     ]
    }
   ],
   "source": [
    "spark"
   ]
  },
  {
   "cell_type": "code",
   "execution_count": 5,
   "id": "5dd15178",
   "metadata": {},
   "outputs": [
    {
     "data": {
      "application/vnd.jupyter.widget-view+json": {
       "model_id": "",
       "version_major": 2,
       "version_minor": 0
      },
      "text/plain": [
       "FloatProgress(value=0.0, bar_style='info', description='Progress:', layout=Layout(height='25px', width='50%'),…"
      ]
     },
     "metadata": {},
     "output_type": "display_data"
    },
    {
     "name": "stdout",
     "output_type": "stream",
     "text": [
      "<class 'pyspark.sql.session.SparkSession'>"
     ]
    }
   ],
   "source": [
    "type(spark)"
   ]
  },
  {
   "cell_type": "code",
   "execution_count": 6,
   "id": "f0586534",
   "metadata": {},
   "outputs": [
    {
     "data": {
      "application/vnd.jupyter.widget-view+json": {
       "model_id": "",
       "version_major": 2,
       "version_minor": 0
      },
      "text/plain": [
       "FloatProgress(value=0.0, bar_style='info', description='Progress:', layout=Layout(height='25px', width='50%'),…"
      ]
     },
     "metadata": {},
     "output_type": "display_data"
    },
    {
     "name": "stdout",
     "output_type": "stream",
     "text": [
      "0\n",
      "1"
     ]
    }
   ],
   "source": [
    "for i in range(2):\n",
    "    print(i)"
   ]
  },
  {
   "cell_type": "code",
   "execution_count": 7,
   "id": "6f09d4fc",
   "metadata": {},
   "outputs": [
    {
     "data": {
      "application/vnd.jupyter.widget-view+json": {
       "model_id": "",
       "version_major": 2,
       "version_minor": 0
      },
      "text/plain": [
       "FloatProgress(value=0.0, bar_style='info', description='Progress:', layout=Layout(height='25px', width='50%'),…"
      ]
     },
     "metadata": {},
     "output_type": "display_data"
    }
   ],
   "source": [
    "import pandas as pd"
   ]
  },
  {
   "cell_type": "code",
   "execution_count": 8,
   "id": "eab6bec8",
   "metadata": {},
   "outputs": [
    {
     "data": {
      "application/vnd.jupyter.widget-view+json": {
       "model_id": "",
       "version_major": 2,
       "version_minor": 0
      },
      "text/plain": [
       "FloatProgress(value=0.0, bar_style='info', description='Progress:', layout=Layout(height='25px', width='50%'),…"
      ]
     },
     "metadata": {},
     "output_type": "display_data"
    },
    {
     "data": {
      "text/html": [
       "<table><tr><th>_c0</th><th>InvoiceNo</th><th>StockCode</th><th>Description</th><th>Quantity</th><th>InvoiceDate</th><th>UnitPrice</th><th>CustomerID</th><th>Country</th></tr><tr><td>0</td><td>536365</td><td>85123A</td><td>WHITE HANGING HEA...</td><td>6</td><td>2010-12-01 08:26:00</td><td>2.55</td><td>17850.0</td><td>United Kingdom</td></tr><tr><td>1</td><td>536365</td><td>71053</td><td>WHITE METAL LANTERN</td><td>6</td><td>2010-12-01 08:26:00</td><td>3.39</td><td>17850.0</td><td>United Kingdom</td></tr><tr><td>2</td><td>536365</td><td>84406B</td><td>CREAM CUPID HEART...</td><td>8</td><td>2010-12-01 08:26:00</td><td>2.75</td><td>17850.0</td><td>United Kingdom</td></tr><tr><td>3</td><td>536365</td><td>84029G</td><td>KNITTED UNION FLA...</td><td>6</td><td>2010-12-01 08:26:00</td><td>3.39</td><td>17850.0</td><td>United Kingdom</td></tr><tr><td>4</td><td>536365</td><td>84029E</td><td>RED WOOLLY HOTTIE...</td><td>6</td><td>2010-12-01 08:26:00</td><td>3.39</td><td>17850.0</td><td>United Kingdom</td></tr><tr><td>5</td><td>536365</td><td>22752</td><td>SET 7 BABUSHKA NE...</td><td>2</td><td>2010-12-01 08:26:00</td><td>7.65</td><td>17850.0</td><td>United Kingdom</td></tr><tr><td>6</td><td>536365</td><td>21730</td><td>GLASS STAR FROSTE...</td><td>6</td><td>2010-12-01 08:26:00</td><td>4.25</td><td>17850.0</td><td>United Kingdom</td></tr><tr><td>7</td><td>536366</td><td>22633</td><td>HAND WARMER UNION...</td><td>6</td><td>2010-12-01 08:28:00</td><td>1.85</td><td>17850.0</td><td>United Kingdom</td></tr><tr><td>8</td><td>536366</td><td>22632</td><td>HAND WARMER RED P...</td><td>6</td><td>2010-12-01 08:28:00</td><td>1.85</td><td>17850.0</td><td>United Kingdom</td></tr><tr><td>9</td><td>536367</td><td>84879</td><td>ASSORTED COLOUR B...</td><td>32</td><td>2010-12-01 08:34:00</td><td>1.69</td><td>13047.0</td><td>United Kingdom</td></tr><tr><td>10</td><td>536367</td><td>22745</td><td>POPPY'S PLAYHOUSE...</td><td>6</td><td>2010-12-01 08:34:00</td><td>2.1</td><td>13047.0</td><td>United Kingdom</td></tr><tr><td>11</td><td>536367</td><td>22748</td><td>POPPY'S PLAYHOUSE...</td><td>6</td><td>2010-12-01 08:34:00</td><td>2.1</td><td>13047.0</td><td>United Kingdom</td></tr><tr><td>12</td><td>536367</td><td>22749</td><td>FELTCRAFT PRINCES...</td><td>8</td><td>2010-12-01 08:34:00</td><td>3.75</td><td>13047.0</td><td>United Kingdom</td></tr><tr><td>13</td><td>536367</td><td>22310</td><td>IVORY KNITTED MUG...</td><td>6</td><td>2010-12-01 08:34:00</td><td>1.65</td><td>13047.0</td><td>United Kingdom</td></tr><tr><td>14</td><td>536367</td><td>84969</td><td>BOX OF 6 ASSORTED...</td><td>6</td><td>2010-12-01 08:34:00</td><td>4.25</td><td>13047.0</td><td>United Kingdom</td></tr><tr><td>15</td><td>536367</td><td>22623</td><td>BOX OF VINTAGE JI...</td><td>3</td><td>2010-12-01 08:34:00</td><td>4.95</td><td>13047.0</td><td>United Kingdom</td></tr><tr><td>16</td><td>536367</td><td>22622</td><td>BOX OF VINTAGE AL...</td><td>2</td><td>2010-12-01 08:34:00</td><td>9.95</td><td>13047.0</td><td>United Kingdom</td></tr><tr><td>17</td><td>536367</td><td>21754</td><td>HOME BUILDING BLO...</td><td>3</td><td>2010-12-01 08:34:00</td><td>5.95</td><td>13047.0</td><td>United Kingdom</td></tr><tr><td>18</td><td>536367</td><td>21755</td><td>LOVE BUILDING BLO...</td><td>3</td><td>2010-12-01 08:34:00</td><td>5.95</td><td>13047.0</td><td>United Kingdom</td></tr><tr><td>19</td><td>536367</td><td>21777</td><td>RECIPE BOX WITH M...</td><td>4</td><td>2010-12-01 08:34:00</td><td>7.95</td><td>13047.0</td><td>United Kingdom</td></tr></table><br /><pre>only showing top 20 rows</pre>"
      ],
      "text/plain": [
       "<IPython.core.display.HTML object>"
      ]
     },
     "metadata": {},
     "output_type": "display_data"
    }
   ],
   "source": [
    "%%pretty\n",
    "# Read the csv-file from HDFS\n",
    "df = spark.read\\\n",
    "    .option(\"header\",True)\\\n",
    "    .csv(\"/datasets/retail/retail.csv\")\n",
    "\n",
    "# Show the first 20 rows as text\n",
    "df.show()"
   ]
  },
  {
   "cell_type": "code",
   "execution_count": 9,
   "id": "12761e9d",
   "metadata": {},
   "outputs": [
    {
     "data": {
      "application/vnd.jupyter.widget-view+json": {
       "model_id": "",
       "version_major": 2,
       "version_minor": 0
      },
      "text/plain": [
       "FloatProgress(value=0.0, bar_style='info', description='Progress:', layout=Layout(height='25px', width='50%'),…"
      ]
     },
     "metadata": {},
     "output_type": "display_data"
    },
    {
     "name": "stdout",
     "output_type": "stream",
     "text": [
      "<class 'pyspark.sql.dataframe.DataFrame'>"
     ]
    }
   ],
   "source": [
    "type(df)"
   ]
  },
  {
   "cell_type": "code",
   "execution_count": 10,
   "id": "dcbd1f2b",
   "metadata": {},
   "outputs": [
    {
     "data": {
      "application/vnd.jupyter.widget-view+json": {
       "model_id": "",
       "version_major": 2,
       "version_minor": 0
      },
      "text/plain": [
       "FloatProgress(value=0.0, bar_style='info', description='Progress:', layout=Layout(height='25px', width='50%'),…"
      ]
     },
     "metadata": {},
     "output_type": "display_data"
    },
    {
     "name": "stdout",
     "output_type": "stream",
     "text": [
      "541,909 rows in df"
     ]
    }
   ],
   "source": [
    "print(\"{:,.0f} rows in df\".format( df.count() ) )"
   ]
  },
  {
   "cell_type": "code",
   "execution_count": 11,
   "id": "539030ba",
   "metadata": {},
   "outputs": [
    {
     "data": {
      "application/vnd.jupyter.widget-view+json": {
       "model_id": "",
       "version_major": 2,
       "version_minor": 0
      },
      "text/plain": [
       "FloatProgress(value=0.0, bar_style='info', description='Progress:', layout=Layout(height='25px', width='50%'),…"
      ]
     },
     "metadata": {},
     "output_type": "display_data"
    },
    {
     "name": "stdout",
     "output_type": "stream",
     "text": [
      "54,279 rows in df"
     ]
    }
   ],
   "source": [
    "df = df.sample(withReplacement=False, fraction=1/10)\n",
    "\n",
    "print(\"{:,.0f} rows in df\".format( df.count() ) )"
   ]
  },
  {
   "cell_type": "code",
   "execution_count": 12,
   "id": "9ab61651",
   "metadata": {},
   "outputs": [
    {
     "data": {
      "application/vnd.jupyter.widget-view+json": {
       "model_id": "",
       "version_major": 2,
       "version_minor": 0
      },
      "text/plain": [
       "FloatProgress(value=0.0, bar_style='info', description='Progress:', layout=Layout(height='25px', width='50%'),…"
      ]
     },
     "metadata": {},
     "output_type": "display_data"
    }
   ],
   "source": [
    "df.createOrReplaceTempView(\"invoices\")"
   ]
  },
  {
   "cell_type": "code",
   "execution_count": 13,
   "id": "a2d62115",
   "metadata": {},
   "outputs": [
    {
     "data": {
      "application/vnd.jupyter.widget-view+json": {
       "model_id": "",
       "version_major": 2,
       "version_minor": 0
      },
      "text/plain": [
       "FloatProgress(value=0.0, bar_style='info', description='Progress:', layout=Layout(height='25px', width='50%'),…"
      ]
     },
     "metadata": {},
     "output_type": "display_data"
    },
    {
     "data": {
      "application/vnd.jupyter.widget-view+json": {
       "model_id": "40e65d28fc714d6fa502ccb0bb27a371",
       "version_major": 2,
       "version_minor": 0
      },
      "text/plain": [
       "VBox(children=(HBox(children=(HTML(value='Type:'), Button(description='Table', layout=Layout(width='70px'), st…"
      ]
     },
     "metadata": {},
     "output_type": "display_data"
    },
    {
     "data": {
      "application/vnd.jupyter.widget-view+json": {
       "model_id": "7f0fd287a8c94a18a265c6da1ada4eb2",
       "version_major": 2,
       "version_minor": 0
      },
      "text/plain": [
       "Output()"
      ]
     },
     "metadata": {},
     "output_type": "display_data"
    }
   ],
   "source": [
    "%%sql\n",
    "\n",
    "SELECT InvoiceNo, SUM(Quantity) AS total_quantity \n",
    "FROM invoices \n",
    "GROUP BY InvoiceNo \n",
    "ORDER BY total_quantity DESC \n",
    "LIMIT 20"
   ]
  },
  {
   "cell_type": "code",
   "execution_count": 14,
   "id": "29f20f7e",
   "metadata": {},
   "outputs": [
    {
     "data": {
      "application/vnd.jupyter.widget-view+json": {
       "model_id": "",
       "version_major": 2,
       "version_minor": 0
      },
      "text/plain": [
       "FloatProgress(value=0.0, bar_style='info', description='Progress:', layout=Layout(height='25px', width='50%'),…"
      ]
     },
     "metadata": {},
     "output_type": "display_data"
    },
    {
     "data": {
      "application/vnd.jupyter.widget-view+json": {
       "model_id": "0f8c63a2d29a4cc6b1b84c28bb7fe634",
       "version_major": 2,
       "version_minor": 0
      },
      "text/plain": [
       "VBox(children=(HBox(children=(HTML(value='Type:'), Button(description='Table', layout=Layout(width='70px'), st…"
      ]
     },
     "metadata": {},
     "output_type": "display_data"
    },
    {
     "data": {
      "application/vnd.jupyter.widget-view+json": {
       "model_id": "06d2ae5fe11d4535a6cd40a60f2e587e",
       "version_major": 2,
       "version_minor": 0
      },
      "text/plain": [
       "Output()"
      ]
     },
     "metadata": {},
     "output_type": "display_data"
    }
   ],
   "source": [
    "%%sql\n",
    "\n",
    "SELECT DISTINCT(Country) \n",
    "FROM invoices"
   ]
  },
  {
   "cell_type": "code",
   "execution_count": null,
   "id": "6295d711",
   "metadata": {},
   "outputs": [],
   "source": []
  },
  {
   "cell_type": "code",
   "execution_count": 15,
   "id": "b55d89a0",
   "metadata": {},
   "outputs": [
    {
     "data": {
      "application/vnd.jupyter.widget-view+json": {
       "model_id": "",
       "version_major": 2,
       "version_minor": 0
      },
      "text/plain": [
       "FloatProgress(value=0.0, bar_style='info', description='Progress:', layout=Layout(height='25px', width='50%'),…"
      ]
     },
     "metadata": {},
     "output_type": "display_data"
    }
   ],
   "source": [
    "import pyspark"
   ]
  },
  {
   "cell_type": "code",
   "execution_count": 16,
   "id": "ac36cbfc",
   "metadata": {},
   "outputs": [
    {
     "data": {
      "application/vnd.jupyter.widget-view+json": {
       "model_id": "",
       "version_major": 2,
       "version_minor": 0
      },
      "text/plain": [
       "FloatProgress(value=0.0, bar_style='info', description='Progress:', layout=Layout(height='25px', width='50%'),…"
      ]
     },
     "metadata": {},
     "output_type": "display_data"
    }
   ],
   "source": [
    "from pyspark.sql import SparkSession"
   ]
  },
  {
   "cell_type": "code",
   "execution_count": 17,
   "id": "c0579f81",
   "metadata": {},
   "outputs": [
    {
     "data": {
      "application/vnd.jupyter.widget-view+json": {
       "model_id": "",
       "version_major": 2,
       "version_minor": 0
      },
      "text/plain": [
       "FloatProgress(value=0.0, bar_style='info', description='Progress:', layout=Layout(height='25px', width='50%'),…"
      ]
     },
     "metadata": {},
     "output_type": "display_data"
    }
   ],
   "source": [
    "from pyspark import SparkConf"
   ]
  },
  {
   "cell_type": "code",
   "execution_count": 18,
   "id": "e083135f",
   "metadata": {},
   "outputs": [
    {
     "data": {
      "application/vnd.jupyter.widget-view+json": {
       "model_id": "",
       "version_major": 2,
       "version_minor": 0
      },
      "text/plain": [
       "FloatProgress(value=0.0, bar_style='info', description='Progress:', layout=Layout(height='25px', width='50%'),…"
      ]
     },
     "metadata": {},
     "output_type": "display_data"
    }
   ],
   "source": [
    "conf = SparkConf()"
   ]
  },
  {
   "cell_type": "code",
   "execution_count": 20,
   "id": "e24d6a96",
   "metadata": {},
   "outputs": [
    {
     "data": {
      "application/vnd.jupyter.widget-view+json": {
       "model_id": "",
       "version_major": 2,
       "version_minor": 0
      },
      "text/plain": [
       "FloatProgress(value=0.0, bar_style='info', description='Progress:', layout=Layout(height='25px', width='50%'),…"
      ]
     },
     "metadata": {},
     "output_type": "display_data"
    }
   ],
   "source": [
    "bs = spark.read.json(\"/datasets/yelp/business.json\") \n",
    "rs = spark.read.json(\"/datasets/yelp/review.json\")"
   ]
  },
  {
   "cell_type": "code",
   "execution_count": 23,
   "id": "f2ce8a8a",
   "metadata": {},
   "outputs": [
    {
     "data": {
      "application/vnd.jupyter.widget-view+json": {
       "model_id": "",
       "version_major": 2,
       "version_minor": 0
      },
      "text/plain": [
       "FloatProgress(value=0.0, bar_style='info', description='Progress:', layout=Layout(height='25px', width='50%'),…"
      ]
     },
     "metadata": {},
     "output_type": "display_data"
    },
    {
     "name": "stdout",
     "output_type": "stream",
     "text": [
      "192609"
     ]
    }
   ],
   "source": [
    "# Get number of rows:\n",
    "# rs.count()\n",
    "bs.count()"
   ]
  },
  {
   "cell_type": "code",
   "execution_count": 24,
   "id": "ddd546c9",
   "metadata": {},
   "outputs": [
    {
     "data": {
      "application/vnd.jupyter.widget-view+json": {
       "model_id": "",
       "version_major": 2,
       "version_minor": 0
      },
      "text/plain": [
       "FloatProgress(value=0.0, bar_style='info', description='Progress:', layout=Layout(height='25px', width='50%'),…"
      ]
     },
     "metadata": {},
     "output_type": "display_data"
    },
    {
     "name": "stdout",
     "output_type": "stream",
     "text": [
      "<class 'pyspark.sql.dataframe.DataFrame'>"
     ]
    }
   ],
   "source": [
    "print(type(bs))"
   ]
  },
  {
   "cell_type": "code",
   "execution_count": 29,
   "id": "d6eadb43",
   "metadata": {
    "scrolled": true
   },
   "outputs": [
    {
     "data": {
      "application/vnd.jupyter.widget-view+json": {
       "model_id": "",
       "version_major": 2,
       "version_minor": 0
      },
      "text/plain": [
       "FloatProgress(value=0.0, bar_style='info', description='Progress:', layout=Layout(height='25px', width='50%'),…"
      ]
     },
     "metadata": {},
     "output_type": "display_data"
    },
    {
     "data": {
      "text/html": [
       "<table><tr><th>business_id</th><th>cool</th><th>date</th><th>funny</th><th>review_id</th><th>stars</th><th>text</th><th>useful</th><th>user_id</th></tr><tr><td>ujmEBvifdJM6h6RLv...</td><td>0</td><td>2013-05-07 04:34:36</td><td>1</td><td>Q1sbwvVQXV2734tPg...</td><td>1.0</td><td>Total bill for th...</td><td>6</td><td>hG7b0MtEbXx5QzbzE...</td></tr><tr><td>NZnhc2sEQy3RmzKTZ...</td><td>0</td><td>2017-01-14 21:30:33</td><td>0</td><td>GJXCdrto3ASJOqKeV...</td><td>5.0</td><td>I *adore* Travis ...</td><td>0</td><td>yXQM5uF2jS6es16SJ...</td></tr><tr><td>WTqjgwHlXbSFevF32...</td><td>0</td><td>2016-11-09 20:09:03</td><td>0</td><td>2TzJjDVDEuAW6MR5V...</td><td>5.0</td><td>I have to say tha...</td><td>3</td><td>n6-Gk65cPZL6Uz8qR...</td></tr><tr><td>ikCg8xy5JIg_NGPx-...</td><td>0</td><td>2018-01-09 20:56:38</td><td>0</td><td>yi0R0Ugj_xUx_Nek0...</td><td>5.0</td><td>Went in for a lun...</td><td>0</td><td>dacAIZ6fTM6mqwW5u...</td></tr><tr><td>b1b1eb3uo-w561D0Z...</td><td>0</td><td>2018-01-30 23:07:38</td><td>0</td><td>11a8sVPMUFtaC7_AB...</td><td>1.0</td><td>Today was my seco...</td><td>7</td><td>ssoyf2_x0EQMed6fg...</td></tr><tr><td>eU_713ec6fTGNO4Be...</td><td>0</td><td>2013-01-20 13:25:59</td><td>0</td><td>fdiNeiN_hoCxCMy2w...</td><td>4.0</td><td>I'll be the first...</td><td>0</td><td>w31MKYsNFMrjhWxxA...</td></tr><tr><td>3fw2X5bZYeW9xCz_z...</td><td>5</td><td>2016-05-07 01:21:02</td><td>4</td><td>G7XHMxG0bx9oBJNEC...</td><td>3.0</td><td>Tracy dessert had...</td><td>5</td><td>jlu4CztcSxrKx56ba...</td></tr><tr><td>zvO-PJCpNk4fgAVUn...</td><td>1</td><td>2010-10-05 19:12:35</td><td>1</td><td>8e9HxxLjjqc9ez5ez...</td><td>1.0</td><td>This place has go...</td><td>3</td><td>d6xvYpyzcfbF_AZ8v...</td></tr><tr><td>b2jN2mm9Wf3RcrZCg...</td><td>0</td><td>2015-01-18 14:04:18</td><td>0</td><td>qrffudO73zsslZbe8...</td><td>2.0</td><td>I was really look...</td><td>1</td><td>sG_h0dIzTKWa3Q6fm...</td></tr><tr><td>oxwGyA17NL6c5t1Et...</td><td>1</td><td>2012-02-29 21:52:43</td><td>0</td><td>RS_GTIT6836bCaPy6...</td><td>3.0</td><td>It's a giant Best...</td><td>1</td><td>nMeCE5-xsdleyxYuN...</td></tr><tr><td>8mIrX_LrOnAqWsB5J...</td><td>0</td><td>2011-11-30 02:11:15</td><td>0</td><td>kbtscdyz6lvrtGjD1...</td><td>4.0</td><td>Like walking back...</td><td>0</td><td>FIk4lQQu1eTe2EpzQ...</td></tr><tr><td>mRUVMJkUGxrByzMQ2...</td><td>0</td><td>2017-12-15 23:27:08</td><td>1</td><td>-I5umRTkhw15RqpKM...</td><td>1.0</td><td>Walked in around ...</td><td>0</td><td>-mA3-1mN4JIEkqOtd...</td></tr><tr><td>FxLfqxdYPA6Z85PFK...</td><td>0</td><td>2016-05-07 01:36:53</td><td>0</td><td>Z7wgXp98wYB57QdRY...</td><td>4.0</td><td>Wow. So surprised...</td><td>0</td><td>GYNnVehQeXjty0xH7...</td></tr><tr><td>LUN6swQYa4xJKaM_U...</td><td>0</td><td>2018-04-27 20:25:26</td><td>0</td><td>qlXw1JQ0UodW7qrmV...</td><td>4.0</td><td>Michael from Red ...</td><td>0</td><td>bAhqAPoWaZYcyYi7b...</td></tr><tr><td>AakkkTuGZA2KBodKi...</td><td>0</td><td>2012-07-16 00:37:14</td><td>1</td><td>JVcjMhlavKKn3UIt9...</td><td>1.0</td><td>I cannot believe ...</td><td>1</td><td>TpyOT5E16YASd7EWj...</td></tr><tr><td>YvrylyuWgbP90RgMq...</td><td>0</td><td>2017-04-07 21:27:49</td><td>0</td><td>svK3nBU7Rk8VfGorl...</td><td>5.0</td><td>You can't really ...</td><td>0</td><td>NJlxGtouq06hhC7sS...</td></tr><tr><td>NyLYY8q1-H3hfsTwu...</td><td>0</td><td>2015-01-03 22:47:34</td><td>0</td><td>1wVA2-vQIuW_ClmXk...</td><td>4.0</td><td>Great lunch today...</td><td>0</td><td>86J5DwcFk4f4In1Vx...</td></tr><tr><td>cHdJXLlKNWixBXpDw...</td><td>1</td><td>2015-04-01 16:30:00</td><td>7</td><td>6BnQwlxRn7ZuWdzni...</td><td>3.0</td><td>I love chinese fo...</td><td>1</td><td>JSrP-dUmLlwZiI7Dp...</td></tr><tr><td>6lj2BJ4tJeu7db5as...</td><td>0</td><td>2017-05-26 01:23:19</td><td>0</td><td>rEITo90tpyKmEfNDp...</td><td>5.0</td><td>We've been a huge...</td><td>0</td><td>6Fz_nus_OG4gar721...</td></tr><tr><td>y-Iw6dZflNix4BdwI...</td><td>0</td><td>2014-06-27 21:19:23</td><td>0</td><td>4bUyL7lzoWzDZaJET...</td><td>3.0</td><td>Good selection of...</td><td>0</td><td>_N7Ndn29bpll_961o...</td></tr></table><br /><pre>only showing top 20 rows</pre>"
      ],
      "text/plain": [
       "<IPython.core.display.HTML object>"
      ]
     },
     "metadata": {},
     "output_type": "display_data"
    }
   ],
   "source": [
    "%%pretty\n",
    "rs.show()"
   ]
  },
  {
   "cell_type": "code",
   "execution_count": 31,
   "id": "5f2b72b8",
   "metadata": {},
   "outputs": [
    {
     "data": {
      "application/vnd.jupyter.widget-view+json": {
       "model_id": "",
       "version_major": 2,
       "version_minor": 0
      },
      "text/plain": [
       "FloatProgress(value=0.0, bar_style='info', description='Progress:', layout=Layout(height='25px', width='50%'),…"
      ]
     },
     "metadata": {},
     "output_type": "display_data"
    },
    {
     "data": {
      "text/html": [
       "<table><tr><th>address</th><th>attributes</th><th>business_id</th><th>categories</th><th>city</th><th>hours</th><th>is_open</th><th>latitude</th><th>longitude</th><th>name</th><th>postal_code</th><th>review_count</th><th>stars</th><th>state</th></tr><tr><td>2818 E Camino Ace...</td><td>[,,,,,,,,,,,,,,,,...</td><td>1SWheh84yJXfytovI...</td><td>Golf, Active Life</td><td>Phoenix</td><td>null</td><td>0</td><td>33.5221425</td><td>-112.0184807</td><td>Arizona Biltmore ...</td><td>85016</td><td>5</td><td>3.0</td><td>AZ</td></tr><tr><td>30 Eglinton Avenue W</td><td>[,, u'full_bar', ...</td><td>QXAEGFB4oINsVuTFx...</td><td>Specialty Food, R...</td><td>Mississauga</td><td>[9:0-1:0, 9:0-0:0...</td><td>1</td><td>43.6054989743</td><td>-79.652288909</td><td>Emerald Chinese R...</td><td>L5R 3E7</td><td>128</td><td>2.5</td><td>ON</td></tr><tr><td>10110 Johnston Rd...</td><td>[,, u'beer_and_wi...</td><td>gnKjwL_1w79qoiV3I...</td><td>Sushi Bars, Resta...</td><td>Charlotte</td><td>[17:30-22:0, 17:3...</td><td>1</td><td>35.092564</td><td>-80.859132</td><td>Musashi Japanese ...</td><td>28210</td><td>170</td><td>4.0</td><td>NC</td></tr><tr><td>15655 W Roosevelt...</td><td>null</td><td>xvX2CttrVhyG2z1dF...</td><td>Insurance, Financ...</td><td>Goodyear</td><td>[8:0-17:0, 8:0-17...</td><td>1</td><td>33.4556129678</td><td>-112.3955963552</td><td>Farmers Insurance...</td><td>85338</td><td>3</td><td>5.0</td><td>AZ</td></tr><tr><td>4209 Stuart Andre...</td><td>[,,,,,,,, False, ...</td><td>HhyxOkGAM07SRYtlQ...</td><td>Plumbing, Shoppin...</td><td>Charlotte</td><td>[7:0-23:0, 7:0-23...</td><td>1</td><td>35.1900119</td><td>-80.8872232</td><td>Queen City Plumbing</td><td>28217</td><td>4</td><td>4.0</td><td>NC</td></tr><tr><td>Credit Valley Tow...</td><td>[,,,,,,,,,, {'gar...</td><td>68dUKd8_8liJ7in4a...</td><td>Shipping Centers,...</td><td>Mississauga</td><td>[9:0-19:0, 9:0-19...</td><td>1</td><td>43.5994753</td><td>-79.7115835</td><td>The UPS Store</td><td>L5V 0B1</td><td>3</td><td>2.5</td><td>ON</td></tr><tr><td>20 Douglas Woods ...</td><td>[,,,,,,,,,, {'gar...</td><td>5JucpCfHZltJh5r1J...</td><td>Beauty & Spas, Ha...</td><td>Calgary</td><td>null</td><td>1</td><td>50.9436456</td><td>-114.0018283</td><td>Edgeworxx Studio</td><td>T2Z 1K4</td><td>7</td><td>3.5</td><td>AB</td></tr><tr><td>4545 E Tropicana ...</td><td>[,,,,,,, False,, ...</td><td>gbQN7vr_caG_A1ugS...</td><td>Hair Salons, Hair...</td><td>Las Vegas</td><td>[10:0-19:0, 10:0-...</td><td>1</td><td>36.099872</td><td>-115.074574</td><td>Supercuts</td><td>89121</td><td>3</td><td>3.5</td><td>NV</td></tr><tr><td>5940 W Union Hill...</td><td>[,,,,,,, False,, ...</td><td>Y6iyemLX_oylRpnr3...</td><td>Nail Salons, Beau...</td><td>Glendale</td><td>[10:0-17:0,, 10:0...</td><td>0</td><td>33.6548146</td><td>-112.1885676</td><td>Vita Bella Fine D...</td><td>85308</td><td>8</td><td>5.0</td><td>AZ</td></tr><tr><td>21689 Lorain Rd</td><td>[False,,,,,,,,, T...</td><td>4GBVPIYRvzGh4K4Tk...</td><td>Beauty & Spas, Na...</td><td>Fairview Park</td><td>[9:0-19:0,, 9:0-1...</td><td>1</td><td>41.4408252653</td><td>-81.8540965503</td><td>Options Salon & Spa</td><td>44126</td><td>8</td><td>4.5</td><td>OH</td></tr><tr><td>1210 8th Street S...</td><td>[,,,,,,, False,,,...</td><td>fcXOEZdXYeZqnQ3lG...</td><td>Local Services, P...</td><td>Calgary</td><td>[9:0-17:0, 9:0-17...</td><td>1</td><td>51.041771</td><td>-114.081109</td><td>Nucleus Informati...</td><td>T2R 1L3</td><td>5</td><td>2.0</td><td>AB</td></tr><tr><td>2450 E Indian Sch...</td><td>[,, u'none', {'ro...</td><td>1Dfx3zM-rW4n-31Ke...</td><td>Restaurants, Brea...</td><td>Phoenix</td><td>[7:0-1:0, 7:0-0:0...</td><td>1</td><td>33.4951941</td><td>-112.0285876</td><td>Taco Bell</td><td>85016</td><td>18</td><td>3.0</td><td>AZ</td></tr><tr><td>119 Landings Dr, ...</td><td>[,, 'beer_and_win...</td><td>5t3KVdMnFgAYmSl1w...</td><td>Bars, Nightlife, ...</td><td>Mooresville</td><td>[10:0-1:0, 10:0-1...</td><td>1</td><td>35.5274098057</td><td>-80.8680032061</td><td>The Kilted Buffal...</td><td>28117</td><td>9</td><td>3.5</td><td>NC</td></tr><tr><td>5981 Andrews Rd</td><td>[,, u'none', None...</td><td>fweCYi8FmbJXHCqLn...</td><td>Italian, Restaura...</td><td>Mentor-on-the-Lake</td><td>[10:0-1:0, 10:0-0...</td><td>1</td><td>41.70852</td><td>-81.359556</td><td>Marco's Pizza</td><td>44060</td><td>16</td><td>4.0</td><td>OH</td></tr><tr><td>4145 Erie St</td><td>[,,,,,,,,, True, ...</td><td>-K4gAv8_vjx8-2Bxk...</td><td>Bakeries, Food</td><td>Willoughby</td><td>[11:0-17:0,, 10:0...</td><td>1</td><td>41.6398599</td><td>-81.4063963</td><td>Baby Cakes</td><td>44094</td><td>7</td><td>3.0</td><td>OH</td></tr><tr><td>1455 16th Avenue</td><td>[,,,,,,, True,,, ...</td><td>A98xW4qb7vOTguggH...</td><td>Fitness & Instruc...</td><td>Richmond Hill</td><td>[16:0-21:30, 16:0...</td><td>1</td><td>43.861502576</td><td>-79.3884991854</td><td>Hot Yoga Wellness</td><td>L4B 3G6</td><td>4</td><td>4.0</td><td>ON</td></tr><tr><td>4848 E Cactus Rd,...</td><td>[,,,,,,,,, True, ...</td><td>giC3pVVFxCRR89rAp...</td><td>Hair Stylists, Be...</td><td>Scottsdale</td><td>[8:0-17:0, 0:0-0:...</td><td>1</td><td>33.600071</td><td>-111.977371</td><td>Knot Salon</td><td>85254</td><td>5</td><td>5.0</td><td>AZ</td></tr><tr><td>1775 E Tropicana ...</td><td>[,, u'full_bar', ...</td><td>PZ-LZzSlhSe9utkQY...</td><td>Restaurants, Italian</td><td>Las Vegas</td><td>null</td><td>0</td><td>36.1000163</td><td>-115.1285285</td><td>Carluccio's Tivol...</td><td>89119</td><td>40</td><td>4.0</td><td>NV</td></tr><tr><td></td><td>[,,,,,,,,, True,,...</td><td>nh_kQ16QAoXWwqZ05...</td><td>Event Planning & ...</td><td>Las Vegas</td><td>[0:0-0:0, 0:0-0:0...</td><td>1</td><td>36.1165487</td><td>-115.0881146</td><td>Myron Hensel Phot...</td><td>89121</td><td>21</td><td>5.0</td><td>NV</td></tr><tr><td>445 King Street W...</td><td>[True,,,,,,,,,,, ...</td><td>zSpQmEBvRe3IhTUlM...</td><td>Trainers, Health ...</td><td>Toronto</td><td>[6:0-22:0, 6:0-22...</td><td>1</td><td>43.6450415</td><td>-79.3957986</td><td>Totum Life Science</td><td>M5V 1K4</td><td>23</td><td>4.0</td><td>ON</td></tr></table><br /><pre>only showing top 20 rows</pre>"
      ],
      "text/plain": [
       "<IPython.core.display.HTML object>"
      ]
     },
     "metadata": {},
     "output_type": "display_data"
    }
   ],
   "source": [
    "%%pretty\n",
    "bs.show()"
   ]
  },
  {
   "cell_type": "code",
   "execution_count": 44,
   "id": "022ce37c",
   "metadata": {},
   "outputs": [
    {
     "data": {
      "application/vnd.jupyter.widget-view+json": {
       "model_id": "",
       "version_major": 2,
       "version_minor": 0
      },
      "text/plain": [
       "FloatProgress(value=0.0, bar_style='info', description='Progress:', layout=Layout(height='25px', width='50%'),…"
      ]
     },
     "metadata": {},
     "output_type": "display_data"
    }
   ],
   "source": [
    "bs.createOrReplaceTempView(\"bs_view\")"
   ]
  },
  {
   "cell_type": "code",
   "execution_count": 45,
   "id": "d61bb183",
   "metadata": {
    "scrolled": true
   },
   "outputs": [
    {
     "data": {
      "application/vnd.jupyter.widget-view+json": {
       "model_id": "",
       "version_major": 2,
       "version_minor": 0
      },
      "text/plain": [
       "FloatProgress(value=0.0, bar_style='info', description='Progress:', layout=Layout(height='25px', width='50%'),…"
      ]
     },
     "metadata": {},
     "output_type": "display_data"
    },
    {
     "data": {
      "application/vnd.jupyter.widget-view+json": {
       "model_id": "88ae9697df9645f19955f44c630eb9b0",
       "version_major": 2,
       "version_minor": 0
      },
      "text/plain": [
       "VBox(children=(HBox(children=(HTML(value='Type:'), Button(description='Table', layout=Layout(width='70px'), st…"
      ]
     },
     "metadata": {},
     "output_type": "display_data"
    },
    {
     "data": {
      "application/vnd.jupyter.widget-view+json": {
       "model_id": "4728d9c24f4e451cada54970d3403c35",
       "version_major": 2,
       "version_minor": 0
      },
      "text/plain": [
       "Output()"
      ]
     },
     "metadata": {},
     "output_type": "display_data"
    }
   ],
   "source": [
    "%%sql\n",
    "\n",
    "select count(*) from bs_view"
   ]
  },
  {
   "cell_type": "code",
   "execution_count": 37,
   "id": "b10907ff",
   "metadata": {},
   "outputs": [
    {
     "data": {
      "application/vnd.jupyter.widget-view+json": {
       "model_id": "",
       "version_major": 2,
       "version_minor": 0
      },
      "text/plain": [
       "FloatProgress(value=0.0, bar_style='info', description='Progress:', layout=Layout(height='25px', width='50%'),…"
      ]
     },
     "metadata": {},
     "output_type": "display_data"
    }
   ],
   "source": [
    "rs.createOrReplaceTempView(\"rs_view\")"
   ]
  },
  {
   "cell_type": "code",
   "execution_count": 53,
   "id": "c6f7a98f",
   "metadata": {},
   "outputs": [
    {
     "data": {
      "application/vnd.jupyter.widget-view+json": {
       "model_id": "",
       "version_major": 2,
       "version_minor": 0
      },
      "text/plain": [
       "FloatProgress(value=0.0, bar_style='info', description='Progress:', layout=Layout(height='25px', width='50%'),…"
      ]
     },
     "metadata": {},
     "output_type": "display_data"
    },
    {
     "data": {
      "application/vnd.jupyter.widget-view+json": {
       "model_id": "600cd0ec14a14593bbb60d16ab765d2a",
       "version_major": 2,
       "version_minor": 0
      },
      "text/plain": [
       "VBox(children=(HBox(children=(HTML(value='Type:'), Button(description='Table', layout=Layout(width='70px'), st…"
      ]
     },
     "metadata": {},
     "output_type": "display_data"
    },
    {
     "data": {
      "application/vnd.jupyter.widget-view+json": {
       "model_id": "575113e756f24319914cf5ec984454c0",
       "version_major": 2,
       "version_minor": 0
      },
      "text/plain": [
       "Output()"
      ]
     },
     "metadata": {},
     "output_type": "display_data"
    }
   ],
   "source": [
    "%%sql\n",
    "\n",
    "select distinct bs.name, bs.stars, bs.review_count \n",
    "from bs_view as bs left join rs_view as rs on bs.business_id=rs.business_id\n",
    "where  bs.review_count > 1000 and bs.stars = 5.0"
   ]
  },
  {
   "cell_type": "code",
   "execution_count": null,
   "id": "34ed9695",
   "metadata": {},
   "outputs": [],
   "source": []
  }
 ],
 "metadata": {
  "kernelspec": {
   "display_name": "PySpark",
   "language": "python",
   "name": "pysparkkernel"
  },
  "language_info": {
   "codemirror_mode": {
    "name": "python",
    "version": 3
   },
   "file_extension": ".py",
   "mimetype": "text/x-python",
   "name": "pyspark",
   "pygments_lexer": "python3"
  }
 },
 "nbformat": 4,
 "nbformat_minor": 5
}
