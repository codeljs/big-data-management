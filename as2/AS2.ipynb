{
 "cells": [
  {
   "cell_type": "code",
   "execution_count": 1,
   "id": "ef86e88d",
   "metadata": {
    "scrolled": false
   },
   "outputs": [
    {
     "name": "stdout",
     "output_type": "stream",
     "text": [
      "Starting Spark application\n"
     ]
    },
    {
     "data": {
      "text/html": [
       "<table>\n",
       "<tr><th>ID</th><th>YARN Application ID</th><th>Kind</th><th>State</th><th>Spark UI</th><th>Driver log</th><th>User</th><th>Current session?</th></tr><tr><td>1434</td><td>application_1670501390673_0396</td><td>pyspark</td><td>idle</td><td><a target=\"_blank\" href=\"http://ambari0.local:8088/proxy/application_1670501390673_0396/\">Link</a></td><td><a target=\"_blank\" href=\"http://ambari3.local:8042/node/containerlogs/container_e17_1670501390673_0396_01_000001/livy\">Link</a></td><td>None</td><td>✔</td></tr></table>"
      ],
      "text/plain": [
       "<IPython.core.display.HTML object>"
      ]
     },
     "metadata": {},
     "output_type": "display_data"
    },
    {
     "data": {
      "application/vnd.jupyter.widget-view+json": {
       "model_id": "",
       "version_major": 2,
       "version_minor": 0
      },
      "text/plain": [
       "FloatProgress(value=0.0, bar_style='info', description='Progress:', layout=Layout(height='25px', width='50%'),…"
      ]
     },
     "metadata": {},
     "output_type": "display_data"
    },
    {
     "name": "stdout",
     "output_type": "stream",
     "text": [
      "SparkSession available as 'spark'.\n"
     ]
    },
    {
     "data": {
      "application/vnd.jupyter.widget-view+json": {
       "model_id": "",
       "version_major": 2,
       "version_minor": 0
      },
      "text/plain": [
       "FloatProgress(value=0.0, bar_style='info', description='Progress:', layout=Layout(height='25px', width='50%'),…"
      ]
     },
     "metadata": {},
     "output_type": "display_data"
    },
    {
     "name": "stdout",
     "output_type": "stream",
     "text": [
      "Running a simple command to start connection to spark"
     ]
    }
   ],
   "source": [
    "print(\"Running a simple command to start connection to spark\")"
   ]
  },
  {
   "cell_type": "code",
   "execution_count": 1,
   "id": "245faec3",
   "metadata": {
    "scrolled": false
   },
   "outputs": [
    {
     "data": {
      "text/html": [
       "Current session configs: <tt>{'kind': 'pyspark'}</tt><br>"
      ],
      "text/plain": [
       "<IPython.core.display.HTML object>"
      ]
     },
     "metadata": {},
     "output_type": "display_data"
    },
    {
     "data": {
      "text/html": [
       "No active sessions."
      ],
      "text/plain": [
       "<IPython.core.display.HTML object>"
      ]
     },
     "metadata": {},
     "output_type": "display_data"
    }
   ],
   "source": [
    "%%info"
   ]
  },
  {
   "cell_type": "code",
   "execution_count": 10,
   "id": "dcbd1f2b",
   "metadata": {},
   "outputs": [
    {
     "data": {
      "application/vnd.jupyter.widget-view+json": {
       "model_id": "",
       "version_major": 2,
       "version_minor": 0
      },
      "text/plain": [
       "FloatProgress(value=0.0, bar_style='info', description='Progress:', layout=Layout(height='25px', width='50%'),…"
      ]
     },
     "metadata": {},
     "output_type": "display_data"
    },
    {
     "name": "stdout",
     "output_type": "stream",
     "text": [
      "541,909 rows in df"
     ]
    }
   ],
   "source": [
    "print(\"{:,.0f} rows in df\".format( df.count() ) )"
   ]
  },
  {
   "cell_type": "code",
   "execution_count": 11,
   "id": "539030ba",
   "metadata": {},
   "outputs": [
    {
     "data": {
      "application/vnd.jupyter.widget-view+json": {
       "model_id": "",
       "version_major": 2,
       "version_minor": 0
      },
      "text/plain": [
       "FloatProgress(value=0.0, bar_style='info', description='Progress:', layout=Layout(height='25px', width='50%'),…"
      ]
     },
     "metadata": {},
     "output_type": "display_data"
    },
    {
     "name": "stdout",
     "output_type": "stream",
     "text": [
      "54,279 rows in df"
     ]
    }
   ],
   "source": [
    "df = df.sample(withReplacement=False, fraction=1/10)\n",
    "\n",
    "print(\"{:,.0f} rows in df\".format( df.count() ) )"
   ]
  },
  {
   "cell_type": "code",
   "execution_count": 12,
   "id": "9ab61651",
   "metadata": {
    "scrolled": true
   },
   "outputs": [
    {
     "data": {
      "application/vnd.jupyter.widget-view+json": {
       "model_id": "",
       "version_major": 2,
       "version_minor": 0
      },
      "text/plain": [
       "FloatProgress(value=0.0, bar_style='info', description='Progress:', layout=Layout(height='25px', width='50%'),…"
      ]
     },
     "metadata": {},
     "output_type": "display_data"
    }
   ],
   "source": [
    "df.createOrReplaceTempView(\"invoices\")"
   ]
  },
  {
   "cell_type": "code",
   "execution_count": 2,
   "id": "c35ebf6d",
   "metadata": {
    "scrolled": true
   },
   "outputs": [
    {
     "data": {
      "application/vnd.jupyter.widget-view+json": {
       "model_id": "",
       "version_major": 2,
       "version_minor": 0
      },
      "text/plain": [
       "FloatProgress(value=0.0, bar_style='info', description='Progress:', layout=Layout(height='25px', width='50%'),…"
      ]
     },
     "metadata": {},
     "output_type": "display_data"
    }
   ],
   "source": [
    "import pyspark"
   ]
  },
  {
   "cell_type": "code",
   "execution_count": 3,
   "id": "ea140ff1",
   "metadata": {},
   "outputs": [
    {
     "data": {
      "application/vnd.jupyter.widget-view+json": {
       "model_id": "",
       "version_major": 2,
       "version_minor": 0
      },
      "text/plain": [
       "FloatProgress(value=0.0, bar_style='info', description='Progress:', layout=Layout(height='25px', width='50%'),…"
      ]
     },
     "metadata": {},
     "output_type": "display_data"
    }
   ],
   "source": [
    "from pyspark.sql import SparkSession"
   ]
  },
  {
   "cell_type": "code",
   "execution_count": 4,
   "id": "904ffad6",
   "metadata": {},
   "outputs": [
    {
     "data": {
      "application/vnd.jupyter.widget-view+json": {
       "model_id": "",
       "version_major": 2,
       "version_minor": 0
      },
      "text/plain": [
       "FloatProgress(value=0.0, bar_style='info', description='Progress:', layout=Layout(height='25px', width='50%'),…"
      ]
     },
     "metadata": {},
     "output_type": "display_data"
    }
   ],
   "source": [
    "from pyspark import SparkConf"
   ]
  },
  {
   "cell_type": "code",
   "execution_count": 5,
   "id": "303571d3",
   "metadata": {},
   "outputs": [
    {
     "data": {
      "application/vnd.jupyter.widget-view+json": {
       "model_id": "",
       "version_major": 2,
       "version_minor": 0
      },
      "text/plain": [
       "FloatProgress(value=0.0, bar_style='info', description='Progress:', layout=Layout(height='25px', width='50%'),…"
      ]
     },
     "metadata": {},
     "output_type": "display_data"
    }
   ],
   "source": [
    "conf = SparkConf()"
   ]
  },
  {
   "cell_type": "code",
   "execution_count": 6,
   "id": "ecf5b3dc",
   "metadata": {},
   "outputs": [
    {
     "data": {
      "application/vnd.jupyter.widget-view+json": {
       "model_id": "",
       "version_major": 2,
       "version_minor": 0
      },
      "text/plain": [
       "FloatProgress(value=0.0, bar_style='info', description='Progress:', layout=Layout(height='25px', width='50%'),…"
      ]
     },
     "metadata": {},
     "output_type": "display_data"
    }
   ],
   "source": [
    "bs = spark.read.json(\"/datasets/yelp/business.json\") \n",
    "rs = spark.read.json(\"/datasets/yelp/review.json\")\n"
   ]
  },
  {
   "cell_type": "code",
   "execution_count": 7,
   "id": "5dbf2c1f",
   "metadata": {},
   "outputs": [
    {
     "data": {
      "application/vnd.jupyter.widget-view+json": {
       "model_id": "",
       "version_major": 2,
       "version_minor": 0
      },
      "text/plain": [
       "FloatProgress(value=0.0, bar_style='info', description='Progress:', layout=Layout(height='25px', width='50%'),…"
      ]
     },
     "metadata": {},
     "output_type": "display_data"
    },
    {
     "name": "stdout",
     "output_type": "stream",
     "text": [
      "192609"
     ]
    }
   ],
   "source": [
    "# Get number of rows:\n",
    "# rs.count()\n",
    "bs.count()"
   ]
  },
  {
   "cell_type": "code",
   "execution_count": 13,
   "id": "a1420904",
   "metadata": {},
   "outputs": [
    {
     "data": {
      "application/vnd.jupyter.widget-view+json": {
       "model_id": "",
       "version_major": 2,
       "version_minor": 0
      },
      "text/plain": [
       "FloatProgress(value=0.0, bar_style='info', description='Progress:', layout=Layout(height='25px', width='50%'),…"
      ]
     },
     "metadata": {},
     "output_type": "display_data"
    },
    {
     "name": "stdout",
     "output_type": "stream",
     "text": [
      "<class 'pyspark.sql.dataframe.DataFrame'>"
     ]
    }
   ],
   "source": [
    "print(type(bs))"
   ]
  },
  {
   "cell_type": "code",
   "execution_count": 8,
   "id": "12324385",
   "metadata": {
    "scrolled": true
   },
   "outputs": [
    {
     "data": {
      "application/vnd.jupyter.widget-view+json": {
       "model_id": "",
       "version_major": 2,
       "version_minor": 0
      },
      "text/plain": [
       "FloatProgress(value=0.0, bar_style='info', description='Progress:', layout=Layout(height='25px', width='50%'),…"
      ]
     },
     "metadata": {},
     "output_type": "display_data"
    },
    {
     "data": {
      "text/html": [
       "<table><tr><th>business_id</th><th>cool</th><th>date</th><th>funny</th><th>review_id</th><th>stars</th><th>text</th><th>useful</th><th>user_id</th></tr><tr><td>ujmEBvifdJM6h6RLv...</td><td>0</td><td>2013-05-07 04:34:36</td><td>1</td><td>Q1sbwvVQXV2734tPg...</td><td>1.0</td><td>Total bill for th...</td><td>6</td><td>hG7b0MtEbXx5QzbzE...</td></tr><tr><td>NZnhc2sEQy3RmzKTZ...</td><td>0</td><td>2017-01-14 21:30:33</td><td>0</td><td>GJXCdrto3ASJOqKeV...</td><td>5.0</td><td>I *adore* Travis ...</td><td>0</td><td>yXQM5uF2jS6es16SJ...</td></tr><tr><td>WTqjgwHlXbSFevF32...</td><td>0</td><td>2016-11-09 20:09:03</td><td>0</td><td>2TzJjDVDEuAW6MR5V...</td><td>5.0</td><td>I have to say tha...</td><td>3</td><td>n6-Gk65cPZL6Uz8qR...</td></tr><tr><td>ikCg8xy5JIg_NGPx-...</td><td>0</td><td>2018-01-09 20:56:38</td><td>0</td><td>yi0R0Ugj_xUx_Nek0...</td><td>5.0</td><td>Went in for a lun...</td><td>0</td><td>dacAIZ6fTM6mqwW5u...</td></tr><tr><td>b1b1eb3uo-w561D0Z...</td><td>0</td><td>2018-01-30 23:07:38</td><td>0</td><td>11a8sVPMUFtaC7_AB...</td><td>1.0</td><td>Today was my seco...</td><td>7</td><td>ssoyf2_x0EQMed6fg...</td></tr><tr><td>eU_713ec6fTGNO4Be...</td><td>0</td><td>2013-01-20 13:25:59</td><td>0</td><td>fdiNeiN_hoCxCMy2w...</td><td>4.0</td><td>I'll be the first...</td><td>0</td><td>w31MKYsNFMrjhWxxA...</td></tr><tr><td>3fw2X5bZYeW9xCz_z...</td><td>5</td><td>2016-05-07 01:21:02</td><td>4</td><td>G7XHMxG0bx9oBJNEC...</td><td>3.0</td><td>Tracy dessert had...</td><td>5</td><td>jlu4CztcSxrKx56ba...</td></tr><tr><td>zvO-PJCpNk4fgAVUn...</td><td>1</td><td>2010-10-05 19:12:35</td><td>1</td><td>8e9HxxLjjqc9ez5ez...</td><td>1.0</td><td>This place has go...</td><td>3</td><td>d6xvYpyzcfbF_AZ8v...</td></tr><tr><td>b2jN2mm9Wf3RcrZCg...</td><td>0</td><td>2015-01-18 14:04:18</td><td>0</td><td>qrffudO73zsslZbe8...</td><td>2.0</td><td>I was really look...</td><td>1</td><td>sG_h0dIzTKWa3Q6fm...</td></tr><tr><td>oxwGyA17NL6c5t1Et...</td><td>1</td><td>2012-02-29 21:52:43</td><td>0</td><td>RS_GTIT6836bCaPy6...</td><td>3.0</td><td>It's a giant Best...</td><td>1</td><td>nMeCE5-xsdleyxYuN...</td></tr><tr><td>8mIrX_LrOnAqWsB5J...</td><td>0</td><td>2011-11-30 02:11:15</td><td>0</td><td>kbtscdyz6lvrtGjD1...</td><td>4.0</td><td>Like walking back...</td><td>0</td><td>FIk4lQQu1eTe2EpzQ...</td></tr><tr><td>mRUVMJkUGxrByzMQ2...</td><td>0</td><td>2017-12-15 23:27:08</td><td>1</td><td>-I5umRTkhw15RqpKM...</td><td>1.0</td><td>Walked in around ...</td><td>0</td><td>-mA3-1mN4JIEkqOtd...</td></tr><tr><td>FxLfqxdYPA6Z85PFK...</td><td>0</td><td>2016-05-07 01:36:53</td><td>0</td><td>Z7wgXp98wYB57QdRY...</td><td>4.0</td><td>Wow. So surprised...</td><td>0</td><td>GYNnVehQeXjty0xH7...</td></tr><tr><td>LUN6swQYa4xJKaM_U...</td><td>0</td><td>2018-04-27 20:25:26</td><td>0</td><td>qlXw1JQ0UodW7qrmV...</td><td>4.0</td><td>Michael from Red ...</td><td>0</td><td>bAhqAPoWaZYcyYi7b...</td></tr><tr><td>AakkkTuGZA2KBodKi...</td><td>0</td><td>2012-07-16 00:37:14</td><td>1</td><td>JVcjMhlavKKn3UIt9...</td><td>1.0</td><td>I cannot believe ...</td><td>1</td><td>TpyOT5E16YASd7EWj...</td></tr><tr><td>YvrylyuWgbP90RgMq...</td><td>0</td><td>2017-04-07 21:27:49</td><td>0</td><td>svK3nBU7Rk8VfGorl...</td><td>5.0</td><td>You can't really ...</td><td>0</td><td>NJlxGtouq06hhC7sS...</td></tr><tr><td>NyLYY8q1-H3hfsTwu...</td><td>0</td><td>2015-01-03 22:47:34</td><td>0</td><td>1wVA2-vQIuW_ClmXk...</td><td>4.0</td><td>Great lunch today...</td><td>0</td><td>86J5DwcFk4f4In1Vx...</td></tr><tr><td>cHdJXLlKNWixBXpDw...</td><td>1</td><td>2015-04-01 16:30:00</td><td>7</td><td>6BnQwlxRn7ZuWdzni...</td><td>3.0</td><td>I love chinese fo...</td><td>1</td><td>JSrP-dUmLlwZiI7Dp...</td></tr><tr><td>6lj2BJ4tJeu7db5as...</td><td>0</td><td>2017-05-26 01:23:19</td><td>0</td><td>rEITo90tpyKmEfNDp...</td><td>5.0</td><td>We've been a huge...</td><td>0</td><td>6Fz_nus_OG4gar721...</td></tr><tr><td>y-Iw6dZflNix4BdwI...</td><td>0</td><td>2014-06-27 21:19:23</td><td>0</td><td>4bUyL7lzoWzDZaJET...</td><td>3.0</td><td>Good selection of...</td><td>0</td><td>_N7Ndn29bpll_961o...</td></tr></table><br /><pre>only showing top 20 rows</pre>"
      ],
      "text/plain": [
       "<IPython.core.display.HTML object>"
      ]
     },
     "metadata": {},
     "output_type": "display_data"
    }
   ],
   "source": [
    "%%pretty\n",
    "rs.show()"
   ]
  },
  {
   "cell_type": "code",
   "execution_count": 14,
   "id": "2faaacd2",
   "metadata": {},
   "outputs": [
    {
     "data": {
      "application/vnd.jupyter.widget-view+json": {
       "model_id": "",
       "version_major": 2,
       "version_minor": 0
      },
      "text/plain": [
       "FloatProgress(value=0.0, bar_style='info', description='Progress:', layout=Layout(height='25px', width='50%'),…"
      ]
     },
     "metadata": {},
     "output_type": "display_data"
    },
    {
     "name": "stdout",
     "output_type": "stream",
     "text": [
      "Column<b'text[6]'>"
     ]
    }
   ],
   "source": [
    "print(rs[6][6])"
   ]
  },
  {
   "cell_type": "code",
   "execution_count": 15,
   "id": "f09ba3da",
   "metadata": {
    "scrolled": true
   },
   "outputs": [
    {
     "data": {
      "application/vnd.jupyter.widget-view+json": {
       "model_id": "",
       "version_major": 2,
       "version_minor": 0
      },
      "text/plain": [
       "FloatProgress(value=0.0, bar_style='info', description='Progress:', layout=Layout(height='25px', width='50%'),…"
      ]
     },
     "metadata": {},
     "output_type": "display_data"
    },
    {
     "data": {
      "text/html": [
       "<table><tr><th>address</th><th>attributes</th><th>business_id</th><th>categories</th><th>city</th><th>hours</th><th>is_open</th><th>latitude</th><th>longitude</th><th>name</th><th>postal_code</th><th>review_count</th><th>stars</th><th>state</th></tr><tr><td>2818 E Camino Ace...</td><td>[,,,,,,,,,,,,,,,,...</td><td>1SWheh84yJXfytovI...</td><td>Golf, Active Life</td><td>Phoenix</td><td>null</td><td>0</td><td>33.5221425</td><td>-112.0184807</td><td>Arizona Biltmore ...</td><td>85016</td><td>5</td><td>3.0</td><td>AZ</td></tr><tr><td>30 Eglinton Avenue W</td><td>[,, u'full_bar', ...</td><td>QXAEGFB4oINsVuTFx...</td><td>Specialty Food, R...</td><td>Mississauga</td><td>[9:0-1:0, 9:0-0:0...</td><td>1</td><td>43.6054989743</td><td>-79.652288909</td><td>Emerald Chinese R...</td><td>L5R 3E7</td><td>128</td><td>2.5</td><td>ON</td></tr><tr><td>10110 Johnston Rd...</td><td>[,, u'beer_and_wi...</td><td>gnKjwL_1w79qoiV3I...</td><td>Sushi Bars, Resta...</td><td>Charlotte</td><td>[17:30-22:0, 17:3...</td><td>1</td><td>35.092564</td><td>-80.859132</td><td>Musashi Japanese ...</td><td>28210</td><td>170</td><td>4.0</td><td>NC</td></tr><tr><td>15655 W Roosevelt...</td><td>null</td><td>xvX2CttrVhyG2z1dF...</td><td>Insurance, Financ...</td><td>Goodyear</td><td>[8:0-17:0, 8:0-17...</td><td>1</td><td>33.4556129678</td><td>-112.3955963552</td><td>Farmers Insurance...</td><td>85338</td><td>3</td><td>5.0</td><td>AZ</td></tr><tr><td>4209 Stuart Andre...</td><td>[,,,,,,,, False, ...</td><td>HhyxOkGAM07SRYtlQ...</td><td>Plumbing, Shoppin...</td><td>Charlotte</td><td>[7:0-23:0, 7:0-23...</td><td>1</td><td>35.1900119</td><td>-80.8872232</td><td>Queen City Plumbing</td><td>28217</td><td>4</td><td>4.0</td><td>NC</td></tr><tr><td>Credit Valley Tow...</td><td>[,,,,,,,,,, {'gar...</td><td>68dUKd8_8liJ7in4a...</td><td>Shipping Centers,...</td><td>Mississauga</td><td>[9:0-19:0, 9:0-19...</td><td>1</td><td>43.5994753</td><td>-79.7115835</td><td>The UPS Store</td><td>L5V 0B1</td><td>3</td><td>2.5</td><td>ON</td></tr><tr><td>20 Douglas Woods ...</td><td>[,,,,,,,,,, {'gar...</td><td>5JucpCfHZltJh5r1J...</td><td>Beauty & Spas, Ha...</td><td>Calgary</td><td>null</td><td>1</td><td>50.9436456</td><td>-114.0018283</td><td>Edgeworxx Studio</td><td>T2Z 1K4</td><td>7</td><td>3.5</td><td>AB</td></tr><tr><td>4545 E Tropicana ...</td><td>[,,,,,,, False,, ...</td><td>gbQN7vr_caG_A1ugS...</td><td>Hair Salons, Hair...</td><td>Las Vegas</td><td>[10:0-19:0, 10:0-...</td><td>1</td><td>36.099872</td><td>-115.074574</td><td>Supercuts</td><td>89121</td><td>3</td><td>3.5</td><td>NV</td></tr><tr><td>5940 W Union Hill...</td><td>[,,,,,,, False,, ...</td><td>Y6iyemLX_oylRpnr3...</td><td>Nail Salons, Beau...</td><td>Glendale</td><td>[10:0-17:0,, 10:0...</td><td>0</td><td>33.6548146</td><td>-112.1885676</td><td>Vita Bella Fine D...</td><td>85308</td><td>8</td><td>5.0</td><td>AZ</td></tr><tr><td>21689 Lorain Rd</td><td>[False,,,,,,,,, T...</td><td>4GBVPIYRvzGh4K4Tk...</td><td>Beauty & Spas, Na...</td><td>Fairview Park</td><td>[9:0-19:0,, 9:0-1...</td><td>1</td><td>41.4408252653</td><td>-81.8540965503</td><td>Options Salon & Spa</td><td>44126</td><td>8</td><td>4.5</td><td>OH</td></tr><tr><td>1210 8th Street S...</td><td>[,,,,,,, False,,,...</td><td>fcXOEZdXYeZqnQ3lG...</td><td>Local Services, P...</td><td>Calgary</td><td>[9:0-17:0, 9:0-17...</td><td>1</td><td>51.041771</td><td>-114.081109</td><td>Nucleus Informati...</td><td>T2R 1L3</td><td>5</td><td>2.0</td><td>AB</td></tr><tr><td>2450 E Indian Sch...</td><td>[,, u'none', {'ro...</td><td>1Dfx3zM-rW4n-31Ke...</td><td>Restaurants, Brea...</td><td>Phoenix</td><td>[7:0-1:0, 7:0-0:0...</td><td>1</td><td>33.4951941</td><td>-112.0285876</td><td>Taco Bell</td><td>85016</td><td>18</td><td>3.0</td><td>AZ</td></tr><tr><td>119 Landings Dr, ...</td><td>[,, 'beer_and_win...</td><td>5t3KVdMnFgAYmSl1w...</td><td>Bars, Nightlife, ...</td><td>Mooresville</td><td>[10:0-1:0, 10:0-1...</td><td>1</td><td>35.5274098057</td><td>-80.8680032061</td><td>The Kilted Buffal...</td><td>28117</td><td>9</td><td>3.5</td><td>NC</td></tr><tr><td>5981 Andrews Rd</td><td>[,, u'none', None...</td><td>fweCYi8FmbJXHCqLn...</td><td>Italian, Restaura...</td><td>Mentor-on-the-Lake</td><td>[10:0-1:0, 10:0-0...</td><td>1</td><td>41.70852</td><td>-81.359556</td><td>Marco's Pizza</td><td>44060</td><td>16</td><td>4.0</td><td>OH</td></tr><tr><td>4145 Erie St</td><td>[,,,,,,,,, True, ...</td><td>-K4gAv8_vjx8-2Bxk...</td><td>Bakeries, Food</td><td>Willoughby</td><td>[11:0-17:0,, 10:0...</td><td>1</td><td>41.6398599</td><td>-81.4063963</td><td>Baby Cakes</td><td>44094</td><td>7</td><td>3.0</td><td>OH</td></tr><tr><td>1455 16th Avenue</td><td>[,,,,,,, True,,, ...</td><td>A98xW4qb7vOTguggH...</td><td>Fitness & Instruc...</td><td>Richmond Hill</td><td>[16:0-21:30, 16:0...</td><td>1</td><td>43.861502576</td><td>-79.3884991854</td><td>Hot Yoga Wellness</td><td>L4B 3G6</td><td>4</td><td>4.0</td><td>ON</td></tr><tr><td>4848 E Cactus Rd,...</td><td>[,,,,,,,,, True, ...</td><td>giC3pVVFxCRR89rAp...</td><td>Hair Stylists, Be...</td><td>Scottsdale</td><td>[8:0-17:0, 0:0-0:...</td><td>1</td><td>33.600071</td><td>-111.977371</td><td>Knot Salon</td><td>85254</td><td>5</td><td>5.0</td><td>AZ</td></tr><tr><td>1775 E Tropicana ...</td><td>[,, u'full_bar', ...</td><td>PZ-LZzSlhSe9utkQY...</td><td>Restaurants, Italian</td><td>Las Vegas</td><td>null</td><td>0</td><td>36.1000163</td><td>-115.1285285</td><td>Carluccio's Tivol...</td><td>89119</td><td>40</td><td>4.0</td><td>NV</td></tr><tr><td></td><td>[,,,,,,,,, True,,...</td><td>nh_kQ16QAoXWwqZ05...</td><td>Event Planning & ...</td><td>Las Vegas</td><td>[0:0-0:0, 0:0-0:0...</td><td>1</td><td>36.1165487</td><td>-115.0881146</td><td>Myron Hensel Phot...</td><td>89121</td><td>21</td><td>5.0</td><td>NV</td></tr><tr><td>445 King Street W...</td><td>[True,,,,,,,,,,, ...</td><td>zSpQmEBvRe3IhTUlM...</td><td>Trainers, Health ...</td><td>Toronto</td><td>[6:0-22:0, 6:0-22...</td><td>1</td><td>43.6450415</td><td>-79.3957986</td><td>Totum Life Science</td><td>M5V 1K4</td><td>23</td><td>4.0</td><td>ON</td></tr></table><br /><pre>only showing top 20 rows</pre>"
      ],
      "text/plain": [
       "<IPython.core.display.HTML object>"
      ]
     },
     "metadata": {},
     "output_type": "display_data"
    }
   ],
   "source": [
    "%%pretty\n",
    "bs.show()"
   ]
  },
  {
   "cell_type": "code",
   "execution_count": 7,
   "id": "4020760c",
   "metadata": {},
   "outputs": [
    {
     "data": {
      "application/vnd.jupyter.widget-view+json": {
       "model_id": "",
       "version_major": 2,
       "version_minor": 0
      },
      "text/plain": [
       "FloatProgress(value=0.0, bar_style='info', description='Progress:', layout=Layout(height='25px', width='50%'),…"
      ]
     },
     "metadata": {},
     "output_type": "display_data"
    }
   ],
   "source": [
    "bs.createOrReplaceTempView(\"bs_view\")\n",
    "rs.createOrReplaceTempView(\"rs_view\")"
   ]
  },
  {
   "cell_type": "code",
   "execution_count": 17,
   "id": "52f16508",
   "metadata": {
    "scrolled": false
   },
   "outputs": [
    {
     "data": {
      "application/vnd.jupyter.widget-view+json": {
       "model_id": "",
       "version_major": 2,
       "version_minor": 0
      },
      "text/plain": [
       "FloatProgress(value=0.0, bar_style='info', description='Progress:', layout=Layout(height='25px', width='50%'),…"
      ]
     },
     "metadata": {},
     "output_type": "display_data"
    },
    {
     "data": {
      "application/vnd.jupyter.widget-view+json": {
       "model_id": "5bbf6a69376e4f54af2f839e93e32ae2",
       "version_major": 2,
       "version_minor": 0
      },
      "text/plain": [
       "VBox(children=(HBox(children=(HTML(value='Type:'), Button(description='Table', layout=Layout(width='70px'), st…"
      ]
     },
     "metadata": {},
     "output_type": "display_data"
    },
    {
     "data": {
      "application/vnd.jupyter.widget-view+json": {
       "model_id": "28da7986b7c54d51ba5114bd9cb548b0",
       "version_major": 2,
       "version_minor": 0
      },
      "text/plain": [
       "Output()"
      ]
     },
     "metadata": {},
     "output_type": "display_data"
    }
   ],
   "source": [
    "%%sql\n",
    "\n",
    "select count(*) from bs_view"
   ]
  },
  {
   "cell_type": "code",
   "execution_count": 7,
   "id": "c1fcf862",
   "metadata": {
    "scrolled": false
   },
   "outputs": [
    {
     "data": {
      "application/vnd.jupyter.widget-view+json": {
       "model_id": "",
       "version_major": 2,
       "version_minor": 0
      },
      "text/plain": [
       "FloatProgress(value=0.0, bar_style='info', description='Progress:', layout=Layout(height='25px', width='50%'),…"
      ]
     },
     "metadata": {},
     "output_type": "display_data"
    }
   ],
   "source": []
  },
  {
   "cell_type": "code",
   "execution_count": 7,
   "id": "909336f4",
   "metadata": {},
   "outputs": [
    {
     "data": {
      "application/vnd.jupyter.widget-view+json": {
       "model_id": "",
       "version_major": 2,
       "version_minor": 0
      },
      "text/plain": [
       "FloatProgress(value=0.0, bar_style='info', description='Progress:', layout=Layout(height='25px', width='50%'),…"
      ]
     },
     "metadata": {},
     "output_type": "display_data"
    },
    {
     "data": {
      "application/vnd.jupyter.widget-view+json": {
       "model_id": "8a2458cb48e8496aa3e27021e929e65c",
       "version_major": 2,
       "version_minor": 0
      },
      "text/plain": [
       "VBox(children=(HBox(children=(HTML(value='Type:'), Button(description='Table', layout=Layout(width='70px'), st…"
      ]
     },
     "metadata": {},
     "output_type": "display_data"
    },
    {
     "data": {
      "application/vnd.jupyter.widget-view+json": {
       "model_id": "40a999f1ad954aa7aa9f819799921ee4",
       "version_major": 2,
       "version_minor": 0
      },
      "text/plain": [
       "Output()"
      ]
     },
     "metadata": {},
     "output_type": "display_data"
    }
   ],
   "source": [
    "%%sql\n",
    "\n",
    "select distinct bs.name, bs.stars, bs.review_count \n",
    "from bs_view as bs left join rs_view as rs on bs.business_id=rs.business_id\n",
    "where  bs.review_count > 1000 and bs.stars = 5.0"
   ]
  },
  {
   "cell_type": "code",
   "execution_count": 19,
   "id": "8e22d643",
   "metadata": {
    "scrolled": true
   },
   "outputs": [
    {
     "data": {
      "application/vnd.jupyter.widget-view+json": {
       "model_id": "",
       "version_major": 2,
       "version_minor": 0
      },
      "text/plain": [
       "FloatProgress(value=0.0, bar_style='info', description='Progress:', layout=Layout(height='25px', width='50%'),…"
      ]
     },
     "metadata": {},
     "output_type": "display_data"
    },
    {
     "name": "stdout",
     "output_type": "stream",
     "text": [
      "<class 'pyspark.sql.dataframe.DataFrame'>"
     ]
    }
   ],
   "source": [
    "type(bs)"
   ]
  },
  {
   "cell_type": "code",
   "execution_count": 21,
   "id": "b65f64f0",
   "metadata": {},
   "outputs": [
    {
     "data": {
      "application/vnd.jupyter.widget-view+json": {
       "model_id": "",
       "version_major": 2,
       "version_minor": 0
      },
      "text/plain": [
       "FloatProgress(value=0.0, bar_style='info', description='Progress:', layout=Layout(height='25px', width='50%'),…"
      ]
     },
     "metadata": {},
     "output_type": "display_data"
    },
    {
     "name": "stdout",
     "output_type": "stream",
     "text": [
      "[Row(max(review_count)=8348)]"
     ]
    }
   ],
   "source": [
    "bs.agg({\"review_count\": \"max\"}).collect()"
   ]
  },
  {
   "cell_type": "code",
   "execution_count": 8,
   "id": "3b073997",
   "metadata": {},
   "outputs": [
    {
     "data": {
      "application/vnd.jupyter.widget-view+json": {
       "model_id": "",
       "version_major": 2,
       "version_minor": 0
      },
      "text/plain": [
       "FloatProgress(value=0.0, bar_style='info', description='Progress:', layout=Layout(height='25px', width='50%'),…"
      ]
     },
     "metadata": {},
     "output_type": "display_data"
    },
    {
     "name": "stdout",
     "output_type": "stream",
     "text": [
      "<class 'list'>"
     ]
    }
   ],
   "source": [
    "%%pretty\n",
    "\n",
    "import pyspark.sql.functions as f  \n",
    "type(bs.agg(f.sum(\"review_count\")).collect())"
   ]
  },
  {
   "cell_type": "code",
   "execution_count": 23,
   "id": "437af994",
   "metadata": {},
   "outputs": [
    {
     "data": {
      "application/vnd.jupyter.widget-view+json": {
       "model_id": "",
       "version_major": 2,
       "version_minor": 0
      },
      "text/plain": [
       "FloatProgress(value=0.0, bar_style='info', description='Progress:', layout=Layout(height='25px', width='50%'),…"
      ]
     },
     "metadata": {},
     "output_type": "display_data"
    },
    {
     "name": "stdout",
     "output_type": "stream",
     "text": [
      "+-----------------+\n",
      "|sum(review_count)|\n",
      "+-----------------+\n",
      "|          6459906|\n",
      "+-----------------+"
     ]
    }
   ],
   "source": [
    "bs.agg(f.sum(\"review_count\")).show()"
   ]
  },
  {
   "cell_type": "code",
   "execution_count": 24,
   "id": "91d03d8f",
   "metadata": {},
   "outputs": [
    {
     "data": {
      "application/vnd.jupyter.widget-view+json": {
       "model_id": "",
       "version_major": 2,
       "version_minor": 0
      },
      "text/plain": [
       "FloatProgress(value=0.0, bar_style='info', description='Progress:', layout=Layout(height='25px', width='50%'),…"
      ]
     },
     "metadata": {},
     "output_type": "display_data"
    },
    {
     "name": "stdout",
     "output_type": "stream",
     "text": [
      "+-----------------+\n",
      "|sum(review_count)|\n",
      "+-----------------+\n",
      "|          6459906|\n",
      "+-----------------+"
     ]
    }
   ],
   "source": [
    "bs.groupBy().agg(f.sum(\"review_count\")).show()"
   ]
  },
  {
   "cell_type": "code",
   "execution_count": 25,
   "id": "45be979f",
   "metadata": {
    "scrolled": false
   },
   "outputs": [
    {
     "data": {
      "application/vnd.jupyter.widget-view+json": {
       "model_id": "",
       "version_major": 2,
       "version_minor": 0
      },
      "text/plain": [
       "FloatProgress(value=0.0, bar_style='info', description='Progress:', layout=Layout(height='25px', width='50%'),…"
      ]
     },
     "metadata": {},
     "output_type": "display_data"
    },
    {
     "name": "stdout",
     "output_type": "stream",
     "text": [
      "+---------------+-----+------------+\n",
      "|           name|stars|review_count|\n",
      "+---------------+-----+------------+\n",
      "|Little Miss BBQ|  5.0|        1936|\n",
      "|   Brew Tea Bar|  5.0|        1506|\n",
      "+---------------+-----+------------+"
     ]
    }
   ],
   "source": [
    "bs.filter(bs.review_count>=1000).filter(bs.stars== 5.0).select(\"name\",\"stars\",\"review_count\").show()"
   ]
  },
  {
   "cell_type": "code",
   "execution_count": 1,
   "id": "f77912ca",
   "metadata": {
    "scrolled": false
   },
   "outputs": [
    {
     "name": "stdout",
     "output_type": "stream",
     "text": [
      "Starting Spark application\n"
     ]
    },
    {
     "data": {
      "text/html": [
       "<table>\n",
       "<tr><th>ID</th><th>YARN Application ID</th><th>Kind</th><th>State</th><th>Spark UI</th><th>Driver log</th><th>User</th><th>Current session?</th></tr><tr><td>1437</td><td>application_1670501390673_0399</td><td>pyspark</td><td>idle</td><td><a target=\"_blank\" href=\"http://ambari0.local:8088/proxy/application_1670501390673_0399/\">Link</a></td><td><a target=\"_blank\" href=\"http://ambari3.local:8042/node/containerlogs/container_e17_1670501390673_0399_01_000001/livy\">Link</a></td><td>None</td><td>✔</td></tr></table>"
      ],
      "text/plain": [
       "<IPython.core.display.HTML object>"
      ]
     },
     "metadata": {},
     "output_type": "display_data"
    },
    {
     "data": {
      "application/vnd.jupyter.widget-view+json": {
       "model_id": "",
       "version_major": 2,
       "version_minor": 0
      },
      "text/plain": [
       "FloatProgress(value=0.0, bar_style='info', description='Progress:', layout=Layout(height='25px', width='50%'),…"
      ]
     },
     "metadata": {},
     "output_type": "display_data"
    },
    {
     "name": "stdout",
     "output_type": "stream",
     "text": [
      "SparkSession available as 'spark'.\n"
     ]
    },
    {
     "data": {
      "application/vnd.jupyter.widget-view+json": {
       "model_id": "",
       "version_major": 2,
       "version_minor": 0
      },
      "text/plain": [
       "FloatProgress(value=0.0, bar_style='info', description='Progress:', layout=Layout(height='25px', width='50%'),…"
      ]
     },
     "metadata": {},
     "output_type": "display_data"
    }
   ],
   "source": [
    "import pyspark"
   ]
  },
  {
   "cell_type": "code",
   "execution_count": 2,
   "id": "be8cf373",
   "metadata": {},
   "outputs": [
    {
     "data": {
      "application/vnd.jupyter.widget-view+json": {
       "model_id": "",
       "version_major": 2,
       "version_minor": 0
      },
      "text/plain": [
       "FloatProgress(value=0.0, bar_style='info', description='Progress:', layout=Layout(height='25px', width='50%'),…"
      ]
     },
     "metadata": {},
     "output_type": "display_data"
    }
   ],
   "source": [
    "bs = spark.read.json(\"/datasets/yelp/business.json\") \n",
    "rs = spark.read.json(\"/datasets/yelp/review.json\")\n",
    "us = spark.read.json(\"/datasets/yelp/user.json\")"
   ]
  },
  {
   "cell_type": "code",
   "execution_count": 3,
   "id": "cdc2c466",
   "metadata": {},
   "outputs": [
    {
     "data": {
      "application/vnd.jupyter.widget-view+json": {
       "model_id": "",
       "version_major": 2,
       "version_minor": 0
      },
      "text/plain": [
       "FloatProgress(value=0.0, bar_style='info', description='Progress:', layout=Layout(height='25px', width='50%'),…"
      ]
     },
     "metadata": {},
     "output_type": "display_data"
    }
   ],
   "source": [
    "bs.createOrReplaceTempView(\"bs_view\")\n",
    "rs.createOrReplaceTempView(\"rs_view\")"
   ]
  },
  {
   "cell_type": "code",
   "execution_count": 5,
   "id": "96a4b8f9",
   "metadata": {},
   "outputs": [
    {
     "data": {
      "application/vnd.jupyter.widget-view+json": {
       "model_id": "",
       "version_major": 2,
       "version_minor": 0
      },
      "text/plain": [
       "FloatProgress(value=0.0, bar_style='info', description='Progress:', layout=Layout(height='25px', width='50%'),…"
      ]
     },
     "metadata": {},
     "output_type": "display_data"
    },
    {
     "data": {
      "text/html": [
       "<table><tr><th>average_stars</th><th>compliment_cool</th><th>compliment_cute</th><th>compliment_funny</th><th>compliment_hot</th><th>compliment_list</th><th>compliment_more</th><th>compliment_note</th><th>compliment_photos</th><th>compliment_plain</th><th>compliment_profile</th><th>compliment_writer</th><th>cool</th><th>elite</th><th>fans</th><th>friends</th><th>funny</th><th>name</th><th>review_count</th><th>useful</th><th>user_id</th><th>yelping_since</th></tr><tr><td>4.03</td><td>1</td><td>0</td><td>1</td><td>2</td><td>0</td><td>0</td><td>1</td><td>0</td><td>1</td><td>0</td><td>2</td><td>25</td><td>2015,2016,2017</td><td>5</td><td>c78V-rj8NQcQjOI8K...</td><td>17</td><td>Rashmi</td><td>95</td><td>84</td><td>l6BmjZMeQD3rDxWUb...</td><td>2013-10-08 23:11:33</td></tr><tr><td>3.63</td><td>1</td><td>0</td><td>1</td><td>1</td><td>0</td><td>0</td><td>0</td><td>0</td><td>0</td><td>0</td><td>0</td><td>16</td><td></td><td>4</td><td>kEBTgDvFX754S68Fl...</td><td>22</td><td>Jenna</td><td>33</td><td>48</td><td>4XChL029mKr5hydo7...</td><td>2013-02-21 22:29:06</td></tr><tr><td>3.71</td><td>0</td><td>0</td><td>0</td><td>0</td><td>0</td><td>0</td><td>1</td><td>0</td><td>0</td><td>0</td><td>0</td><td>10</td><td></td><td>0</td><td>4N-HU_T32hLENLnts...</td><td>8</td><td>David</td><td>16</td><td>28</td><td>bc8C_eETBWL0olvFS...</td><td>2013-10-04 00:16:10</td></tr><tr><td>4.85</td><td>0</td><td>0</td><td>0</td><td>1</td><td>0</td><td>0</td><td>0</td><td>0</td><td>2</td><td>0</td><td>1</td><td>14</td><td></td><td>5</td><td>RZ6wS38wnlXyj-OOd...</td><td>4</td><td>Angela</td><td>17</td><td>30</td><td>dD0gZpBctWGdWo9Wl...</td><td>2014-05-22 15:57:30</td></tr><tr><td>4.08</td><td>80</td><td>0</td><td>80</td><td>28</td><td>1</td><td>1</td><td>16</td><td>5</td><td>57</td><td>0</td><td>25</td><td>665</td><td>2015,2016,2017,2018</td><td>39</td><td>mbwrZ-RS76V1HoJ0b...</td><td>279</td><td>Nancy</td><td>361</td><td>1114</td><td>MM4RJAeH6yuaN8oZD...</td><td>2013-10-23 07:02:50</td></tr></table><br /><pre>only showing top 5 rows</pre>"
      ],
      "text/plain": [
       "<IPython.core.display.HTML object>"
      ]
     },
     "metadata": {},
     "output_type": "display_data"
    }
   ],
   "source": [
    "%%pretty\n",
    "us.show(5)"
   ]
  },
  {
   "cell_type": "code",
   "execution_count": 4,
   "id": "8cb0ef82",
   "metadata": {
    "scrolled": true
   },
   "outputs": [
    {
     "data": {
      "application/vnd.jupyter.widget-view+json": {
       "model_id": "",
       "version_major": 2,
       "version_minor": 0
      },
      "text/plain": [
       "FloatProgress(value=0.0, bar_style='info', description='Progress:', layout=Layout(height='25px', width='50%'),…"
      ]
     },
     "metadata": {},
     "output_type": "display_data"
    },
    {
     "name": "stdout",
     "output_type": "stream",
     "text": [
      "+--------------------+\n",
      "|             user_id|\n",
      "+--------------------+\n",
      "|TEtzbpgA2BFBrC0y0...|\n",
      "|zzpgpo54-_P-4rzzB...|\n",
      "|eSlOI3GhroEtcbaD_...|\n",
      "|d7D4dYzF6THtOx9im...|\n",
      "|bURBDO2lgSrxnth2P...|\n",
      "|wQ0lKC5BMg3ZvCco8...|\n",
      "|U4INQZOPSUaj8hMjL...|\n",
      "|XkLK2iBsgqF6mWwDf...|\n",
      "|Ar3bat-NGasrXDiS7...|\n",
      "|fRJpK_b0rrjpBgRZj...|\n",
      "+--------------------+\n",
      "only showing top 10 rows"
     ]
    }
   ],
   "source": [
    "us_tmp = us.filter(us.review_count>1000).select(\"user_id\")\n",
    "us_tmp.show(10)"
   ]
  },
  {
   "cell_type": "code",
   "execution_count": 8,
   "id": "28794fbd",
   "metadata": {
    "scrolled": false
   },
   "outputs": [
    {
     "data": {
      "application/vnd.jupyter.widget-view+json": {
       "model_id": "",
       "version_major": 2,
       "version_minor": 0
      },
      "text/plain": [
       "FloatProgress(value=0.0, bar_style='info', description='Progress:', layout=Layout(height='25px', width='50%'),…"
      ]
     },
     "metadata": {},
     "output_type": "display_data"
    },
    {
     "name": "stdout",
     "output_type": "stream",
     "text": [
      "1420"
     ]
    }
   ],
   "source": [
    "us_tmp.count()"
   ]
  },
  {
   "cell_type": "code",
   "execution_count": 5,
   "id": "adef17a1",
   "metadata": {
    "scrolled": false
   },
   "outputs": [
    {
     "data": {
      "application/vnd.jupyter.widget-view+json": {
       "model_id": "",
       "version_major": 2,
       "version_minor": 0
      },
      "text/plain": [
       "FloatProgress(value=0.0, bar_style='info', description='Progress:', layout=Layout(height='25px', width='50%'),…"
      ]
     },
     "metadata": {},
     "output_type": "display_data"
    }
   ],
   "source": [
    "bs100 = bs.filter(bs.review_count>=100)"
   ]
  },
  {
   "cell_type": "code",
   "execution_count": 10,
   "id": "d74424ad",
   "metadata": {},
   "outputs": [
    {
     "data": {
      "application/vnd.jupyter.widget-view+json": {
       "model_id": "",
       "version_major": 2,
       "version_minor": 0
      },
      "text/plain": [
       "FloatProgress(value=0.0, bar_style='info', description='Progress:', layout=Layout(height='25px', width='50%'),…"
      ]
     },
     "metadata": {},
     "output_type": "display_data"
    },
    {
     "name": "stdout",
     "output_type": "stream",
     "text": [
      "13124"
     ]
    }
   ],
   "source": [
    "bs100.count()"
   ]
  },
  {
   "cell_type": "code",
   "execution_count": 14,
   "id": "e2be276b",
   "metadata": {
    "scrolled": false
   },
   "outputs": [
    {
     "data": {
      "application/vnd.jupyter.widget-view+json": {
       "model_id": "",
       "version_major": 2,
       "version_minor": 0
      },
      "text/plain": [
       "FloatProgress(value=0.0, bar_style='info', description='Progress:', layout=Layout(height='25px', width='50%'),…"
      ]
     },
     "metadata": {},
     "output_type": "display_data"
    },
    {
     "name": "stdout",
     "output_type": "stream",
     "text": [
      "6685900"
     ]
    }
   ],
   "source": [
    "rs.count()"
   ]
  },
  {
   "cell_type": "code",
   "execution_count": 6,
   "id": "b8b18d78",
   "metadata": {
    "scrolled": true
   },
   "outputs": [
    {
     "data": {
      "application/vnd.jupyter.widget-view+json": {
       "model_id": "",
       "version_major": 2,
       "version_minor": 0
      },
      "text/plain": [
       "FloatProgress(value=0.0, bar_style='info', description='Progress:', layout=Layout(height='25px', width='50%'),…"
      ]
     },
     "metadata": {},
     "output_type": "display_data"
    }
   ],
   "source": [
    "%%pretty\n",
    "\n",
    "q41 = rs.join(bs100, on=\"business_id\", how=\"inner\").join(us_tmp, on=\"user_id\", how=\"inner\").drop(bs.stars).select(\"name\",\"business_id\",\"review_id\",\"review_count\",\"longitude\",\"latitude\",\"city\",\"state\",\"categories\",\"text\",\"stars\")\n",
    "q41_distinct = q41.distinct()\n",
    "# q41_distinct.show(5)"
   ]
  },
  {
   "cell_type": "code",
   "execution_count": 9,
   "id": "903ae9db",
   "metadata": {
    "scrolled": true
   },
   "outputs": [
    {
     "data": {
      "application/vnd.jupyter.widget-view+json": {
       "model_id": "",
       "version_major": 2,
       "version_minor": 0
      },
      "text/plain": [
       "FloatProgress(value=0.0, bar_style='info', description='Progress:', layout=Layout(height='25px', width='50%'),…"
      ]
     },
     "metadata": {},
     "output_type": "display_data"
    },
    {
     "name": "stdout",
     "output_type": "stream",
     "text": [
      "74445"
     ]
    }
   ],
   "source": [
    "q41_distinct.count()"
   ]
  },
  {
   "cell_type": "code",
   "execution_count": 7,
   "id": "9d906c1b",
   "metadata": {
    "scrolled": true
   },
   "outputs": [
    {
     "data": {
      "application/vnd.jupyter.widget-view+json": {
       "model_id": "",
       "version_major": 2,
       "version_minor": 0
      },
      "text/plain": [
       "FloatProgress(value=0.0, bar_style='info', description='Progress:', layout=Layout(height='25px', width='50%'),…"
      ]
     },
     "metadata": {},
     "output_type": "display_data"
    }
   ],
   "source": [
    "from pyspark.sql.functions import count\n",
    "tool = q41_distinct.groupBy(\"business_id\").agg(count(\"*\").alias(\"count\"))"
   ]
  },
  {
   "cell_type": "code",
   "execution_count": 13,
   "id": "83dbb834",
   "metadata": {
    "scrolled": true
   },
   "outputs": [
    {
     "data": {
      "application/vnd.jupyter.widget-view+json": {
       "model_id": "c1577b21d1c042c1a565eab643d48309",
       "version_major": 2,
       "version_minor": 0
      },
      "text/plain": [
       "FloatProgress(value=0.0, bar_style='info', description='Progress:', layout=Layout(height='25px', width='50%'),…"
      ]
     },
     "metadata": {},
     "output_type": "display_data"
    },
    {
     "name": "stderr",
     "output_type": "stream",
     "text": [
      "An error was encountered:\n",
      "Invalid status code '400' from http://localhost:8765/sessions/1424/statements/13 with error payload: \"requirement failed: Session isn't active.\"\n"
     ]
    }
   ],
   "source": [
    "tool.show(5)"
   ]
  },
  {
   "cell_type": "code",
   "execution_count": 8,
   "id": "a4cf938a",
   "metadata": {
    "scrolled": true
   },
   "outputs": [
    {
     "data": {
      "application/vnd.jupyter.widget-view+json": {
       "model_id": "",
       "version_major": 2,
       "version_minor": 0
      },
      "text/plain": [
       "FloatProgress(value=0.0, bar_style='info', description='Progress:', layout=Layout(height='25px', width='50%'),…"
      ]
     },
     "metadata": {},
     "output_type": "display_data"
    }
   ],
   "source": [
    "tool = tool.filter(tool[1]>5)"
   ]
  },
  {
   "cell_type": "code",
   "execution_count": null,
   "id": "d03caeae",
   "metadata": {
    "scrolled": true
   },
   "outputs": [
    {
     "data": {
      "application/vnd.jupyter.widget-view+json": {
       "model_id": "38252568d2ef4bc7aeaf76da26bfb963",
       "version_major": 2,
       "version_minor": 0
      },
      "text/plain": [
       "FloatProgress(value=0.0, bar_style='info', description='Progress:', layout=Layout(height='25px', width='50%'),…"
      ]
     },
     "metadata": {},
     "output_type": "display_data"
    }
   ],
   "source": [
    "tool.count()"
   ]
  },
  {
   "cell_type": "code",
   "execution_count": 9,
   "id": "9c971d02",
   "metadata": {},
   "outputs": [
    {
     "data": {
      "application/vnd.jupyter.widget-view+json": {
       "model_id": "",
       "version_major": 2,
       "version_minor": 0
      },
      "text/plain": [
       "FloatProgress(value=0.0, bar_style='info', description='Progress:', layout=Layout(height='25px', width='50%'),…"
      ]
     },
     "metadata": {},
     "output_type": "display_data"
    }
   ],
   "source": [
    "inf5_rev100 = q41_distinct.join(tool, on=\"business_id\", how=\"inner\").drop(tool.business_id)"
   ]
  },
  {
   "cell_type": "code",
   "execution_count": 12,
   "id": "b2a8b0e7",
   "metadata": {
    "scrolled": false
   },
   "outputs": [
    {
     "data": {
      "application/vnd.jupyter.widget-view+json": {
       "model_id": "87d7337916cb4c15b3f1c4ae64d60c06",
       "version_major": 2,
       "version_minor": 0
      },
      "text/plain": [
       "FloatProgress(value=0.0, bar_style='info', description='Progress:', layout=Layout(height='25px', width='50%'),…"
      ]
     },
     "metadata": {},
     "output_type": "display_data"
    },
    {
     "name": "stderr",
     "output_type": "stream",
     "text": [
      "An error was encountered:\n",
      "Invalid status code '400' from http://localhost:8765/sessions/1418/statements/12 with error payload: \"requirement failed: Session isn't active.\"\n"
     ]
    }
   ],
   "source": [
    "%%pretty\n",
    "inf5_rev100.show(5)"
   ]
  },
  {
   "cell_type": "code",
   "execution_count": 13,
   "id": "7886de85",
   "metadata": {},
   "outputs": [
    {
     "data": {
      "application/vnd.jupyter.widget-view+json": {
       "model_id": "",
       "version_major": 2,
       "version_minor": 0
      },
      "text/plain": [
       "FloatProgress(value=0.0, bar_style='info', description='Progress:', layout=Layout(height='25px', width='50%'),…"
      ]
     },
     "metadata": {},
     "output_type": "display_data"
    },
    {
     "name": "stdout",
     "output_type": "stream",
     "text": [
      "61518"
     ]
    }
   ],
   "source": [
    "inf5_rev100.count()"
   ]
  },
  {
   "cell_type": "code",
   "execution_count": 10,
   "id": "f5f611b5",
   "metadata": {},
   "outputs": [
    {
     "data": {
      "application/vnd.jupyter.widget-view+json": {
       "model_id": "",
       "version_major": 2,
       "version_minor": 0
      },
      "text/plain": [
       "FloatProgress(value=0.0, bar_style='info', description='Progress:', layout=Layout(height='25px', width='50%'),…"
      ]
     },
     "metadata": {},
     "output_type": "display_data"
    }
   ],
   "source": [
    "inf5_rev100.createOrReplaceTempView(\"inf5_rev100\")"
   ]
  },
  {
   "cell_type": "code",
   "execution_count": 14,
   "id": "46242988",
   "metadata": {},
   "outputs": [
    {
     "data": {
      "application/vnd.jupyter.widget-view+json": {
       "model_id": "",
       "version_major": 2,
       "version_minor": 0
      },
      "text/plain": [
       "FloatProgress(value=0.0, bar_style='info', description='Progress:', layout=Layout(height='25px', width='50%'),…"
      ]
     },
     "metadata": {},
     "output_type": "display_data"
    }
   ],
   "source": [
    "NWDeveloping = spark.sql(\"select * from inf5_rev100 where (categories like '%Thai%')or(categories like '%Chinese%')or(categories like '%India%')or(categories like '%Mexican%') \")\n",
    "NWDeveloping.createOrReplaceTempView(\"NWDevelopingView\")\n",
    "NWDeveloped = spark.sql(\"select * from inf5_rev100 where (categories like '%Korean%')or(categories like '%Japan%')\")\n",
    "NWDeveloped.createOrReplaceTempView(\"NWDevelopedView\")\n",
    "WDeveloped = spark.sql(\"select * from inf5_rev100 where (categories like '%French%')or(categories like '%Italian%')or(categories like '%Mediterranean%')\")\n",
    "WDeveloped.createOrReplaceTempView(\"WDevelopedView\")"
   ]
  },
  {
   "cell_type": "code",
   "execution_count": 18,
   "id": "755a0e64",
   "metadata": {
    "scrolled": true
   },
   "outputs": [
    {
     "data": {
      "application/vnd.jupyter.widget-view+json": {
       "model_id": "",
       "version_major": 2,
       "version_minor": 0
      },
      "text/plain": [
       "FloatProgress(value=0.0, bar_style='info', description='Progress:', layout=Layout(height='25px', width='50%'),…"
      ]
     },
     "metadata": {},
     "output_type": "display_data"
    },
    {
     "data": {
      "application/vnd.jupyter.widget-view+json": {
       "model_id": "cd79f46a4e124fa6b74da026b754bab3",
       "version_major": 2,
       "version_minor": 0
      },
      "text/plain": [
       "VBox(children=(HBox(children=(HTML(value='Type:'), Button(description='Table', layout=Layout(width='70px'), st…"
      ]
     },
     "metadata": {},
     "output_type": "display_data"
    },
    {
     "data": {
      "application/vnd.jupyter.widget-view+json": {
       "model_id": "9b5cadf9a7bc40dfba1c9cdd24ac8352",
       "version_major": 2,
       "version_minor": 0
      },
      "text/plain": [
       "Output()"
      ]
     },
     "metadata": {},
     "output_type": "display_data"
    }
   ],
   "source": [
    "%%sql\n",
    "select count(*) from NWDevelopingView\n",
    "where (text like '%authen%') or (text like '%legitimate%')"
   ]
  },
  {
   "cell_type": "code",
   "execution_count": 19,
   "id": "19471d0b",
   "metadata": {
    "scrolled": true
   },
   "outputs": [
    {
     "data": {
      "application/vnd.jupyter.widget-view+json": {
       "model_id": "",
       "version_major": 2,
       "version_minor": 0
      },
      "text/plain": [
       "FloatProgress(value=0.0, bar_style='info', description='Progress:', layout=Layout(height='25px', width='50%'),…"
      ]
     },
     "metadata": {},
     "output_type": "display_data"
    },
    {
     "data": {
      "application/vnd.jupyter.widget-view+json": {
       "model_id": "6b09e455338a4760a975dbe399523369",
       "version_major": 2,
       "version_minor": 0
      },
      "text/plain": [
       "VBox(children=(HBox(children=(HTML(value='Type:'), Button(description='Table', layout=Layout(width='70px'), st…"
      ]
     },
     "metadata": {},
     "output_type": "display_data"
    },
    {
     "data": {
      "application/vnd.jupyter.widget-view+json": {
       "model_id": "66c8cd5af2704997b3d833606c495f8d",
       "version_major": 2,
       "version_minor": 0
      },
      "text/plain": [
       "Output()"
      ]
     },
     "metadata": {},
     "output_type": "display_data"
    }
   ],
   "source": [
    "%%sql\n",
    "\n",
    "select stars,count(stars) from NWDevelopingView\n",
    "where (text like '%authen%') or (text like '%legitimate%')\n",
    "group by stars\n",
    "order by stars"
   ]
  },
  {
   "cell_type": "code",
   "execution_count": 32,
   "id": "ed966a0a",
   "metadata": {},
   "outputs": [
    {
     "data": {
      "application/vnd.jupyter.widget-view+json": {
       "model_id": "",
       "version_major": 2,
       "version_minor": 0
      },
      "text/plain": [
       "FloatProgress(value=0.0, bar_style='info', description='Progress:', layout=Layout(height='25px', width='50%'),…"
      ]
     },
     "metadata": {},
     "output_type": "display_data"
    },
    {
     "name": "stdout",
     "output_type": "stream",
     "text": [
      "0.6895522388059702"
     ]
    }
   ],
   "source": [
    "(167+64)/335"
   ]
  },
  {
   "cell_type": "code",
   "execution_count": 20,
   "id": "e28473b5",
   "metadata": {},
   "outputs": [
    {
     "data": {
      "application/vnd.jupyter.widget-view+json": {
       "model_id": "",
       "version_major": 2,
       "version_minor": 0
      },
      "text/plain": [
       "FloatProgress(value=0.0, bar_style='info', description='Progress:', layout=Layout(height='25px', width='50%'),…"
      ]
     },
     "metadata": {},
     "output_type": "display_data"
    },
    {
     "data": {
      "application/vnd.jupyter.widget-view+json": {
       "model_id": "e9c7832b9bf54a6c884672d2e6f51a0f",
       "version_major": 2,
       "version_minor": 0
      },
      "text/plain": [
       "VBox(children=(HBox(children=(HTML(value='Type:'), Button(description='Table', layout=Layout(width='70px'), st…"
      ]
     },
     "metadata": {},
     "output_type": "display_data"
    },
    {
     "data": {
      "application/vnd.jupyter.widget-view+json": {
       "model_id": "0a305d8e61614adaae9fbf7220e58d03",
       "version_major": 2,
       "version_minor": 0
      },
      "text/plain": [
       "Output()"
      ]
     },
     "metadata": {},
     "output_type": "display_data"
    }
   ],
   "source": [
    "%%sql\n",
    "select count(*) from NWDevelopedView\n",
    "where (text like '%authen%') or (text like '%legitimate%')"
   ]
  },
  {
   "cell_type": "code",
   "execution_count": 21,
   "id": "c10dc0d0",
   "metadata": {},
   "outputs": [
    {
     "data": {
      "application/vnd.jupyter.widget-view+json": {
       "model_id": "",
       "version_major": 2,
       "version_minor": 0
      },
      "text/plain": [
       "FloatProgress(value=0.0, bar_style='info', description='Progress:', layout=Layout(height='25px', width='50%'),…"
      ]
     },
     "metadata": {},
     "output_type": "display_data"
    },
    {
     "data": {
      "application/vnd.jupyter.widget-view+json": {
       "model_id": "d216b17b427944c98e57375d4c9ffed1",
       "version_major": 2,
       "version_minor": 0
      },
      "text/plain": [
       "VBox(children=(HBox(children=(HTML(value='Type:'), Button(description='Table', layout=Layout(width='70px'), st…"
      ]
     },
     "metadata": {},
     "output_type": "display_data"
    },
    {
     "data": {
      "application/vnd.jupyter.widget-view+json": {
       "model_id": "dcc0c52d71144a3eae0d334daa776f9f",
       "version_major": 2,
       "version_minor": 0
      },
      "text/plain": [
       "Output()"
      ]
     },
     "metadata": {},
     "output_type": "display_data"
    }
   ],
   "source": [
    "%%sql\n",
    "\n",
    "select stars,count(stars) from NWDevelopedView\n",
    "where (text like '%authen%') or (text like '%legitimate%')\n",
    "group by stars\n",
    "order by stars"
   ]
  },
  {
   "cell_type": "code",
   "execution_count": 33,
   "id": "40a54257",
   "metadata": {},
   "outputs": [
    {
     "data": {
      "application/vnd.jupyter.widget-view+json": {
       "model_id": "",
       "version_major": 2,
       "version_minor": 0
      },
      "text/plain": [
       "FloatProgress(value=0.0, bar_style='info', description='Progress:', layout=Layout(height='25px', width='50%'),…"
      ]
     },
     "metadata": {},
     "output_type": "display_data"
    },
    {
     "name": "stdout",
     "output_type": "stream",
     "text": [
      "0.6923076923076923"
     ]
    }
   ],
   "source": [
    "(46+26)/104"
   ]
  },
  {
   "cell_type": "code",
   "execution_count": 22,
   "id": "b5ce6e16",
   "metadata": {},
   "outputs": [
    {
     "data": {
      "application/vnd.jupyter.widget-view+json": {
       "model_id": "",
       "version_major": 2,
       "version_minor": 0
      },
      "text/plain": [
       "FloatProgress(value=0.0, bar_style='info', description='Progress:', layout=Layout(height='25px', width='50%'),…"
      ]
     },
     "metadata": {},
     "output_type": "display_data"
    },
    {
     "data": {
      "application/vnd.jupyter.widget-view+json": {
       "model_id": "0805a4ed10a84309ac1f6e84b01c8601",
       "version_major": 2,
       "version_minor": 0
      },
      "text/plain": [
       "VBox(children=(HBox(children=(HTML(value='Type:'), Button(description='Table', layout=Layout(width='70px'), st…"
      ]
     },
     "metadata": {},
     "output_type": "display_data"
    },
    {
     "data": {
      "application/vnd.jupyter.widget-view+json": {
       "model_id": "448117dad1504163b23e49f0eb0381d4",
       "version_major": 2,
       "version_minor": 0
      },
      "text/plain": [
       "Output()"
      ]
     },
     "metadata": {},
     "output_type": "display_data"
    }
   ],
   "source": [
    "%%sql\n",
    "select count(*) from WDevelopedView\n",
    "where (text like '%authen%') or (text like '%legitimate%')"
   ]
  },
  {
   "cell_type": "code",
   "execution_count": 31,
   "id": "04646a7e",
   "metadata": {},
   "outputs": [
    {
     "data": {
      "application/vnd.jupyter.widget-view+json": {
       "model_id": "",
       "version_major": 2,
       "version_minor": 0
      },
      "text/plain": [
       "FloatProgress(value=0.0, bar_style='info', description='Progress:', layout=Layout(height='25px', width='50%'),…"
      ]
     },
     "metadata": {},
     "output_type": "display_data"
    },
    {
     "data": {
      "application/vnd.jupyter.widget-view+json": {
       "model_id": "4ef10583886947edb444580269015748",
       "version_major": 2,
       "version_minor": 0
      },
      "text/plain": [
       "VBox(children=(HBox(children=(HTML(value='Type:'), Button(description='Table', layout=Layout(width='70px'), st…"
      ]
     },
     "metadata": {},
     "output_type": "display_data"
    },
    {
     "data": {
      "application/vnd.jupyter.widget-view+json": {
       "model_id": "ad683f79940d4d4e9711605d5b605217",
       "version_major": 2,
       "version_minor": 0
      },
      "text/plain": [
       "Output()"
      ]
     },
     "metadata": {},
     "output_type": "display_data"
    }
   ],
   "source": [
    "%%sql\n",
    "\n",
    "select stars,count(stars) from WDevelopedView\n",
    "where (text like '%authen%') or (text like '%legitimate%')\n",
    "group by stars\n",
    "order by stars"
   ]
  },
  {
   "cell_type": "code",
   "execution_count": 29,
   "id": "91983ba4",
   "metadata": {},
   "outputs": [
    {
     "data": {
      "application/vnd.jupyter.widget-view+json": {
       "model_id": "",
       "version_major": 2,
       "version_minor": 0
      },
      "text/plain": [
       "FloatProgress(value=0.0, bar_style='info', description='Progress:', layout=Layout(height='25px', width='50%'),…"
      ]
     },
     "metadata": {},
     "output_type": "display_data"
    },
    {
     "name": "stdout",
     "output_type": "stream",
     "text": [
      "0.7868852459016393"
     ]
    }
   ],
   "source": [
    "(45+51)/122"
   ]
  },
  {
   "cell_type": "code",
   "execution_count": 24,
   "id": "b09e324f",
   "metadata": {
    "scrolled": true
   },
   "outputs": [
    {
     "data": {
      "application/vnd.jupyter.widget-view+json": {
       "model_id": "",
       "version_major": 2,
       "version_minor": 0
      },
      "text/plain": [
       "FloatProgress(value=0.0, bar_style='info', description='Progress:', layout=Layout(height='25px', width='50%'),…"
      ]
     },
     "metadata": {},
     "output_type": "display_data"
    },
    {
     "data": {
      "application/vnd.jupyter.widget-view+json": {
       "model_id": "a79f2ee6c89140bfa1d55d9d02923e0e",
       "version_major": 2,
       "version_minor": 0
      },
      "text/plain": [
       "VBox(children=(HBox(children=(HTML(value='Type:'), Button(description='Table', layout=Layout(width='70px'), st…"
      ]
     },
     "metadata": {},
     "output_type": "display_data"
    },
    {
     "data": {
      "application/vnd.jupyter.widget-view+json": {
       "model_id": "d5dd5fb7a02c4369a0297b9e272eb692",
       "version_major": 2,
       "version_minor": 0
      },
      "text/plain": [
       "Output()"
      ]
     },
     "metadata": {},
     "output_type": "display_data"
    }
   ],
   "source": [
    "%%sql\n",
    "\n",
    "select stars,count(stars) from NWDevelopingView\n",
    "where (text like '%authen%') and((text like '%dirty%')or(text like '%kitsch%')or(text like '%cheap%')or(text like '%rude%')or(text like 'bad'))\n",
    "group by stars\n",
    "order by stars"
   ]
  },
  {
   "cell_type": "code",
   "execution_count": 34,
   "id": "cfe77aef",
   "metadata": {},
   "outputs": [
    {
     "data": {
      "application/vnd.jupyter.widget-view+json": {
       "model_id": "",
       "version_major": 2,
       "version_minor": 0
      },
      "text/plain": [
       "FloatProgress(value=0.0, bar_style='info', description='Progress:', layout=Layout(height='25px', width='50%'),…"
      ]
     },
     "metadata": {},
     "output_type": "display_data"
    },
    {
     "name": "stdout",
     "output_type": "stream",
     "text": [
      "0.12835820895522387"
     ]
    }
   ],
   "source": [
    "(3+2+8+23+7)/335"
   ]
  },
  {
   "cell_type": "code",
   "execution_count": 35,
   "id": "bd85294d",
   "metadata": {},
   "outputs": [
    {
     "data": {
      "application/vnd.jupyter.widget-view+json": {
       "model_id": "",
       "version_major": 2,
       "version_minor": 0
      },
      "text/plain": [
       "FloatProgress(value=0.0, bar_style='info', description='Progress:', layout=Layout(height='25px', width='50%'),…"
      ]
     },
     "metadata": {},
     "output_type": "display_data"
    },
    {
     "name": "stdout",
     "output_type": "stream",
     "text": [
      "0.3023255813953488"
     ]
    }
   ],
   "source": [
    "(3+2+8)/(3+2+8+23+7)"
   ]
  },
  {
   "cell_type": "code",
   "execution_count": 25,
   "id": "50d7c0a3",
   "metadata": {
    "scrolled": true
   },
   "outputs": [
    {
     "data": {
      "application/vnd.jupyter.widget-view+json": {
       "model_id": "",
       "version_major": 2,
       "version_minor": 0
      },
      "text/plain": [
       "FloatProgress(value=0.0, bar_style='info', description='Progress:', layout=Layout(height='25px', width='50%'),…"
      ]
     },
     "metadata": {},
     "output_type": "display_data"
    },
    {
     "data": {
      "application/vnd.jupyter.widget-view+json": {
       "model_id": "e7f815407b144e9f845186a2524ea035",
       "version_major": 2,
       "version_minor": 0
      },
      "text/plain": [
       "VBox(children=(HBox(children=(HTML(value='Type:'), Button(description='Table', layout=Layout(width='70px'), st…"
      ]
     },
     "metadata": {},
     "output_type": "display_data"
    },
    {
     "data": {
      "application/vnd.jupyter.widget-view+json": {
       "model_id": "77b280cd5cf24c04aec9f25f7133e6d7",
       "version_major": 2,
       "version_minor": 0
      },
      "text/plain": [
       "Output()"
      ]
     },
     "metadata": {},
     "output_type": "display_data"
    }
   ],
   "source": [
    "%%sql\n",
    "\n",
    "select stars,count(stars) from NWDevelopedView\n",
    "where (text like '%authen%') and((text like '%dirty%')or(text like '%kitsch%')or(text like '%cheap%')or(text like '%rude%')or(text like 'bad'))\n",
    "group by stars\n",
    "order by stars"
   ]
  },
  {
   "cell_type": "code",
   "execution_count": 19,
   "id": "90265dc8",
   "metadata": {},
   "outputs": [
    {
     "data": {
      "application/vnd.jupyter.widget-view+json": {
       "model_id": "",
       "version_major": 2,
       "version_minor": 0
      },
      "text/plain": [
       "FloatProgress(value=0.0, bar_style='info', description='Progress:', layout=Layout(height='25px', width='50%'),…"
      ]
     },
     "metadata": {},
     "output_type": "display_data"
    },
    {
     "name": "stdout",
     "output_type": "stream",
     "text": [
      "0.09615384615384616"
     ]
    }
   ],
   "source": [
    "(1+5+3+1)/104"
   ]
  },
  {
   "cell_type": "code",
   "execution_count": 39,
   "id": "e1571c44",
   "metadata": {},
   "outputs": [
    {
     "data": {
      "application/vnd.jupyter.widget-view+json": {
       "model_id": "",
       "version_major": 2,
       "version_minor": 0
      },
      "text/plain": [
       "FloatProgress(value=0.0, bar_style='info', description='Progress:', layout=Layout(height='25px', width='50%'),…"
      ]
     },
     "metadata": {},
     "output_type": "display_data"
    },
    {
     "name": "stdout",
     "output_type": "stream",
     "text": [
      "0.1"
     ]
    }
   ],
   "source": [
    "1/(1+5+3+1)"
   ]
  },
  {
   "cell_type": "code",
   "execution_count": 26,
   "id": "111e2b55",
   "metadata": {
    "scrolled": true
   },
   "outputs": [
    {
     "data": {
      "application/vnd.jupyter.widget-view+json": {
       "model_id": "",
       "version_major": 2,
       "version_minor": 0
      },
      "text/plain": [
       "FloatProgress(value=0.0, bar_style='info', description='Progress:', layout=Layout(height='25px', width='50%'),…"
      ]
     },
     "metadata": {},
     "output_type": "display_data"
    },
    {
     "data": {
      "application/vnd.jupyter.widget-view+json": {
       "model_id": "e1c7b747a1ee4f4eb1e1b92e3a285e0b",
       "version_major": 2,
       "version_minor": 0
      },
      "text/plain": [
       "VBox(children=(HBox(children=(HTML(value='Type:'), Button(description='Table', layout=Layout(width='70px'), st…"
      ]
     },
     "metadata": {},
     "output_type": "display_data"
    },
    {
     "data": {
      "application/vnd.jupyter.widget-view+json": {
       "model_id": "04706bd43801478489f135c581e3d9af",
       "version_major": 2,
       "version_minor": 0
      },
      "text/plain": [
       "Output()"
      ]
     },
     "metadata": {},
     "output_type": "display_data"
    }
   ],
   "source": [
    "%%sql\n",
    "\n",
    "select stars,count(stars) from WDevelopedView\n",
    "where (text like '%authen%') and((text like '%dirty%')or(text like '%kitsch%')or(text like '%cheap%')or(text like '%rude%')or(text like 'bad'))\n",
    "group by stars\n",
    "order by stars"
   ]
  },
  {
   "cell_type": "code",
   "execution_count": 24,
   "id": "9f717101",
   "metadata": {},
   "outputs": [
    {
     "data": {
      "application/vnd.jupyter.widget-view+json": {
       "model_id": "",
       "version_major": 2,
       "version_minor": 0
      },
      "text/plain": [
       "FloatProgress(value=0.0, bar_style='info', description='Progress:', layout=Layout(height='25px', width='50%'),…"
      ]
     },
     "metadata": {},
     "output_type": "display_data"
    },
    {
     "name": "stdout",
     "output_type": "stream",
     "text": [
      "0.05737704918032787"
     ]
    }
   ],
   "source": [
    "(1+3+3)/122"
   ]
  },
  {
   "cell_type": "code",
   "execution_count": 20,
   "id": "237fdc59",
   "metadata": {},
   "outputs": [
    {
     "data": {
      "application/vnd.jupyter.widget-view+json": {
       "model_id": "",
       "version_major": 2,
       "version_minor": 0
      },
      "text/plain": [
       "FloatProgress(value=0.0, bar_style='info', description='Progress:', layout=Layout(height='25px', width='50%'),…"
      ]
     },
     "metadata": {},
     "output_type": "display_data"
    },
    {
     "name": "stdout",
     "output_type": "stream",
     "text": [
      "0.14285714285714285"
     ]
    }
   ],
   "source": [
    "1/7"
   ]
  },
  {
   "cell_type": "code",
   "execution_count": null,
   "id": "dd7c040d",
   "metadata": {},
   "outputs": [],
   "source": [
    "bs200 = bs.filter(bs.review_count>=200)"
   ]
  },
  {
   "cell_type": "code",
   "execution_count": 20,
   "id": "f4862c66",
   "metadata": {},
   "outputs": [
    {
     "data": {
      "application/vnd.jupyter.widget-view+json": {
       "model_id": "",
       "version_major": 2,
       "version_minor": 0
      },
      "text/plain": [
       "FloatProgress(value=0.0, bar_style='info', description='Progress:', layout=Layout(height='25px', width='50%'),…"
      ]
     },
     "metadata": {},
     "output_type": "display_data"
    },
    {
     "data": {
      "application/vnd.jupyter.widget-view+json": {
       "model_id": "67fc0ea5d3b048658ad5a3627062ec93",
       "version_major": 2,
       "version_minor": 0
      },
      "text/plain": [
       "VBox(children=(HBox(children=(HTML(value='Type:'), Button(description='Table', layout=Layout(width='70px'), st…"
      ]
     },
     "metadata": {},
     "output_type": "display_data"
    },
    {
     "data": {
      "application/vnd.jupyter.widget-view+json": {
       "model_id": "e9640e12d28e42fc83ce0775bf980591",
       "version_major": 2,
       "version_minor": 0
      },
      "text/plain": [
       "Output()"
      ]
     },
     "metadata": {},
     "output_type": "display_data"
    }
   ],
   "source": [
    "%%sql\n",
    "select count(*) from Chinese\n",
    "where text like '%authen%' and stars > 4"
   ]
  },
  {
   "cell_type": "code",
   "execution_count": 21,
   "id": "f08b8772",
   "metadata": {},
   "outputs": [
    {
     "data": {
      "application/vnd.jupyter.widget-view+json": {
       "model_id": "",
       "version_major": 2,
       "version_minor": 0
      },
      "text/plain": [
       "FloatProgress(value=0.0, bar_style='info', description='Progress:', layout=Layout(height='25px', width='50%'),…"
      ]
     },
     "metadata": {},
     "output_type": "display_data"
    },
    {
     "data": {
      "application/vnd.jupyter.widget-view+json": {
       "model_id": "3f0a238aabea42b490f4d412986d9184",
       "version_major": 2,
       "version_minor": 0
      },
      "text/plain": [
       "VBox(children=(HBox(children=(HTML(value='Type:'), Button(description='Table', layout=Layout(width='70px'), st…"
      ]
     },
     "metadata": {},
     "output_type": "display_data"
    },
    {
     "data": {
      "application/vnd.jupyter.widget-view+json": {
       "model_id": "f0d20656862748f2a2faf7f1614d44b9",
       "version_major": 2,
       "version_minor": 0
      },
      "text/plain": [
       "Output()"
      ]
     },
     "metadata": {},
     "output_type": "display_data"
    }
   ],
   "source": [
    "%%sql\n",
    "select count(*) from Chinese\n",
    "where text like '%authen%' "
   ]
  },
  {
   "cell_type": "code",
   "execution_count": 51,
   "id": "14d8934c",
   "metadata": {},
   "outputs": [
    {
     "data": {
      "application/vnd.jupyter.widget-view+json": {
       "model_id": "",
       "version_major": 2,
       "version_minor": 0
      },
      "text/plain": [
       "FloatProgress(value=0.0, bar_style='info', description='Progress:', layout=Layout(height='25px', width='50%'),…"
      ]
     },
     "metadata": {},
     "output_type": "display_data"
    }
   ],
   "source": [
    "cat = bs1000.select(\"categories\").distinct()"
   ]
  },
  {
   "cell_type": "code",
   "execution_count": 57,
   "id": "6f4dab22",
   "metadata": {
    "scrolled": true
   },
   "outputs": [
    {
     "data": {
      "application/vnd.jupyter.widget-view+json": {
       "model_id": "",
       "version_major": 2,
       "version_minor": 0
      },
      "text/plain": [
       "FloatProgress(value=0.0, bar_style='info', description='Progress:', layout=Layout(height='25px', width='50%'),…"
      ]
     },
     "metadata": {},
     "output_type": "display_data"
    },
    {
     "name": "stdout",
     "output_type": "stream",
     "text": [
      "+--------------------+\n",
      "|          categories|\n",
      "+--------------------+\n",
      "|Event Planning & ...|\n",
      "|American (New), B...|\n",
      "|Restaurants, Even...|\n",
      "|Breakfast & Brunc...|\n",
      "|Vegan, Restaurant...|\n",
      "|Sandwiches, Resta...|\n",
      "|Car Dealers, Nigh...|\n",
      "|Casinos, Event Pl...|\n",
      "|Restaurants, Sush...|\n",
      "|Mexican, Nightlif...|\n",
      "|Bars, Restaurants...|\n",
      "|Burgers, Restaura...|\n",
      "|Breakfast & Brunc...|\n",
      "|Resorts, Event Pl...|\n",
      "|Barbeque, Pizza, ...|\n",
      "|Delis, Coffee & T...|\n",
      "|Asian Fusion, Nig...|\n",
      "|Vegetarian, Bars,...|\n",
      "|Steakhouses, Amer...|\n",
      "|Italian, Restaurants|\n",
      "+--------------------+\n",
      "only showing top 20 rows"
     ]
    }
   ],
   "source": [
    "cat.show()"
   ]
  },
  {
   "cell_type": "code",
   "execution_count": 56,
   "id": "390d3923",
   "metadata": {
    "scrolled": true
   },
   "outputs": [
    {
     "data": {
      "application/vnd.jupyter.widget-view+json": {
       "model_id": "",
       "version_major": 2,
       "version_minor": 0
      },
      "text/plain": [
       "FloatProgress(value=0.0, bar_style='info', description='Progress:', layout=Layout(height='25px', width='50%'),…"
      ]
     },
     "metadata": {},
     "output_type": "display_data"
    },
    {
     "name": "stdout",
     "output_type": "stream",
     "text": [
      "344"
     ]
    }
   ],
   "source": [
    "cat.count()"
   ]
  },
  {
   "cell_type": "code",
   "execution_count": null,
   "id": "2dc912dd",
   "metadata": {},
   "outputs": [],
   "source": []
  },
  {
   "cell_type": "code",
   "execution_count": null,
   "id": "da1238ac",
   "metadata": {},
   "outputs": [],
   "source": []
  },
  {
   "cell_type": "code",
   "execution_count": null,
   "id": "0c619237",
   "metadata": {},
   "outputs": [],
   "source": [
    "Ame"
   ]
  },
  {
   "cell_type": "code",
   "execution_count": 37,
   "id": "499b3424",
   "metadata": {
    "scrolled": false
   },
   "outputs": [
    {
     "data": {
      "application/vnd.jupyter.widget-view+json": {
       "model_id": "",
       "version_major": 2,
       "version_minor": 0
      },
      "text/plain": [
       "FloatProgress(value=0.0, bar_style='info', description='Progress:', layout=Layout(height='25px', width='50%'),…"
      ]
     },
     "metadata": {},
     "output_type": "display_data"
    }
   ],
   "source": [
    "q5 = us.join(rs, on=\"user_id\", how=\"inner\").select(\"name\",\"user_id\",\"stars\")"
   ]
  },
  {
   "cell_type": "code",
   "execution_count": 38,
   "id": "4d81ece1",
   "metadata": {},
   "outputs": [
    {
     "data": {
      "application/vnd.jupyter.widget-view+json": {
       "model_id": "",
       "version_major": 2,
       "version_minor": 0
      },
      "text/plain": [
       "FloatProgress(value=0.0, bar_style='info', description='Progress:', layout=Layout(height='25px', width='50%'),…"
      ]
     },
     "metadata": {},
     "output_type": "display_data"
    }
   ],
   "source": [
    "q5 = q5.groupBy('user_id').agg({'stars': 'mean'})"
   ]
  },
  {
   "cell_type": "code",
   "execution_count": 39,
   "id": "4d2cd144",
   "metadata": {},
   "outputs": [
    {
     "data": {
      "application/vnd.jupyter.widget-view+json": {
       "model_id": "",
       "version_major": 2,
       "version_minor": 0
      },
      "text/plain": [
       "FloatProgress(value=0.0, bar_style='info', description='Progress:', layout=Layout(height='25px', width='50%'),…"
      ]
     },
     "metadata": {},
     "output_type": "display_data"
    },
    {
     "name": "stdout",
     "output_type": "stream",
     "text": [
      "+--------------------+----------+\n",
      "|             user_id|avg(stars)|\n",
      "+--------------------+----------+\n",
      "|--CJT4d-S8UhwqHe0...|       2.5|\n",
      "+--------------------+----------+\n",
      "only showing top 1 row"
     ]
    }
   ],
   "source": [
    "q5.show(1)"
   ]
  },
  {
   "cell_type": "code",
   "execution_count": 40,
   "id": "de7845b8",
   "metadata": {},
   "outputs": [
    {
     "data": {
      "application/vnd.jupyter.widget-view+json": {
       "model_id": "",
       "version_major": 2,
       "version_minor": 0
      },
      "text/plain": [
       "FloatProgress(value=0.0, bar_style='info', description='Progress:', layout=Layout(height='25px', width='50%'),…"
      ]
     },
     "metadata": {},
     "output_type": "display_data"
    },
    {
     "name": "stdout",
     "output_type": "stream",
     "text": [
      "+--------------------+----------+\n",
      "|             user_id|avg(stars)|\n",
      "+--------------------+----------+\n",
      "|-QiFLgn_jBdTFcwka...|       5.0|\n",
      "|-ia1ApLFMIbMjF4r3...|       5.0|\n",
      "|-SgOh8RYz3m7TFvzS...|       5.0|\n",
      "|-2Pb5d2WBPtbyGT_b...|       5.0|\n",
      "|-Td75XKN_e1oMeO_z...|       5.0|\n",
      "|-47g7LR58tpHlm7Bm...|       5.0|\n",
      "|-X-jwVP89CGEkv2fF...|       5.0|\n",
      "|-9aj4KK4lLzoP33E5...|       5.0|\n",
      "|-XykBcLAUBjDn44b-...|       5.0|\n",
      "|-EF-8DMD3qD1z1oBI...|       5.0|\n",
      "|-ZShsfuOUcqw2JNBa...|       5.0|\n",
      "|-Fto5WbDo7bYxbmPN...|       5.0|\n",
      "|-_1k2_v6Bv-nbkXjw...|       5.0|\n",
      "|-LR8Z9Cun0VG8Rmju...|       5.0|\n",
      "|-adgt7iIDqCgfbVqp...|       5.0|\n",
      "|-bcXUi5rzv_JS8OTt...|       5.0|\n",
      "|-c12zkgP2UdpmO-cu...|       5.0|\n",
      "|-DivQfF9ZY1Aq_Dop...|       5.0|\n",
      "|-d5jZCMlYOEa-jQDU...|       5.0|\n",
      "|-Dw7oVN6O0zmMPF_X...|       5.0|\n",
      "+--------------------+----------+\n",
      "only showing top 20 rows"
     ]
    }
   ],
   "source": [
    "q5.sort(q5[1].desc()).show()"
   ]
  },
  {
   "cell_type": "code",
   "execution_count": 41,
   "id": "ef560f88",
   "metadata": {},
   "outputs": [
    {
     "data": {
      "application/vnd.jupyter.widget-view+json": {
       "model_id": "",
       "version_major": 2,
       "version_minor": 0
      },
      "text/plain": [
       "FloatProgress(value=0.0, bar_style='info', description='Progress:', layout=Layout(height='25px', width='50%'),…"
      ]
     },
     "metadata": {},
     "output_type": "display_data"
    },
    {
     "name": "stdout",
     "output_type": "stream",
     "text": [
      "1637138"
     ]
    }
   ],
   "source": [
    "q5.count()"
   ]
  },
  {
   "cell_type": "code",
   "execution_count": null,
   "id": "c984ed9a",
   "metadata": {},
   "outputs": [],
   "source": [
    "#authenticy language vs area"
   ]
  },
  {
   "cell_type": "code",
   "execution_count": 23,
   "id": "25bbc3ef",
   "metadata": {
    "scrolled": false
   },
   "outputs": [
    {
     "data": {
      "application/vnd.jupyter.widget-view+json": {
       "model_id": "",
       "version_major": 2,
       "version_minor": 0
      },
      "text/plain": [
       "FloatProgress(value=0.0, bar_style='info', description='Progress:', layout=Layout(height='25px', width='50%'),…"
      ]
     },
     "metadata": {},
     "output_type": "display_data"
    },
    {
     "name": "stdout",
     "output_type": "stream",
     "text": [
      "+-----+-----+\n",
      "|state|count|\n",
      "+-----+-----+\n",
      "|   AZ| 9664|\n",
      "|   SC|    7|\n",
      "|   QC| 1279|\n",
      "|   NV|37269|\n",
      "|   WI|  279|\n",
      "|   NC| 2318|\n",
      "|   IL|   52|\n",
      "|   OH|  875|\n",
      "|   PA| 1182|\n",
      "|   ON| 3041|\n",
      "|   AB|  135|\n",
      "|   TX|   21|\n",
      "|   FL|   11|\n",
      "+-----+-----+"
     ]
    }
   ],
   "source": [
    "tool2 = inf5_rev100.groupBy('state').agg(count(\"*\").alias(\"count\")).show(20)"
   ]
  },
  {
   "cell_type": "code",
   "execution_count": 15,
   "id": "f93e2e19",
   "metadata": {},
   "outputs": [
    {
     "data": {
      "application/vnd.jupyter.widget-view+json": {
       "model_id": "",
       "version_major": 2,
       "version_minor": 0
      },
      "text/plain": [
       "FloatProgress(value=0.0, bar_style='info', description='Progress:', layout=Layout(height='25px', width='50%'),…"
      ]
     },
     "metadata": {},
     "output_type": "display_data"
    }
   ],
   "source": [
    "West = spark.sql(\"select * from inf5_rev100 where (state like '%WA%')\\\n",
    "                 or(state like '%OR%')or(state like '%ID%')or(state like '%MT%')\\\n",
    "                 or(state like '%WY%')or(state like '%CA%')or(state like '%NV%')\\\n",
    "                 or(state like '%UT%')or(state like '%CO%')or(state like '%AZ%')\\\n",
    "                 or(state like '%AZ%')or(state like '%NM%')or(state like '%HI%')\\\n",
    "                 or(state like '%AK%') \")\n",
    "West.createOrReplaceTempView(\"WestView\")\n",
    "\n",
    "Midwest = spark.sql(\"select * from inf5_rev100 where (state like '%ND%')\\\n",
    "                 or(state like '%SD%')or(state like '%NE%')or(state like '%KS%')\\\n",
    "                 or(state like '%MN%')or(state like '%IA%')or(state like '%MO%')\\\n",
    "                 or(state like '%WI%')or(state like '%IL%')or(state like '%IN%')\\\n",
    "                 or(state like '%MI%')or(state like '%OH%')\")\n",
    "Midwest.createOrReplaceTempView(\"MidwestView\")\n",
    "\n",
    "Northeast = spark.sql(\"select * from inf5_rev100 where (state like '%PA%')\\\n",
    "                 or(state like '%NY%')or(state like '%NJ%')or(state like '%VT%')\\\n",
    "                 or(state like '%NH%')or(state like '%MA%')or(state like '%CT%')\\\n",
    "                 or(state like '%RI%')or(state like '%ME%')or(state like '%ON%')\")\n",
    "Northeast.createOrReplaceTempView(\"NortheastView\")\n",
    "\n",
    "South = spark.sql(\"select * from inf5_rev100 where (state like '%OK%')\\\n",
    "                 or(state like '%TX%')or(state like '%AR%')or(state like '%LA%')\\\n",
    "                 or(state like '%KY%')or(state like '%TN%')or(state like '%MS%')\\\n",
    "                 or(state like '%AL%')or(state like '%WV%')or(state like '%DC%')\\\n",
    "                 or(state like '%VA%')or(state like '%NC%')or(state like '%SC%')\\\n",
    "                 or(state like '%GA%')or(state like '%FL%') \")\n",
    "South.createOrReplaceTempView(\"SouthView\")\n",
    "\n",
    "\n"
   ]
  },
  {
   "cell_type": "code",
   "execution_count": null,
   "id": "eb5c1ea8",
   "metadata": {},
   "outputs": [],
   "source": [
    "%%sql\n",
    "\n",
    "select stars,count(stars) from NWDevelopedView\n",
    "where (text like '%authen%') and((text like '%dirty%')or(text like '%kitsch%')or(text like '%cheap%')or(text like '%rude%')or(text like 'bad'))\n",
    "group by stars\n",
    "order by stars"
   ]
  },
  {
   "cell_type": "code",
   "execution_count": 34,
   "id": "01670f26",
   "metadata": {},
   "outputs": [
    {
     "data": {
      "application/vnd.jupyter.widget-view+json": {
       "model_id": "",
       "version_major": 2,
       "version_minor": 0
      },
      "text/plain": [
       "FloatProgress(value=0.0, bar_style='info', description='Progress:', layout=Layout(height='25px', width='50%'),…"
      ]
     },
     "metadata": {},
     "output_type": "display_data"
    },
    {
     "data": {
      "application/vnd.jupyter.widget-view+json": {
       "model_id": "eb7b2765d4624c29abc474d4cbe7c7ad",
       "version_major": 2,
       "version_minor": 0
      },
      "text/plain": [
       "VBox(children=(HBox(children=(HTML(value='Type:'), Button(description='Table', layout=Layout(width='70px'), st…"
      ]
     },
     "metadata": {},
     "output_type": "display_data"
    },
    {
     "data": {
      "application/vnd.jupyter.widget-view+json": {
       "model_id": "97b1fc64f2574e2fb3dd1325cd33ac01",
       "version_major": 2,
       "version_minor": 0
      },
      "text/plain": [
       "Output()"
      ]
     },
     "metadata": {},
     "output_type": "display_data"
    }
   ],
   "source": [
    "%%sql\n",
    "select count(*) from WestView\n"
   ]
  },
  {
   "cell_type": "code",
   "execution_count": 36,
   "id": "9dd68b65",
   "metadata": {},
   "outputs": [
    {
     "data": {
      "application/vnd.jupyter.widget-view+json": {
       "model_id": "",
       "version_major": 2,
       "version_minor": 0
      },
      "text/plain": [
       "FloatProgress(value=0.0, bar_style='info', description='Progress:', layout=Layout(height='25px', width='50%'),…"
      ]
     },
     "metadata": {},
     "output_type": "display_data"
    },
    {
     "data": {
      "application/vnd.jupyter.widget-view+json": {
       "model_id": "c3be4a2283db4e048c5087f891006152",
       "version_major": 2,
       "version_minor": 0
      },
      "text/plain": [
       "VBox(children=(HBox(children=(HTML(value='Type:'), Button(description='Table', layout=Layout(width='70px'), st…"
      ]
     },
     "metadata": {},
     "output_type": "display_data"
    },
    {
     "data": {
      "application/vnd.jupyter.widget-view+json": {
       "model_id": "d34dc8413d8e4b8cb401b4f1d0960eea",
       "version_major": 2,
       "version_minor": 0
      },
      "text/plain": [
       "Output()"
      ]
     },
     "metadata": {},
     "output_type": "display_data"
    }
   ],
   "source": [
    "%%sql\n",
    "select stars,count(stars) from WestView\n",
    "where (text like '%authen%') or (text like '%legitimate%')\n",
    "group by stars\n",
    "order by stars"
   ]
  },
  {
   "cell_type": "code",
   "execution_count": 19,
   "id": "265e5506",
   "metadata": {},
   "outputs": [
    {
     "data": {
      "application/vnd.jupyter.widget-view+json": {
       "model_id": "",
       "version_major": 2,
       "version_minor": 0
      },
      "text/plain": [
       "FloatProgress(value=0.0, bar_style='info', description='Progress:', layout=Layout(height='25px', width='50%'),…"
      ]
     },
     "metadata": {},
     "output_type": "display_data"
    },
    {
     "data": {
      "application/vnd.jupyter.widget-view+json": {
       "model_id": "f223301cb4e64f32996c772104018009",
       "version_major": 2,
       "version_minor": 0
      },
      "text/plain": [
       "VBox(children=(HBox(children=(HTML(value='Type:'), Button(description='Table', layout=Layout(width='70px'), st…"
      ]
     },
     "metadata": {},
     "output_type": "display_data"
    },
    {
     "data": {
      "application/vnd.jupyter.widget-view+json": {
       "model_id": "454884d413744060a5a8af854a44509f",
       "version_major": 2,
       "version_minor": 0
      },
      "text/plain": [
       "Output()"
      ]
     },
     "metadata": {},
     "output_type": "display_data"
    }
   ],
   "source": [
    "%%sql\n",
    "select count(*) from SouthView"
   ]
  },
  {
   "cell_type": "code",
   "execution_count": 20,
   "id": "9fd8363e",
   "metadata": {},
   "outputs": [
    {
     "data": {
      "application/vnd.jupyter.widget-view+json": {
       "model_id": "",
       "version_major": 2,
       "version_minor": 0
      },
      "text/plain": [
       "FloatProgress(value=0.0, bar_style='info', description='Progress:', layout=Layout(height='25px', width='50%'),…"
      ]
     },
     "metadata": {},
     "output_type": "display_data"
    },
    {
     "data": {
      "application/vnd.jupyter.widget-view+json": {
       "model_id": "69457374ab0649329b090a1fc9de92f0",
       "version_major": 2,
       "version_minor": 0
      },
      "text/plain": [
       "VBox(children=(HBox(children=(HTML(value='Type:'), Button(description='Table', layout=Layout(width='70px'), st…"
      ]
     },
     "metadata": {},
     "output_type": "display_data"
    },
    {
     "data": {
      "application/vnd.jupyter.widget-view+json": {
       "model_id": "dc3b453cd10b4320a0c7f7db94cce7e5",
       "version_major": 2,
       "version_minor": 0
      },
      "text/plain": [
       "Output()"
      ]
     },
     "metadata": {},
     "output_type": "display_data"
    }
   ],
   "source": [
    "%%sql\n",
    "select stars,count(stars) from SouthView\n",
    "where (text like '%authen%') or (text like '%legitimate%')\n",
    "group by stars\n",
    "order by stars"
   ]
  },
  {
   "cell_type": "code",
   "execution_count": 21,
   "id": "3f4ca896",
   "metadata": {},
   "outputs": [
    {
     "data": {
      "application/vnd.jupyter.widget-view+json": {
       "model_id": "",
       "version_major": 2,
       "version_minor": 0
      },
      "text/plain": [
       "FloatProgress(value=0.0, bar_style='info', description='Progress:', layout=Layout(height='25px', width='50%'),…"
      ]
     },
     "metadata": {},
     "output_type": "display_data"
    },
    {
     "data": {
      "application/vnd.jupyter.widget-view+json": {
       "model_id": "7e1f2824d3fb44a0be53032803c01a39",
       "version_major": 2,
       "version_minor": 0
      },
      "text/plain": [
       "VBox(children=(HBox(children=(HTML(value='Type:'), Button(description='Table', layout=Layout(width='70px'), st…"
      ]
     },
     "metadata": {},
     "output_type": "display_data"
    },
    {
     "data": {
      "application/vnd.jupyter.widget-view+json": {
       "model_id": "ed3c3f43e5fe4b9da6fa8309edc9bc83",
       "version_major": 2,
       "version_minor": 0
      },
      "text/plain": [
       "Output()"
      ]
     },
     "metadata": {},
     "output_type": "display_data"
    }
   ],
   "source": [
    "%%sql\n",
    "select count(*) from MidwestView"
   ]
  },
  {
   "cell_type": "code",
   "execution_count": 22,
   "id": "bd775411",
   "metadata": {},
   "outputs": [
    {
     "data": {
      "application/vnd.jupyter.widget-view+json": {
       "model_id": "",
       "version_major": 2,
       "version_minor": 0
      },
      "text/plain": [
       "FloatProgress(value=0.0, bar_style='info', description='Progress:', layout=Layout(height='25px', width='50%'),…"
      ]
     },
     "metadata": {},
     "output_type": "display_data"
    },
    {
     "data": {
      "application/vnd.jupyter.widget-view+json": {
       "model_id": "a2b9bc1f76b94aeabeaf74809207c996",
       "version_major": 2,
       "version_minor": 0
      },
      "text/plain": [
       "VBox(children=(HBox(children=(HTML(value='Type:'), Button(description='Table', layout=Layout(width='70px'), st…"
      ]
     },
     "metadata": {},
     "output_type": "display_data"
    },
    {
     "data": {
      "application/vnd.jupyter.widget-view+json": {
       "model_id": "4a3b71c598b1468b98b5a07eee028ab1",
       "version_major": 2,
       "version_minor": 0
      },
      "text/plain": [
       "Output()"
      ]
     },
     "metadata": {},
     "output_type": "display_data"
    }
   ],
   "source": [
    "%%sql\n",
    "select stars,count(stars) from MidwestView\n",
    "where (text like '%authen%') or (text like '%legitimate%')\n",
    "group by stars\n",
    "order by stars"
   ]
  },
  {
   "cell_type": "code",
   "execution_count": 16,
   "id": "f0f5b707",
   "metadata": {},
   "outputs": [
    {
     "data": {
      "application/vnd.jupyter.widget-view+json": {
       "model_id": "",
       "version_major": 2,
       "version_minor": 0
      },
      "text/plain": [
       "FloatProgress(value=0.0, bar_style='info', description='Progress:', layout=Layout(height='25px', width='50%'),…"
      ]
     },
     "metadata": {},
     "output_type": "display_data"
    },
    {
     "data": {
      "application/vnd.jupyter.widget-view+json": {
       "model_id": "f1cf65675eab490eb151c15b1c71a603",
       "version_major": 2,
       "version_minor": 0
      },
      "text/plain": [
       "VBox(children=(HBox(children=(HTML(value='Type:'), Button(description='Table', layout=Layout(width='70px'), st…"
      ]
     },
     "metadata": {},
     "output_type": "display_data"
    },
    {
     "data": {
      "application/vnd.jupyter.widget-view+json": {
       "model_id": "ee8217a830f1464fbe2e1df55c35cb57",
       "version_major": 2,
       "version_minor": 0
      },
      "text/plain": [
       "Output()"
      ]
     },
     "metadata": {},
     "output_type": "display_data"
    }
   ],
   "source": [
    "%%sql\n",
    "select count(*) from NortheastView"
   ]
  },
  {
   "cell_type": "code",
   "execution_count": 17,
   "id": "10c2467f",
   "metadata": {},
   "outputs": [
    {
     "data": {
      "application/vnd.jupyter.widget-view+json": {
       "model_id": "",
       "version_major": 2,
       "version_minor": 0
      },
      "text/plain": [
       "FloatProgress(value=0.0, bar_style='info', description='Progress:', layout=Layout(height='25px', width='50%'),…"
      ]
     },
     "metadata": {},
     "output_type": "display_data"
    },
    {
     "data": {
      "application/vnd.jupyter.widget-view+json": {
       "model_id": "7575c377c3714ab38c46acebb0cd782d",
       "version_major": 2,
       "version_minor": 0
      },
      "text/plain": [
       "VBox(children=(HBox(children=(HTML(value='Type:'), Button(description='Table', layout=Layout(width='70px'), st…"
      ]
     },
     "metadata": {},
     "output_type": "display_data"
    },
    {
     "data": {
      "application/vnd.jupyter.widget-view+json": {
       "model_id": "06b2128bbaa9498d95d2053f040a0685",
       "version_major": 2,
       "version_minor": 0
      },
      "text/plain": [
       "Output()"
      ]
     },
     "metadata": {},
     "output_type": "display_data"
    }
   ],
   "source": [
    "%%sql\n",
    "select stars,count(stars) from NortheastView\n",
    "where (text like '%authen%') or (text like '%legitimate%')\n",
    "group by stars\n",
    "order by stars"
   ]
  },
  {
   "cell_type": "code",
   "execution_count": 22,
   "id": "d25b5452",
   "metadata": {
    "scrolled": false
   },
   "outputs": [
    {
     "data": {
      "application/vnd.jupyter.widget-view+json": {
       "model_id": "",
       "version_major": 2,
       "version_minor": 0
      },
      "text/plain": [
       "FloatProgress(value=0.0, bar_style='info', description='Progress:', layout=Layout(height='25px', width='50%'),…"
      ]
     },
     "metadata": {},
     "output_type": "display_data"
    },
    {
     "data": {
      "application/vnd.jupyter.widget-view+json": {
       "model_id": "7c35479c53124aca8b04aba4e0595865",
       "version_major": 2,
       "version_minor": 0
      },
      "text/plain": [
       "VBox(children=(HBox(children=(HTML(value='Type:'), Button(description='Table', layout=Layout(width='70px'), st…"
      ]
     },
     "metadata": {},
     "output_type": "display_data"
    },
    {
     "data": {
      "application/vnd.jupyter.widget-view+json": {
       "model_id": "9526ba723317425c93e980580e0c721b",
       "version_major": 2,
       "version_minor": 0
      },
      "text/plain": [
       "Output()"
      ]
     },
     "metadata": {},
     "output_type": "display_data"
    }
   ],
   "source": [
    "%%sql\n",
    "select stars,count(stars) from WestView\n",
    "where (text like '%authen%') and ((categories like '%French%')or(categories like '%Italian%')or(categories like '%Mediterranean%'))\n",
    "group by stars\n",
    "order by stars"
   ]
  },
  {
   "cell_type": "code",
   "execution_count": 23,
   "id": "82273f13",
   "metadata": {},
   "outputs": [
    {
     "data": {
      "application/vnd.jupyter.widget-view+json": {
       "model_id": "",
       "version_major": 2,
       "version_minor": 0
      },
      "text/plain": [
       "FloatProgress(value=0.0, bar_style='info', description='Progress:', layout=Layout(height='25px', width='50%'),…"
      ]
     },
     "metadata": {},
     "output_type": "display_data"
    },
    {
     "data": {
      "application/vnd.jupyter.widget-view+json": {
       "model_id": "992bcc2133e841608f8a20abea36b7ca",
       "version_major": 2,
       "version_minor": 0
      },
      "text/plain": [
       "VBox(children=(HBox(children=(HTML(value='Type:'), Button(description='Table', layout=Layout(width='70px'), st…"
      ]
     },
     "metadata": {},
     "output_type": "display_data"
    },
    {
     "data": {
      "application/vnd.jupyter.widget-view+json": {
       "model_id": "3baa3812c3b84da0b3cf4f3728d3be36",
       "version_major": 2,
       "version_minor": 0
      },
      "text/plain": [
       "Output()"
      ]
     },
     "metadata": {},
     "output_type": "display_data"
    }
   ],
   "source": [
    "%%sql\n",
    "select stars,count(stars) from WestView\n",
    "where (text like '%authen%') and ((categories like '%Korean%')or(categories like '%Japan%'))\n",
    "group by stars\n",
    "order by stars"
   ]
  },
  {
   "cell_type": "code",
   "execution_count": 24,
   "id": "002db431",
   "metadata": {},
   "outputs": [
    {
     "data": {
      "application/vnd.jupyter.widget-view+json": {
       "model_id": "",
       "version_major": 2,
       "version_minor": 0
      },
      "text/plain": [
       "FloatProgress(value=0.0, bar_style='info', description='Progress:', layout=Layout(height='25px', width='50%'),…"
      ]
     },
     "metadata": {},
     "output_type": "display_data"
    },
    {
     "data": {
      "application/vnd.jupyter.widget-view+json": {
       "model_id": "9da5ceef35b24055a173bfdce90e6ba2",
       "version_major": 2,
       "version_minor": 0
      },
      "text/plain": [
       "VBox(children=(HBox(children=(HTML(value='Type:'), Button(description='Table', layout=Layout(width='70px'), st…"
      ]
     },
     "metadata": {},
     "output_type": "display_data"
    },
    {
     "data": {
      "application/vnd.jupyter.widget-view+json": {
       "model_id": "f34b20f2780d460b94fa01c46e52b836",
       "version_major": 2,
       "version_minor": 0
      },
      "text/plain": [
       "Output()"
      ]
     },
     "metadata": {},
     "output_type": "display_data"
    }
   ],
   "source": [
    "%%sql\n",
    "select stars,count(stars) from WestView\n",
    "where (text like '%authen%') and((categories like '%Thai%')or(categories like '%Chinese%')or(categories like '%India%')or(categories like '%Mexican%') )\n",
    "group by stars\n",
    "order by stars"
   ]
  },
  {
   "cell_type": "code",
   "execution_count": 25,
   "id": "cbf7eb73",
   "metadata": {},
   "outputs": [
    {
     "data": {
      "application/vnd.jupyter.widget-view+json": {
       "model_id": "",
       "version_major": 2,
       "version_minor": 0
      },
      "text/plain": [
       "FloatProgress(value=0.0, bar_style='info', description='Progress:', layout=Layout(height='25px', width='50%'),…"
      ]
     },
     "metadata": {},
     "output_type": "display_data"
    },
    {
     "data": {
      "application/vnd.jupyter.widget-view+json": {
       "model_id": "854ae6657a3447b1a36df8333cca8fbd",
       "version_major": 2,
       "version_minor": 0
      },
      "text/plain": [
       "VBox(children=(HBox(children=(HTML(value='Type:'), Button(description='Table', layout=Layout(width='70px'), st…"
      ]
     },
     "metadata": {},
     "output_type": "display_data"
    },
    {
     "data": {
      "application/vnd.jupyter.widget-view+json": {
       "model_id": "cd0e739cc0fa4abbb10f413c6f8a4c11",
       "version_major": 2,
       "version_minor": 0
      },
      "text/plain": [
       "Output()"
      ]
     },
     "metadata": {},
     "output_type": "display_data"
    }
   ],
   "source": [
    "%%sql\n",
    "select stars,count(stars) from MidwestView\n",
    "where (text like '%authen%') and ((categories like '%French%')or(categories like '%Italian%')or(categories like '%Mediterranean%'))\n",
    "group by stars\n",
    "order by stars"
   ]
  },
  {
   "cell_type": "code",
   "execution_count": 26,
   "id": "d3f498f5",
   "metadata": {},
   "outputs": [
    {
     "data": {
      "application/vnd.jupyter.widget-view+json": {
       "model_id": "",
       "version_major": 2,
       "version_minor": 0
      },
      "text/plain": [
       "FloatProgress(value=0.0, bar_style='info', description='Progress:', layout=Layout(height='25px', width='50%'),…"
      ]
     },
     "metadata": {},
     "output_type": "display_data"
    },
    {
     "data": {
      "application/vnd.jupyter.widget-view+json": {
       "model_id": "375459a6c3ae45169b0bec20aa3c266e",
       "version_major": 2,
       "version_minor": 0
      },
      "text/plain": [
       "VBox(children=(HBox(), EncodingWidget(children=(VBox(children=(HTML(value='Encoding:'), Dropdown(description='…"
      ]
     },
     "metadata": {},
     "output_type": "display_data"
    },
    {
     "data": {
      "application/vnd.jupyter.widget-view+json": {
       "model_id": "90ef305debaf47f689ec23a039966386",
       "version_major": 2,
       "version_minor": 0
      },
      "text/plain": [
       "Output()"
      ]
     },
     "metadata": {},
     "output_type": "display_data"
    }
   ],
   "source": [
    "%%sql\n",
    "select stars,count(stars) from MidwestView\n",
    "where (text like '%authen%') and ((categories like '%Korean%')or(categories like '%Japan%'))\n",
    "group by stars\n",
    "order by stars"
   ]
  },
  {
   "cell_type": "code",
   "execution_count": 27,
   "id": "38bbb284",
   "metadata": {},
   "outputs": [
    {
     "data": {
      "application/vnd.jupyter.widget-view+json": {
       "model_id": "",
       "version_major": 2,
       "version_minor": 0
      },
      "text/plain": [
       "FloatProgress(value=0.0, bar_style='info', description='Progress:', layout=Layout(height='25px', width='50%'),…"
      ]
     },
     "metadata": {},
     "output_type": "display_data"
    },
    {
     "data": {
      "application/vnd.jupyter.widget-view+json": {
       "model_id": "77aa27ca33b348f793c59ac8f2fe9288",
       "version_major": 2,
       "version_minor": 0
      },
      "text/plain": [
       "VBox(children=(HBox(children=(HTML(value='Type:'), Button(description='Table', layout=Layout(width='70px'), st…"
      ]
     },
     "metadata": {},
     "output_type": "display_data"
    },
    {
     "data": {
      "application/vnd.jupyter.widget-view+json": {
       "model_id": "78892b9c0f474bdd89917d59e33edc2d",
       "version_major": 2,
       "version_minor": 0
      },
      "text/plain": [
       "Output()"
      ]
     },
     "metadata": {},
     "output_type": "display_data"
    }
   ],
   "source": [
    "%%sql\n",
    "select stars,count(stars) from MidwestView\n",
    "where (text like '%authen%') and((categories like '%Thai%')or(categories like '%Chinese%')or(categories like '%India%')or(categories like '%Mexican%') )\n",
    "group by stars\n",
    "order by stars"
   ]
  },
  {
   "cell_type": "code",
   "execution_count": 18,
   "id": "ea519618",
   "metadata": {},
   "outputs": [
    {
     "data": {
      "application/vnd.jupyter.widget-view+json": {
       "model_id": "",
       "version_major": 2,
       "version_minor": 0
      },
      "text/plain": [
       "FloatProgress(value=0.0, bar_style='info', description='Progress:', layout=Layout(height='25px', width='50%'),…"
      ]
     },
     "metadata": {},
     "output_type": "display_data"
    },
    {
     "data": {
      "application/vnd.jupyter.widget-view+json": {
       "model_id": "399b0499ae5747d890fab8467eaf9905",
       "version_major": 2,
       "version_minor": 0
      },
      "text/plain": [
       "VBox(children=(HBox(children=(HTML(value='Type:'), Button(description='Table', layout=Layout(width='70px'), st…"
      ]
     },
     "metadata": {},
     "output_type": "display_data"
    },
    {
     "data": {
      "application/vnd.jupyter.widget-view+json": {
       "model_id": "0b3745dbdda045e5adc2405c8e92d1f1",
       "version_major": 2,
       "version_minor": 0
      },
      "text/plain": [
       "Output()"
      ]
     },
     "metadata": {},
     "output_type": "display_data"
    }
   ],
   "source": [
    "%%sql\n",
    "select stars,count(stars) from NortheastView\n",
    "where (text like '%authen%') and ((categories like '%French%')or(categories like '%Italian%')or(categories like '%Mediterranean%'))\n",
    "group by stars\n",
    "order by stars"
   ]
  },
  {
   "cell_type": "code",
   "execution_count": 19,
   "id": "f13dba22",
   "metadata": {},
   "outputs": [
    {
     "data": {
      "application/vnd.jupyter.widget-view+json": {
       "model_id": "",
       "version_major": 2,
       "version_minor": 0
      },
      "text/plain": [
       "FloatProgress(value=0.0, bar_style='info', description='Progress:', layout=Layout(height='25px', width='50%'),…"
      ]
     },
     "metadata": {},
     "output_type": "display_data"
    },
    {
     "data": {
      "application/vnd.jupyter.widget-view+json": {
       "model_id": "09bb9bd2c8d3449eba642101189850d2",
       "version_major": 2,
       "version_minor": 0
      },
      "text/plain": [
       "VBox(children=(HBox(children=(HTML(value='Type:'), Button(description='Table', layout=Layout(width='70px'), st…"
      ]
     },
     "metadata": {},
     "output_type": "display_data"
    },
    {
     "data": {
      "application/vnd.jupyter.widget-view+json": {
       "model_id": "a5bb3eea4e2f43aa9f6e897cef018708",
       "version_major": 2,
       "version_minor": 0
      },
      "text/plain": [
       "Output()"
      ]
     },
     "metadata": {},
     "output_type": "display_data"
    }
   ],
   "source": [
    "%%sql\n",
    "select stars,count(stars) from NortheastView\n",
    "where (text like '%authen%') and ((categories like '%Korean%')or(categories like '%Japan%'))\n",
    "group by stars\n",
    "order by stars"
   ]
  },
  {
   "cell_type": "code",
   "execution_count": 20,
   "id": "42bc5f65",
   "metadata": {},
   "outputs": [
    {
     "data": {
      "application/vnd.jupyter.widget-view+json": {
       "model_id": "",
       "version_major": 2,
       "version_minor": 0
      },
      "text/plain": [
       "FloatProgress(value=0.0, bar_style='info', description='Progress:', layout=Layout(height='25px', width='50%'),…"
      ]
     },
     "metadata": {},
     "output_type": "display_data"
    },
    {
     "data": {
      "application/vnd.jupyter.widget-view+json": {
       "model_id": "04a48e77545b428287bfc862634572c7",
       "version_major": 2,
       "version_minor": 0
      },
      "text/plain": [
       "VBox(children=(HBox(children=(HTML(value='Type:'), Button(description='Table', layout=Layout(width='70px'), st…"
      ]
     },
     "metadata": {},
     "output_type": "display_data"
    },
    {
     "data": {
      "application/vnd.jupyter.widget-view+json": {
       "model_id": "7df9a0005ee84edd86805dc094e52dbc",
       "version_major": 2,
       "version_minor": 0
      },
      "text/plain": [
       "Output()"
      ]
     },
     "metadata": {},
     "output_type": "display_data"
    }
   ],
   "source": [
    "%%sql\n",
    "select stars,count(stars) from NortheastView\n",
    "where (text like '%authen%') and((categories like '%Thai%')or(categories like '%Chinese%')or(categories like '%India%')or(categories like '%Mexican%') )\n",
    "group by stars\n",
    "order by stars"
   ]
  },
  {
   "cell_type": "code",
   "execution_count": 21,
   "id": "65952cd0",
   "metadata": {},
   "outputs": [
    {
     "data": {
      "application/vnd.jupyter.widget-view+json": {
       "model_id": "",
       "version_major": 2,
       "version_minor": 0
      },
      "text/plain": [
       "FloatProgress(value=0.0, bar_style='info', description='Progress:', layout=Layout(height='25px', width='50%'),…"
      ]
     },
     "metadata": {},
     "output_type": "display_data"
    },
    {
     "data": {
      "application/vnd.jupyter.widget-view+json": {
       "model_id": "566cf1ab8a5c4be4b2000a53f120cd33",
       "version_major": 2,
       "version_minor": 0
      },
      "text/plain": [
       "VBox(children=(HBox(children=(HTML(value='Type:'), Button(description='Table', layout=Layout(width='70px'), st…"
      ]
     },
     "metadata": {},
     "output_type": "display_data"
    },
    {
     "data": {
      "application/vnd.jupyter.widget-view+json": {
       "model_id": "b0f992c2d0da4e8aa8c3c7990de62482",
       "version_major": 2,
       "version_minor": 0
      },
      "text/plain": [
       "Output()"
      ]
     },
     "metadata": {},
     "output_type": "display_data"
    }
   ],
   "source": [
    "%%sql\n",
    "select stars,count(stars) from SouthView\n",
    "where (text like '%authen%') and ((categories like '%French%')or(categories like '%Italian%')or(categories like '%Mediterranean%'))\n",
    "group by stars\n",
    "order by stars"
   ]
  },
  {
   "cell_type": "code",
   "execution_count": 22,
   "id": "34eb8dec",
   "metadata": {},
   "outputs": [
    {
     "data": {
      "application/vnd.jupyter.widget-view+json": {
       "model_id": "",
       "version_major": 2,
       "version_minor": 0
      },
      "text/plain": [
       "FloatProgress(value=0.0, bar_style='info', description='Progress:', layout=Layout(height='25px', width='50%'),…"
      ]
     },
     "metadata": {},
     "output_type": "display_data"
    },
    {
     "data": {
      "application/vnd.jupyter.widget-view+json": {
       "model_id": "3253b1ec59f042bca02a40ddc815b28a",
       "version_major": 2,
       "version_minor": 0
      },
      "text/plain": [
       "VBox(children=(HBox(children=(HTML(value='Type:'), Button(description='Table', layout=Layout(width='70px'), st…"
      ]
     },
     "metadata": {},
     "output_type": "display_data"
    },
    {
     "data": {
      "application/vnd.jupyter.widget-view+json": {
       "model_id": "90b28d5a36b940f5872c16d88930bf69",
       "version_major": 2,
       "version_minor": 0
      },
      "text/plain": [
       "Output()"
      ]
     },
     "metadata": {},
     "output_type": "display_data"
    }
   ],
   "source": [
    "%%sql\n",
    "select stars,count(stars) from SouthView\n",
    "where (text like '%authen%') and ((categories like '%Korean%')or(categories like '%Japan%'))\n",
    "group by stars\n",
    "order by stars"
   ]
  },
  {
   "cell_type": "code",
   "execution_count": 23,
   "id": "4f95af90",
   "metadata": {},
   "outputs": [
    {
     "data": {
      "application/vnd.jupyter.widget-view+json": {
       "model_id": "",
       "version_major": 2,
       "version_minor": 0
      },
      "text/plain": [
       "FloatProgress(value=0.0, bar_style='info', description='Progress:', layout=Layout(height='25px', width='50%'),…"
      ]
     },
     "metadata": {},
     "output_type": "display_data"
    },
    {
     "data": {
      "application/vnd.jupyter.widget-view+json": {
       "model_id": "1b84b8c5a9164cbf9ae7e7554f829339",
       "version_major": 2,
       "version_minor": 0
      },
      "text/plain": [
       "VBox(children=(HBox(children=(HTML(value='Type:'), Button(description='Table', layout=Layout(width='70px'), st…"
      ]
     },
     "metadata": {},
     "output_type": "display_data"
    },
    {
     "data": {
      "application/vnd.jupyter.widget-view+json": {
       "model_id": "6914e72014d44900a92fde978e4210f2",
       "version_major": 2,
       "version_minor": 0
      },
      "text/plain": [
       "Output()"
      ]
     },
     "metadata": {},
     "output_type": "display_data"
    }
   ],
   "source": [
    "%%sql\n",
    "select stars,count(stars) from SouthView\n",
    "where (text like '%authen%') and((categories like '%Thai%')or(categories like '%Chinese%')or(categories like '%India%')or(categories like '%Mexican%') )\n",
    "group by stars\n",
    "order by stars"
   ]
  },
  {
   "cell_type": "code",
   "execution_count": 41,
   "id": "a4056fc1",
   "metadata": {},
   "outputs": [
    {
     "data": {
      "application/vnd.jupyter.widget-view+json": {
       "model_id": "",
       "version_major": 2,
       "version_minor": 0
      },
      "text/plain": [
       "FloatProgress(value=0.0, bar_style='info', description='Progress:', layout=Layout(height='25px', width='50%'),…"
      ]
     },
     "metadata": {},
     "output_type": "display_data"
    }
   ],
   "source": [
    "whole = spark.sql('''\n",
    "                  select city, count(city) from inf5_rev100\n",
    "                  group by city\n",
    "                  order by count(city) DESC\n",
    "                  ''')\n",
    "whole.createOrReplaceTempView(\"whole\")"
   ]
  },
  {
   "cell_type": "code",
   "execution_count": 36,
   "id": "13ac4ae0",
   "metadata": {},
   "outputs": [
    {
     "data": {
      "application/vnd.jupyter.widget-view+json": {
       "model_id": "",
       "version_major": 2,
       "version_minor": 0
      },
      "text/plain": [
       "FloatProgress(value=0.0, bar_style='info', description='Progress:', layout=Layout(height='25px', width='50%'),…"
      ]
     },
     "metadata": {},
     "output_type": "display_data"
    },
    {
     "name": "stdout",
     "output_type": "stream",
     "text": [
      "+----------+-----------+\n",
      "|      city|count(city)|\n",
      "+----------+-----------+\n",
      "| Las Vegas|      35678|\n",
      "|   Phoenix|       4053|\n",
      "|Scottsdale|       3581|\n",
      "|   Toronto|       2524|\n",
      "| Charlotte|       2282|\n",
      "| Henderson|       1365|\n",
      "|  Montréal|       1178|\n",
      "|Pittsburgh|       1142|\n",
      "|     Tempe|        986|\n",
      "| Cleveland|        708|\n",
      "+----------+-----------+\n",
      "only showing top 10 rows"
     ]
    }
   ],
   "source": [
    "whole.show(10)"
   ]
  },
  {
   "cell_type": "code",
   "execution_count": 15,
   "id": "f5cb5ed2",
   "metadata": {},
   "outputs": [
    {
     "data": {
      "application/vnd.jupyter.widget-view+json": {
       "model_id": "",
       "version_major": 2,
       "version_minor": 0
      },
      "text/plain": [
       "FloatProgress(value=0.0, bar_style='info', description='Progress:', layout=Layout(height='25px', width='50%'),…"
      ]
     },
     "metadata": {},
     "output_type": "display_data"
    }
   ],
   "source": [
    "Phoenix = spark.sql('''\n",
    "                  select * from inf5_rev100\n",
    "                  where (city like '%Phoenix%')  \n",
    "                  ''')\n",
    "Phoenix.createOrReplaceTempView(\"PhoenixView\")"
   ]
  },
  {
   "cell_type": "code",
   "execution_count": 48,
   "id": "5bf3b555",
   "metadata": {},
   "outputs": [
    {
     "data": {
      "application/vnd.jupyter.widget-view+json": {
       "model_id": "",
       "version_major": 2,
       "version_minor": 0
      },
      "text/plain": [
       "FloatProgress(value=0.0, bar_style='info', description='Progress:', layout=Layout(height='25px', width='50%'),…"
      ]
     },
     "metadata": {},
     "output_type": "display_data"
    },
    {
     "data": {
      "text/html": [
       "<table><tr><th>name</th><th>review_id</th><th>review_count</th><th>longitude</th><th>latitude</th><th>city</th><th>state</th><th>categories</th><th>text</th><th>stars</th><th>count</th></tr><tr><td>Bliss Rebar</td><td>tnK3un_hWbW0oif_C...</td><td>567</td><td>-112.06834</td><td>33.457888</td><td>Phoenix</td><td>AZ</td><td>Bars, American (N...</td><td>We hadn't been he...</td><td>5.0</td><td>8</td></tr></table><br /><pre>only showing top 1 row</pre>"
      ],
      "text/plain": [
       "<IPython.core.display.HTML object>"
      ]
     },
     "metadata": {},
     "output_type": "display_data"
    }
   ],
   "source": [
    "%%pretty\n",
    "Phoenix.show(1)"
   ]
  },
  {
   "cell_type": "code",
   "execution_count": 16,
   "id": "4f39ee6a",
   "metadata": {
    "scrolled": false
   },
   "outputs": [
    {
     "data": {
      "application/vnd.jupyter.widget-view+json": {
       "model_id": "",
       "version_major": 2,
       "version_minor": 0
      },
      "text/plain": [
       "FloatProgress(value=0.0, bar_style='info', description='Progress:', layout=Layout(height='25px', width='50%'),…"
      ]
     },
     "metadata": {},
     "output_type": "display_data"
    },
    {
     "data": {
      "application/vnd.jupyter.widget-view+json": {
       "model_id": "ff1ffec4bd9545a895dc59762f23361b",
       "version_major": 2,
       "version_minor": 0
      },
      "text/plain": [
       "VBox(children=(HBox(children=(HTML(value='Type:'), Button(description='Table', layout=Layout(width='70px'), st…"
      ]
     },
     "metadata": {},
     "output_type": "display_data"
    },
    {
     "data": {
      "application/vnd.jupyter.widget-view+json": {
       "model_id": "57665d111130449ab34e47c635457169",
       "version_major": 2,
       "version_minor": 0
      },
      "text/plain": [
       "Output()"
      ]
     },
     "metadata": {},
     "output_type": "display_data"
    }
   ],
   "source": [
    "%%sql \n",
    "select count(*) from PhoenixView\n"
   ]
  },
  {
   "cell_type": "code",
   "execution_count": 19,
   "id": "d5d82d26",
   "metadata": {},
   "outputs": [
    {
     "data": {
      "application/vnd.jupyter.widget-view+json": {
       "model_id": "",
       "version_major": 2,
       "version_minor": 0
      },
      "text/plain": [
       "FloatProgress(value=0.0, bar_style='info', description='Progress:', layout=Layout(height='25px', width='50%'),…"
      ]
     },
     "metadata": {},
     "output_type": "display_data"
    },
    {
     "data": {
      "application/vnd.jupyter.widget-view+json": {
       "model_id": "1a6ae257b38648f99a48aadf8ef4ffa5",
       "version_major": 2,
       "version_minor": 0
      },
      "text/plain": [
       "VBox(children=(HBox(children=(HTML(value='Type:'), Button(description='Table', layout=Layout(width='70px'), st…"
      ]
     },
     "metadata": {},
     "output_type": "display_data"
    },
    {
     "data": {
      "application/vnd.jupyter.widget-view+json": {
       "model_id": "8efbea26dba54c95bcfabfeb1cf07aeb",
       "version_major": 2,
       "version_minor": 0
      },
      "text/plain": [
       "Output()"
      ]
     },
     "metadata": {},
     "output_type": "display_data"
    }
   ],
   "source": [
    "%%sql \n",
    "select count(*) from PhoenixView"
   ]
  },
  {
   "cell_type": "code",
   "execution_count": 21,
   "id": "a7e48f22",
   "metadata": {
    "scrolled": false
   },
   "outputs": [
    {
     "data": {
      "application/vnd.jupyter.widget-view+json": {
       "model_id": "",
       "version_major": 2,
       "version_minor": 0
      },
      "text/plain": [
       "FloatProgress(value=0.0, bar_style='info', description='Progress:', layout=Layout(height='25px', width='50%'),…"
      ]
     },
     "metadata": {},
     "output_type": "display_data"
    },
    {
     "data": {
      "application/vnd.jupyter.widget-view+json": {
       "model_id": "4b2f594fe16f464aa6dc8dd8c96f963a",
       "version_major": 2,
       "version_minor": 0
      },
      "text/plain": [
       "VBox(children=(HBox(children=(HTML(value='Type:'), Button(description='Table', layout=Layout(width='70px'), st…"
      ]
     },
     "metadata": {},
     "output_type": "display_data"
    },
    {
     "data": {
      "application/vnd.jupyter.widget-view+json": {
       "model_id": "d71b4606cf014feb882c7b40b0aac488",
       "version_major": 2,
       "version_minor": 0
      },
      "text/plain": [
       "Output()"
      ]
     },
     "metadata": {},
     "output_type": "display_data"
    }
   ],
   "source": [
    "%%sql \n",
    "select count(*) from PhoenixView\n",
    "where text LIKE \"%legitimate%\" OR text LIKE \"%Legitimate%\" \n",
    "OR text LIKE \"%LEGITIMATE%\" OR text LIKE \"%authentic%\" \n",
    "OR text LIKE \"%Authen%\" OR text LIKE \"%AUTHEN%\""
   ]
  },
  {
   "cell_type": "code",
   "execution_count": 1,
   "id": "f7ddb869",
   "metadata": {},
   "outputs": [
    {
     "name": "stdout",
     "output_type": "stream",
     "text": [
      "Starting Spark application\n"
     ]
    },
    {
     "data": {
      "text/html": [
       "<table>\n",
       "<tr><th>ID</th><th>YARN Application ID</th><th>Kind</th><th>State</th><th>Spark UI</th><th>Driver log</th><th>User</th><th>Current session?</th></tr><tr><td>1436</td><td>application_1670501390673_0398</td><td>pyspark</td><td>idle</td><td><a target=\"_blank\" href=\"http://ambari0.local:8088/proxy/application_1670501390673_0398/\">Link</a></td><td><a target=\"_blank\" href=\"http://ambari1.local:8042/node/containerlogs/container_e17_1670501390673_0398_01_000001/livy\">Link</a></td><td>None</td><td>✔</td></tr></table>"
      ],
      "text/plain": [
       "<IPython.core.display.HTML object>"
      ]
     },
     "metadata": {},
     "output_type": "display_data"
    },
    {
     "data": {
      "application/vnd.jupyter.widget-view+json": {
       "model_id": "",
       "version_major": 2,
       "version_minor": 0
      },
      "text/plain": [
       "FloatProgress(value=0.0, bar_style='info', description='Progress:', layout=Layout(height='25px', width='50%'),…"
      ]
     },
     "metadata": {},
     "output_type": "display_data"
    },
    {
     "name": "stdout",
     "output_type": "stream",
     "text": [
      "SparkSession available as 'spark'.\n"
     ]
    },
    {
     "data": {
      "application/vnd.jupyter.widget-view+json": {
       "model_id": "",
       "version_major": 2,
       "version_minor": 0
      },
      "text/plain": [
       "FloatProgress(value=0.0, bar_style='info', description='Progress:', layout=Layout(height='25px', width='50%'),…"
      ]
     },
     "metadata": {},
     "output_type": "display_data"
    },
    {
     "name": "stdout",
     "output_type": "stream",
     "text": [
      "0.015050579817419196"
     ]
    }
   ],
   "source": [
    "61/4053"
   ]
  },
  {
   "cell_type": "code",
   "execution_count": null,
   "id": "c595a0d9",
   "metadata": {},
   "outputs": [],
   "source": [
    "%%sql \n",
    "select stars,count(stars) from PhoenixView\n",
    "where text LIKE \"%legitimate%\" OR text LIKE \"%Legitimate%\" \n",
    "OR text LIKE \"%LEGITIMATE%\" OR text LIKE \"%authentic%\" \n",
    "OR text LIKE \"%Authen%\" OR text LIKE \"%AUTHEN%\"\n",
    "group by stars\n",
    "order by stars"
   ]
  },
  {
   "cell_type": "code",
   "execution_count": 28,
   "id": "cbc5ecff",
   "metadata": {
    "scrolled": true
   },
   "outputs": [
    {
     "data": {
      "application/vnd.jupyter.widget-view+json": {
       "model_id": "",
       "version_major": 2,
       "version_minor": 0
      },
      "text/plain": [
       "FloatProgress(value=0.0, bar_style='info', description='Progress:', layout=Layout(height='25px', width='50%'),…"
      ]
     },
     "metadata": {},
     "output_type": "display_data"
    },
    {
     "name": "stdout",
     "output_type": "stream",
     "text": [
      "0.013570194917345176"
     ]
    }
   ],
   "source": [
    "(3+11+26+15)/(88+220+845+1879+1021)"
   ]
  },
  {
   "cell_type": "code",
   "execution_count": 22,
   "id": "373228a9",
   "metadata": {},
   "outputs": [
    {
     "data": {
      "application/vnd.jupyter.widget-view+json": {
       "model_id": "",
       "version_major": 2,
       "version_minor": 0
      },
      "text/plain": [
       "FloatProgress(value=0.0, bar_style='info', description='Progress:', layout=Layout(height='25px', width='50%'),…"
      ]
     },
     "metadata": {},
     "output_type": "display_data"
    }
   ],
   "source": [
    "Scottsdale = spark.sql('''\n",
    "                  select * from inf5_rev100\n",
    "                  where (city like '%Scottsdale%')  \n",
    "                  ''')\n",
    "Scottsdale.createOrReplaceTempView(\"ScottsdaleView\")"
   ]
  },
  {
   "cell_type": "code",
   "execution_count": 23,
   "id": "8889396c",
   "metadata": {
    "scrolled": true
   },
   "outputs": [
    {
     "data": {
      "application/vnd.jupyter.widget-view+json": {
       "model_id": "",
       "version_major": 2,
       "version_minor": 0
      },
      "text/plain": [
       "FloatProgress(value=0.0, bar_style='info', description='Progress:', layout=Layout(height='25px', width='50%'),…"
      ]
     },
     "metadata": {},
     "output_type": "display_data"
    },
    {
     "data": {
      "application/vnd.jupyter.widget-view+json": {
       "model_id": "3405e633043543a49497164ad879faf2",
       "version_major": 2,
       "version_minor": 0
      },
      "text/plain": [
       "VBox(children=(HBox(children=(HTML(value='Type:'), Button(description='Table', layout=Layout(width='70px'), st…"
      ]
     },
     "metadata": {},
     "output_type": "display_data"
    },
    {
     "data": {
      "application/vnd.jupyter.widget-view+json": {
       "model_id": "3275c908509842a8951957df33c319d5",
       "version_major": 2,
       "version_minor": 0
      },
      "text/plain": [
       "Output()"
      ]
     },
     "metadata": {},
     "output_type": "display_data"
    }
   ],
   "source": [
    "%%sql\n",
    "select count(*) from ScottsdaleView"
   ]
  },
  {
   "cell_type": "code",
   "execution_count": 24,
   "id": "1e439dd0",
   "metadata": {
    "scrolled": false
   },
   "outputs": [
    {
     "data": {
      "application/vnd.jupyter.widget-view+json": {
       "model_id": "",
       "version_major": 2,
       "version_minor": 0
      },
      "text/plain": [
       "FloatProgress(value=0.0, bar_style='info', description='Progress:', layout=Layout(height='25px', width='50%'),…"
      ]
     },
     "metadata": {},
     "output_type": "display_data"
    },
    {
     "data": {
      "application/vnd.jupyter.widget-view+json": {
       "model_id": "4d95ad6d4fb348c5bae296a893bbabae",
       "version_major": 2,
       "version_minor": 0
      },
      "text/plain": [
       "VBox(children=(HBox(children=(HTML(value='Type:'), Button(description='Table', layout=Layout(width='70px'), st…"
      ]
     },
     "metadata": {},
     "output_type": "display_data"
    },
    {
     "data": {
      "application/vnd.jupyter.widget-view+json": {
       "model_id": "fe9cd94c1059448195e07f1b8e76381c",
       "version_major": 2,
       "version_minor": 0
      },
      "text/plain": [
       "Output()"
      ]
     },
     "metadata": {},
     "output_type": "display_data"
    }
   ],
   "source": [
    "%%sql \n",
    "select count(*) from ScottsdaleView\n",
    "where text LIKE \"%legitimate%\" OR text LIKE \"%Legitimate%\" \n",
    "OR text LIKE \"%LEGITIMATE%\" OR text LIKE \"%authentic%\" \n",
    "OR text LIKE \"%Authen%\" OR text LIKE \"%AUTHEN%\""
   ]
  },
  {
   "cell_type": "code",
   "execution_count": 2,
   "id": "a933120e",
   "metadata": {},
   "outputs": [
    {
     "data": {
      "application/vnd.jupyter.widget-view+json": {
       "model_id": "",
       "version_major": 2,
       "version_minor": 0
      },
      "text/plain": [
       "FloatProgress(value=0.0, bar_style='info', description='Progress:', layout=Layout(height='25px', width='50%'),…"
      ]
     },
     "metadata": {},
     "output_type": "display_data"
    },
    {
     "name": "stdout",
     "output_type": "stream",
     "text": [
      "0.01731359955319743"
     ]
    }
   ],
   "source": [
    "62/3581"
   ]
  },
  {
   "cell_type": "code",
   "execution_count": 27,
   "id": "7de136ff",
   "metadata": {},
   "outputs": [
    {
     "data": {
      "application/vnd.jupyter.widget-view+json": {
       "model_id": "",
       "version_major": 2,
       "version_minor": 0
      },
      "text/plain": [
       "FloatProgress(value=0.0, bar_style='info', description='Progress:', layout=Layout(height='25px', width='50%'),…"
      ]
     },
     "metadata": {},
     "output_type": "display_data"
    },
    {
     "name": "stdout",
     "output_type": "stream",
     "text": [
      "0.015917341524713767"
     ]
    }
   ],
   "source": [
    "(3+6+14+21+13)/3581"
   ]
  },
  {
   "cell_type": "code",
   "execution_count": 14,
   "id": "88f41e52",
   "metadata": {},
   "outputs": [
    {
     "data": {
      "application/vnd.jupyter.widget-view+json": {
       "model_id": "",
       "version_major": 2,
       "version_minor": 0
      },
      "text/plain": [
       "FloatProgress(value=0.0, bar_style='info', description='Progress:', layout=Layout(height='25px', width='50%'),…"
      ]
     },
     "metadata": {},
     "output_type": "display_data"
    }
   ],
   "source": [
    "Vegas = spark.sql('''\n",
    "                  select * from inf5_rev100\n",
    "                  where (city like '%Vegas%')  \n",
    "                  ''')\n",
    "Vegas.createOrReplaceTempView(\"VegasView\")"
   ]
  },
  {
   "cell_type": "code",
   "execution_count": 26,
   "id": "190b5a27",
   "metadata": {
    "scrolled": true
   },
   "outputs": [
    {
     "data": {
      "application/vnd.jupyter.widget-view+json": {
       "model_id": "",
       "version_major": 2,
       "version_minor": 0
      },
      "text/plain": [
       "FloatProgress(value=0.0, bar_style='info', description='Progress:', layout=Layout(height='25px', width='50%'),…"
      ]
     },
     "metadata": {},
     "output_type": "display_data"
    },
    {
     "data": {
      "application/vnd.jupyter.widget-view+json": {
       "model_id": "4c4eefb5cc364c0fbb5de25096660f43",
       "version_major": 2,
       "version_minor": 0
      },
      "text/plain": [
       "VBox(children=(HBox(children=(HTML(value='Type:'), Button(description='Table', layout=Layout(width='70px'), st…"
      ]
     },
     "metadata": {},
     "output_type": "display_data"
    },
    {
     "data": {
      "application/vnd.jupyter.widget-view+json": {
       "model_id": "2265fb8364d04cefb270ba12162ed5a4",
       "version_major": 2,
       "version_minor": 0
      },
      "text/plain": [
       "Output()"
      ]
     },
     "metadata": {},
     "output_type": "display_data"
    }
   ],
   "source": [
    "%%sql\n",
    "select count(*) from VegasView"
   ]
  },
  {
   "cell_type": "code",
   "execution_count": 27,
   "id": "9972d134",
   "metadata": {
    "scrolled": false
   },
   "outputs": [
    {
     "data": {
      "application/vnd.jupyter.widget-view+json": {
       "model_id": "",
       "version_major": 2,
       "version_minor": 0
      },
      "text/plain": [
       "FloatProgress(value=0.0, bar_style='info', description='Progress:', layout=Layout(height='25px', width='50%'),…"
      ]
     },
     "metadata": {},
     "output_type": "display_data"
    },
    {
     "data": {
      "application/vnd.jupyter.widget-view+json": {
       "model_id": "b6c23b42aafd4bc08ff87f15bd194907",
       "version_major": 2,
       "version_minor": 0
      },
      "text/plain": [
       "VBox(children=(HBox(children=(HTML(value='Type:'), Button(description='Table', layout=Layout(width='70px'), st…"
      ]
     },
     "metadata": {},
     "output_type": "display_data"
    },
    {
     "data": {
      "application/vnd.jupyter.widget-view+json": {
       "model_id": "93fb4b092d994dd2aa5fcef66f6f6563",
       "version_major": 2,
       "version_minor": 0
      },
      "text/plain": [
       "Output()"
      ]
     },
     "metadata": {},
     "output_type": "display_data"
    }
   ],
   "source": [
    "%%sql \n",
    "select count(*) from VegasView\n",
    "where text LIKE \"%legitimate%\" OR text LIKE \"%Legitimate%\" \n",
    "OR text LIKE \"%LEGITIMATE%\" OR text LIKE \"%authentic%\" \n",
    "OR text LIKE \"%Authen%\" OR text LIKE \"%AUTHEN%\" OR text Like \"%%\""
   ]
  },
  {
   "cell_type": "code",
   "execution_count": 3,
   "id": "099ea93d",
   "metadata": {},
   "outputs": [
    {
     "data": {
      "application/vnd.jupyter.widget-view+json": {
       "model_id": "",
       "version_major": 2,
       "version_minor": 0
      },
      "text/plain": [
       "FloatProgress(value=0.0, bar_style='info', description='Progress:', layout=Layout(height='25px', width='50%'),…"
      ]
     },
     "metadata": {},
     "output_type": "display_data"
    },
    {
     "name": "stdout",
     "output_type": "stream",
     "text": [
      "0.0142641804376954"
     ]
    }
   ],
   "source": [
    "(511)/35824"
   ]
  },
  {
   "cell_type": "code",
   "execution_count": 11,
   "id": "b770b886",
   "metadata": {},
   "outputs": [
    {
     "data": {
      "application/vnd.jupyter.widget-view+json": {
       "model_id": "",
       "version_major": 2,
       "version_minor": 0
      },
      "text/plain": [
       "FloatProgress(value=0.0, bar_style='info', description='Progress:', layout=Layout(height='25px', width='50%'),…"
      ]
     },
     "metadata": {},
     "output_type": "display_data"
    }
   ],
   "source": [
    "Charlotte = spark.sql('''\n",
    "                  select * from inf5_rev100\n",
    "                  where (city like '%Charlotte%')  \n",
    "                  ''')\n",
    "Charlotte.createOrReplaceTempView(\"CharlotteView\")"
   ]
  },
  {
   "cell_type": "code",
   "execution_count": 15,
   "id": "dbc6db06",
   "metadata": {
    "scrolled": true
   },
   "outputs": [
    {
     "data": {
      "application/vnd.jupyter.widget-view+json": {
       "model_id": "",
       "version_major": 2,
       "version_minor": 0
      },
      "text/plain": [
       "FloatProgress(value=0.0, bar_style='info', description='Progress:', layout=Layout(height='25px', width='50%'),…"
      ]
     },
     "metadata": {},
     "output_type": "display_data"
    },
    {
     "data": {
      "application/vnd.jupyter.widget-view+json": {
       "model_id": "b7a3e7957c7e48018bd4323801880d8c",
       "version_major": 2,
       "version_minor": 0
      },
      "text/plain": [
       "VBox(children=(HBox(children=(HTML(value='Type:'), Button(description='Table', layout=Layout(width='70px'), st…"
      ]
     },
     "metadata": {},
     "output_type": "display_data"
    },
    {
     "data": {
      "application/vnd.jupyter.widget-view+json": {
       "model_id": "9c7c71278b144c6e80739a2d14238f60",
       "version_major": 2,
       "version_minor": 0
      },
      "text/plain": [
       "Output()"
      ]
     },
     "metadata": {},
     "output_type": "display_data"
    }
   ],
   "source": [
    "%%sql\n",
    "select count(*) from CharlotteView\n"
   ]
  },
  {
   "cell_type": "code",
   "execution_count": 16,
   "id": "c6b0a819",
   "metadata": {
    "scrolled": false
   },
   "outputs": [
    {
     "data": {
      "application/vnd.jupyter.widget-view+json": {
       "model_id": "",
       "version_major": 2,
       "version_minor": 0
      },
      "text/plain": [
       "FloatProgress(value=0.0, bar_style='info', description='Progress:', layout=Layout(height='25px', width='50%'),…"
      ]
     },
     "metadata": {},
     "output_type": "display_data"
    },
    {
     "data": {
      "application/vnd.jupyter.widget-view+json": {
       "model_id": "b82ac1a3fd3b40efa1b55a47887ca973",
       "version_major": 2,
       "version_minor": 0
      },
      "text/plain": [
       "VBox(children=(HBox(children=(HTML(value='Type:'), Button(description='Table', layout=Layout(width='70px'), st…"
      ]
     },
     "metadata": {},
     "output_type": "display_data"
    },
    {
     "data": {
      "application/vnd.jupyter.widget-view+json": {
       "model_id": "eb38319ce50d4964b1b597236996bbc7",
       "version_major": 2,
       "version_minor": 0
      },
      "text/plain": [
       "Output()"
      ]
     },
     "metadata": {},
     "output_type": "display_data"
    }
   ],
   "source": [
    "%%sql \n",
    "select count(*) from CharlotteView\n",
    "where text LIKE \"%legitimate%\" OR text LIKE \"%Legitimate%\" \n",
    "OR text LIKE \"%LEGITIMATE%\" OR text LIKE \"%authentic%\" \n",
    "OR text LIKE \"%Authen%\" OR text LIKE \"%AUTHEN%\""
   ]
  },
  {
   "cell_type": "code",
   "execution_count": 17,
   "id": "b5a626ae",
   "metadata": {},
   "outputs": [
    {
     "data": {
      "application/vnd.jupyter.widget-view+json": {
       "model_id": "",
       "version_major": 2,
       "version_minor": 0
      },
      "text/plain": [
       "FloatProgress(value=0.0, bar_style='info', description='Progress:', layout=Layout(height='25px', width='50%'),…"
      ]
     },
     "metadata": {},
     "output_type": "display_data"
    },
    {
     "name": "stdout",
     "output_type": "stream",
     "text": [
      "0.016652059596844872"
     ]
    }
   ],
   "source": [
    "38/2282"
   ]
  },
  {
   "cell_type": "code",
   "execution_count": 31,
   "id": "4a5c8843",
   "metadata": {},
   "outputs": [
    {
     "data": {
      "application/vnd.jupyter.widget-view+json": {
       "model_id": "",
       "version_major": 2,
       "version_minor": 0
      },
      "text/plain": [
       "FloatProgress(value=0.0, bar_style='info', description='Progress:', layout=Layout(height='25px', width='50%'),…"
      ]
     },
     "metadata": {},
     "output_type": "display_data"
    }
   ],
   "source": [
    "Toronto = spark.sql('''\n",
    "                  select * from inf5_rev100\n",
    "                  where (city like '%Toronto%')  \n",
    "                  ''')\n",
    "Toronto.createOrReplaceTempView(\"TorontoView\")"
   ]
  },
  {
   "cell_type": "code",
   "execution_count": 32,
   "id": "4aa29f4e",
   "metadata": {},
   "outputs": [
    {
     "data": {
      "application/vnd.jupyter.widget-view+json": {
       "model_id": "",
       "version_major": 2,
       "version_minor": 0
      },
      "text/plain": [
       "FloatProgress(value=0.0, bar_style='info', description='Progress:', layout=Layout(height='25px', width='50%'),…"
      ]
     },
     "metadata": {},
     "output_type": "display_data"
    },
    {
     "data": {
      "application/vnd.jupyter.widget-view+json": {
       "model_id": "132f563153c147ee9bac992f9879c0cc",
       "version_major": 2,
       "version_minor": 0
      },
      "text/plain": [
       "VBox(children=(HBox(children=(HTML(value='Type:'), Button(description='Table', layout=Layout(width='70px'), st…"
      ]
     },
     "metadata": {},
     "output_type": "display_data"
    },
    {
     "data": {
      "application/vnd.jupyter.widget-view+json": {
       "model_id": "2e82f147fc7d4be6a80dd05340b33c44",
       "version_major": 2,
       "version_minor": 0
      },
      "text/plain": [
       "Output()"
      ]
     },
     "metadata": {},
     "output_type": "display_data"
    }
   ],
   "source": [
    "%%sql\n",
    "select count(*) from TorontoView"
   ]
  },
  {
   "cell_type": "code",
   "execution_count": 33,
   "id": "c2dcc41e",
   "metadata": {},
   "outputs": [
    {
     "data": {
      "application/vnd.jupyter.widget-view+json": {
       "model_id": "",
       "version_major": 2,
       "version_minor": 0
      },
      "text/plain": [
       "FloatProgress(value=0.0, bar_style='info', description='Progress:', layout=Layout(height='25px', width='50%'),…"
      ]
     },
     "metadata": {},
     "output_type": "display_data"
    },
    {
     "data": {
      "application/vnd.jupyter.widget-view+json": {
       "model_id": "405a62d749ee49cdb00b08021ade2b35",
       "version_major": 2,
       "version_minor": 0
      },
      "text/plain": [
       "VBox(children=(HBox(children=(HTML(value='Type:'), Button(description='Table', layout=Layout(width='70px'), st…"
      ]
     },
     "metadata": {},
     "output_type": "display_data"
    },
    {
     "data": {
      "application/vnd.jupyter.widget-view+json": {
       "model_id": "942abae12b4a441cbc5cdd78400e9226",
       "version_major": 2,
       "version_minor": 0
      },
      "text/plain": [
       "Output()"
      ]
     },
     "metadata": {},
     "output_type": "display_data"
    }
   ],
   "source": [
    "%%sql \n",
    "select count(*) from TorontoView\n",
    "where text LIKE \"%legitimate%\" OR text LIKE \"%Legitimate%\" \n",
    "OR text LIKE \"%LEGITIMATE%\" OR text LIKE \"%authentic%\" \n",
    "OR text LIKE \"%Authen%\" OR text LIKE \"%AUTHEN%\""
   ]
  },
  {
   "cell_type": "code",
   "execution_count": 6,
   "id": "de56d35c",
   "metadata": {},
   "outputs": [
    {
     "data": {
      "application/vnd.jupyter.widget-view+json": {
       "model_id": "",
       "version_major": 2,
       "version_minor": 0
      },
      "text/plain": [
       "FloatProgress(value=0.0, bar_style='info', description='Progress:', layout=Layout(height='25px', width='50%'),…"
      ]
     },
     "metadata": {},
     "output_type": "display_data"
    },
    {
     "name": "stdout",
     "output_type": "stream",
     "text": [
      "0.026545166402535656"
     ]
    }
   ],
   "source": [
    "67/2524"
   ]
  },
  {
   "cell_type": "code",
   "execution_count": null,
   "id": "3352f403",
   "metadata": {},
   "outputs": [],
   "source": []
  }
 ],
 "metadata": {
  "kernelspec": {
   "display_name": "PySpark",
   "language": "python",
   "name": "pysparkkernel"
  },
  "language_info": {
   "codemirror_mode": {
    "name": "python",
    "version": 3
   },
   "file_extension": ".py",
   "mimetype": "text/x-python",
   "name": "pyspark",
   "pygments_lexer": "python3"
  }
 },
 "nbformat": 4,
 "nbformat_minor": 5
}
