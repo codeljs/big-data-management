{
 "cells": [
  {
   "cell_type": "markdown",
   "id": "9b08e334",
   "metadata": {},
   "source": [
    "Preprocessing:\n",
    "    \n",
    "    - Timestamp, merging dataframes\n",
    "    - Handling the missing data   \n",
    "    - Feature scaling\n",
    "    - Feature encoding\n",
    "    \n",
    "Modeling:\n",
    "\n",
    "    - Train,test,split, kfold\n",
    "    - Linear Regression\n",
    "    - column transformer\n",
    "    - Pipeline\n",
    "    \n",
    "Evaluation:\n",
    "\n",
    "    - Evaluation metrics\n",
    "    - Visualization\n",
    "    \n"
   ]
  },
  {
   "cell_type": "code",
   "execution_count": 5,
   "id": "65e283c2",
   "metadata": {},
   "outputs": [],
   "source": [
    "####################################################\n",
    "## Getting the data\n",
    "\n",
    "from influxdb import InfluxDBClient # install via \"pip install influxdb\"\n",
    "import pandas as pd\n",
    "\n",
    "client = InfluxDBClient(host='influxus.itu.dk', port=8086, username='lsda', password='icanonlyread')\n",
    "client.switch_database('orkney')\n",
    "\n",
    "\n",
    "def get_df(results):\n",
    "    values = results.raw[\"series\"][0][\"values\"]\n",
    "    columns = results.raw[\"series\"][0][\"columns\"]\n",
    "    df = pd.DataFrame(values, columns=columns).set_index(\"time\")\n",
    "    df.index = pd.to_datetime(df.index) # Convert to datetime-index\n",
    "    return df\n",
    "\n",
    "# Get the last 90 days of power generation data\n",
    "generation = client.query(\n",
    "    \"SELECT * FROM Generation where time > now()-90d\"\n",
    "    ) # Query written in InfluxQL\n",
    "\n",
    "# Get the last 90 days of weather forecasts with the shortest lead time\n",
    "wind  = client.query(\n",
    "    \"SELECT * FROM MetForecasts where time > now()-90d and time <= now() and Lead_hours = '1'\"\n",
    "    ) # Query written in InfluxQL\n",
    "\n",
    "\n",
    "gen_df = get_df(generation)\n",
    "wind_df = get_df(wind)\n"
   ]
  },
  {
   "cell_type": "markdown",
   "id": "a8abcd74",
   "metadata": {},
   "source": [
    "## Aligning the timestamps\n",
    "gen_df has 1 value for each min, yet wind_df has a value for each 3h"
   ]
  },
  {
   "cell_type": "code",
   "execution_count": 6,
   "id": "cc12700d",
   "metadata": {},
   "outputs": [
    {
     "name": "stdout",
     "output_type": "stream",
     "text": [
      "Before resampling: (129446, 1)\n",
      "After resampling: (721, 1)\n"
     ]
    },
    {
     "data": {
      "text/html": [
       "<div>\n",
       "<style scoped>\n",
       "    .dataframe tbody tr th:only-of-type {\n",
       "        vertical-align: middle;\n",
       "    }\n",
       "\n",
       "    .dataframe tbody tr th {\n",
       "        vertical-align: top;\n",
       "    }\n",
       "\n",
       "    .dataframe thead th {\n",
       "        text-align: right;\n",
       "    }\n",
       "</style>\n",
       "<table border=\"1\" class=\"dataframe\">\n",
       "  <thead>\n",
       "    <tr style=\"text-align: right;\">\n",
       "      <th></th>\n",
       "      <th>Total</th>\n",
       "    </tr>\n",
       "    <tr>\n",
       "      <th>time</th>\n",
       "      <th></th>\n",
       "    </tr>\n",
       "  </thead>\n",
       "  <tbody>\n",
       "    <tr>\n",
       "      <th>2022-06-09 15:00:00+00:00</th>\n",
       "      <td>22.515168</td>\n",
       "    </tr>\n",
       "    <tr>\n",
       "      <th>2022-06-09 18:00:00+00:00</th>\n",
       "      <td>23.381639</td>\n",
       "    </tr>\n",
       "    <tr>\n",
       "      <th>2022-06-09 21:00:00+00:00</th>\n",
       "      <td>16.340972</td>\n",
       "    </tr>\n",
       "    <tr>\n",
       "      <th>2022-06-10 00:00:00+00:00</th>\n",
       "      <td>10.932711</td>\n",
       "    </tr>\n",
       "    <tr>\n",
       "      <th>2022-06-10 03:00:00+00:00</th>\n",
       "      <td>9.970450</td>\n",
       "    </tr>\n",
       "  </tbody>\n",
       "</table>\n",
       "</div>"
      ],
      "text/plain": [
       "                               Total\n",
       "time                                \n",
       "2022-06-09 15:00:00+00:00  22.515168\n",
       "2022-06-09 18:00:00+00:00  23.381639\n",
       "2022-06-09 21:00:00+00:00  16.340972\n",
       "2022-06-10 00:00:00+00:00  10.932711\n",
       "2022-06-10 03:00:00+00:00   9.970450"
      ]
     },
     "execution_count": 6,
     "metadata": {},
     "output_type": "execute_result"
    }
   ],
   "source": [
    "gen_df = pd.DataFrame(gen_df['Total'])\n",
    "print(f\"Before resampling: {gen_df.shape}\")\n",
    "gen_df = gen_df.resample('3h').mean()\n",
    "print(f\"After resampling: {gen_df.shape}\")\n",
    "gen_df.head()"
   ]
  },
  {
   "cell_type": "code",
   "execution_count": null,
   "id": "99f65b60",
   "metadata": {},
   "outputs": [],
   "source": []
  },
  {
   "cell_type": "code",
   "execution_count": 7,
   "id": "5f6fcba0",
   "metadata": {},
   "outputs": [
    {
     "name": "stdout",
     "output_type": "stream",
     "text": [
      "Null values:\n",
      " Speed    45\n",
      "Total     0\n",
      "dtype: int64\n"
     ]
    }
   ],
   "source": [
    "wind_df = wind_df['Speed']\n",
    "\n",
    "############################ Concatenating the dataframes ############################\n",
    "main_df = pd.concat([wind_df, gen_df], axis=1)\n",
    "print(f\"Null values:\\n {main_df.isnull().sum()}\")"
   ]
  },
  {
   "cell_type": "markdown",
   "id": "7c74836b",
   "metadata": {},
   "source": [
    "## Dropping the null values"
   ]
  },
  {
   "cell_type": "code",
   "execution_count": 8,
   "id": "d7e22a0d",
   "metadata": {},
   "outputs": [
    {
     "data": {
      "text/plain": [
       "Speed    0\n",
       "Total    0\n",
       "dtype: int64"
      ]
     },
     "execution_count": 8,
     "metadata": {},
     "output_type": "execute_result"
    }
   ],
   "source": [
    "main_df = main_df.dropna()\n",
    "main_df.isnull().sum()"
   ]
  },
  {
   "cell_type": "markdown",
   "id": "29b35346",
   "metadata": {},
   "source": [
    "## SimpleImputer"
   ]
  },
  {
   "cell_type": "code",
   "execution_count": 9,
   "id": "9f9695e7",
   "metadata": {},
   "outputs": [],
   "source": [
    "# from sklearn.impute import SimpleImputer\n",
    "# import numpy as np\n",
    "\n",
    "# imp_mean = SimpleImputer(missing_values=np.nan, strategy='mean')\n",
    "# main_df = pd.DataFrame(imp_mean.fit_transform(main_df), columns=[['Speed', 'Total']])\n",
    "# main_df.isnull().sum()"
   ]
  },
  {
   "cell_type": "code",
   "execution_count": 10,
   "id": "c7bc73d5",
   "metadata": {},
   "outputs": [
    {
     "data": {
      "text/html": [
       "<div>\n",
       "<style scoped>\n",
       "    .dataframe tbody tr th:only-of-type {\n",
       "        vertical-align: middle;\n",
       "    }\n",
       "\n",
       "    .dataframe tbody tr th {\n",
       "        vertical-align: top;\n",
       "    }\n",
       "\n",
       "    .dataframe thead th {\n",
       "        text-align: right;\n",
       "    }\n",
       "</style>\n",
       "<table border=\"1\" class=\"dataframe\">\n",
       "  <thead>\n",
       "    <tr style=\"text-align: right;\">\n",
       "      <th></th>\n",
       "      <th>Speed</th>\n",
       "      <th>Total</th>\n",
       "    </tr>\n",
       "    <tr>\n",
       "      <th>time</th>\n",
       "      <th></th>\n",
       "      <th></th>\n",
       "    </tr>\n",
       "  </thead>\n",
       "  <tbody>\n",
       "    <tr>\n",
       "      <th>2022-06-09 18:00:00+00:00</th>\n",
       "      <td>8.94080</td>\n",
       "      <td>23.381639</td>\n",
       "    </tr>\n",
       "    <tr>\n",
       "      <th>2022-06-09 21:00:00+00:00</th>\n",
       "      <td>8.94080</td>\n",
       "      <td>16.340972</td>\n",
       "    </tr>\n",
       "    <tr>\n",
       "      <th>2022-06-10 00:00:00+00:00</th>\n",
       "      <td>5.81152</td>\n",
       "      <td>10.932711</td>\n",
       "    </tr>\n",
       "    <tr>\n",
       "      <th>2022-06-10 03:00:00+00:00</th>\n",
       "      <td>4.02336</td>\n",
       "      <td>9.970450</td>\n",
       "    </tr>\n",
       "    <tr>\n",
       "      <th>2022-06-10 06:00:00+00:00</th>\n",
       "      <td>5.81152</td>\n",
       "      <td>17.648395</td>\n",
       "    </tr>\n",
       "  </tbody>\n",
       "</table>\n",
       "</div>"
      ],
      "text/plain": [
       "                             Speed      Total\n",
       "time                                         \n",
       "2022-06-09 18:00:00+00:00  8.94080  23.381639\n",
       "2022-06-09 21:00:00+00:00  8.94080  16.340972\n",
       "2022-06-10 00:00:00+00:00  5.81152  10.932711\n",
       "2022-06-10 03:00:00+00:00  4.02336   9.970450\n",
       "2022-06-10 06:00:00+00:00  5.81152  17.648395"
      ]
     },
     "execution_count": 10,
     "metadata": {},
     "output_type": "execute_result"
    }
   ],
   "source": [
    "main_df.head()"
   ]
  },
  {
   "cell_type": "code",
   "execution_count": 11,
   "id": "064828b8",
   "metadata": {},
   "outputs": [],
   "source": [
    "from sklearn.model_selection import train_test_split\n",
    "\n",
    "X = main_df['Speed']\n",
    "y = main_df['Total']\n",
    "\n",
    "x_train, x_test, y_train, y_test = train_test_split(X, y, test_size=0.2, shuffle=False)"
   ]
  },
  {
   "cell_type": "code",
   "execution_count": 12,
   "id": "53614c7c",
   "metadata": {},
   "outputs": [
    {
     "name": "stdout",
     "output_type": "stream",
     "text": [
      "Shape of x_train: (540,), Shape of x_test: (136,)\n"
     ]
    }
   ],
   "source": [
    "print(f\"Shape of x_train: {x_train.shape}, Shape of x_test: {x_test.shape}\") "
   ]
  },
  {
   "cell_type": "code",
   "execution_count": 13,
   "id": "274f2684",
   "metadata": {},
   "outputs": [
    {
     "name": "stdout",
     "output_type": "stream",
     "text": [
      "Score: 0.62\n"
     ]
    }
   ],
   "source": [
    "from sklearn.linear_model import LinearRegression\n",
    "import matplotlib.pyplot as plt\n",
    "import numpy as np\n",
    "\n",
    "x_train = np.array(x_train).reshape(-1,1)\n",
    "y_train = np.array(y_train).reshape(-1,1)\n",
    "x_test = np.array(x_test).reshape(-1,1)\n",
    "\n",
    "reg = LinearRegression().fit(x_train, y_train)\n",
    "print(f\"Score: {round(reg.score(x_train, y_train),2)}\")\n",
    "y_pred = reg.predict(x_test)"
   ]
  },
  {
   "cell_type": "code",
   "execution_count": 14,
   "id": "5080c499",
   "metadata": {},
   "outputs": [
    {
     "data": {
      "image/png": "[encoded data removed]",
      "text/plain": [
       "<Figure size 432x288 with 1 Axes>"
      ]
     },
     "metadata": {
      "needs_background": "light"
     },
     "output_type": "display_data"
    }
   ],
   "source": [
    "plt.scatter(x_test,y_test, color='b')\n",
    "plt.plot(x_test, y_pred, color='r')\n",
    "plt.show()"
   ]
  },
  {
   "cell_type": "code",
   "execution_count": 15,
   "id": "fea5fa43",
   "metadata": {},
   "outputs": [
    {
     "name": "stdout",
     "output_type": "stream",
     "text": [
      "\tmx + b = y[17.26108943]\n",
      "\tpredicted:[17.26108943]\n"
     ]
    }
   ],
   "source": [
    "# mx + b\n",
    "num = 3\n",
    "x = x_test[num]\n",
    "m = reg.coef_[0][0]\n",
    "b = reg.intercept_\n",
    "print(f\"\\tmx + b = y{m * x + b}\")\n",
    "print(f\"\\tpredicted:{y_pred[num]}\")"
   ]
  },
  {
   "cell_type": "markdown",
   "id": "ab685b82",
   "metadata": {},
   "source": [
    "## Metrics evaluation"
   ]
  },
  {
   "cell_type": "code",
   "execution_count": 16,
   "id": "036961a1",
   "metadata": {},
   "outputs": [
    {
     "name": "stdout",
     "output_type": "stream",
     "text": [
      "\tMean Square Error: 41.92\n",
      "\tRoot Mean Square Error: 6.47\n"
     ]
    }
   ],
   "source": [
    "from sklearn.metrics import mean_squared_error as mse\n",
    "\n",
    "print(f\"\\tMean Square Error: {round(mse(x_test, y_pred),2)}\")\n",
    "print(f\"\\tRoot Mean Square Error: {round(mse(x_test, y_pred, squared=False),2)}\")"
   ]
  },
  {
   "cell_type": "markdown",
   "id": "7e0441fa",
   "metadata": {},
   "source": [
    "# Save the dataframes"
   ]
  },
  {
   "cell_type": "code",
   "execution_count": 17,
   "id": "da0c6b83",
   "metadata": {},
   "outputs": [],
   "source": [
    "main_df.to_csv('Data.csv')"
   ]
  },
  {
   "cell_type": "markdown",
   "id": "8937ed1e",
   "metadata": {},
   "source": [
    "# Load the dataframes"
   ]
  },
  {
   "cell_type": "code",
   "execution_count": 18,
   "id": "334b1d63",
   "metadata": {},
   "outputs": [],
   "source": [
    "df = pd.read_csv('Data.csv')"
   ]
  },
  {
   "cell_type": "markdown",
   "id": "31daee4f",
   "metadata": {},
   "source": [
    "## Costum transformer"
   ]
  },
  {
   "cell_type": "code",
   "execution_count": 19,
   "id": "20c46ce5",
   "metadata": {},
   "outputs": [
    {
     "data": {
      "text/html": [
       "<div>\n",
       "<style scoped>\n",
       "    .dataframe tbody tr th:only-of-type {\n",
       "        vertical-align: middle;\n",
       "    }\n",
       "\n",
       "    .dataframe tbody tr th {\n",
       "        vertical-align: top;\n",
       "    }\n",
       "\n",
       "    .dataframe thead th {\n",
       "        text-align: right;\n",
       "    }\n",
       "</style>\n",
       "<table border=\"1\" class=\"dataframe\">\n",
       "  <thead>\n",
       "    <tr style=\"text-align: right;\">\n",
       "      <th></th>\n",
       "      <th>col1</th>\n",
       "      <th>col2</th>\n",
       "    </tr>\n",
       "  </thead>\n",
       "  <tbody>\n",
       "    <tr>\n",
       "      <th>0</th>\n",
       "      <td>5</td>\n",
       "      <td>5</td>\n",
       "    </tr>\n",
       "    <tr>\n",
       "      <th>1</th>\n",
       "      <td>5</td>\n",
       "      <td>10</td>\n",
       "    </tr>\n",
       "    <tr>\n",
       "      <th>2</th>\n",
       "      <td>10</td>\n",
       "      <td>10</td>\n",
       "    </tr>\n",
       "    <tr>\n",
       "      <th>3</th>\n",
       "      <td>10</td>\n",
       "      <td>15</td>\n",
       "    </tr>\n",
       "  </tbody>\n",
       "</table>\n",
       "</div>"
      ],
      "text/plain": [
       "   col1  col2\n",
       "0     5     5\n",
       "1     5    10\n",
       "2    10    10\n",
       "3    10    15"
      ]
     },
     "execution_count": 19,
     "metadata": {},
     "output_type": "execute_result"
    }
   ],
   "source": [
    "# basic example\n",
    "# creating the transformer first\n",
    "from sklearn.base import TransformerMixin, BaseEstimator\n",
    "class my_basic_transformer(TransformerMixin, BaseEstimator):\n",
    "    \n",
    "    def fit(self, x, y=None):\n",
    "        return self\n",
    "    \n",
    "    def transform(self, x, y=None):\n",
    "        transformed = x * 5 ############################## transform action takes place ##############################\n",
    "        return transformed\n",
    "    \n",
    "# testing the transformer\n",
    "# here I make an example\n",
    "x_train = pd.DataFrame(np.array([[1, 1], [1, 2], [2, 2], [2, 3]]), columns=['col1', 'col2'])\n",
    "y_train = np.dot(x_train, np.array([1, 2])) + 3 ############## no need atm ##############\n",
    "x_test = pd.DataFrame(np.array([[3, 5]]), columns=['col1', 'col2']) ############## no need atm ############## \n",
    "\n",
    "# instantiating \n",
    "test = my_basic_transformer()\n",
    "\n",
    "# transforming\n",
    "test.fit_transform(x_train)"
   ]
  },
  {
   "cell_type": "markdown",
   "id": "2ea1fb1b",
   "metadata": {},
   "source": [
    "## Column transformer from sklearn\n",
    "\n",
    "Perform the preprocessing here.\n",
    "Feature scaling is added here as well."
   ]
  },
  {
   "cell_type": "code",
   "execution_count": 20,
   "id": "0473888f",
   "metadata": {},
   "outputs": [
    {
     "data": {
      "text/plain": [
       "array([[ 5. ,  5. ,  0. ,  0. ],\n",
       "       [ 5. , 10. ,  0. ,  0.5],\n",
       "       [10. , 10. ,  1. ,  0.5],\n",
       "       [10. , 15. ,  1. ,  1. ]])"
      ]
     },
     "execution_count": 20,
     "metadata": {},
     "output_type": "execute_result"
    }
   ],
   "source": [
    "from sklearn.compose import ColumnTransformer\n",
    "from sklearn.preprocessing import MinMaxScaler # check the documents what it does\n",
    "ct = ColumnTransformer([\n",
    "    ('my_basic_transformer', test, ['col1', 'col2']), # if dataframe is passed you need to specify what column should be transformed.\n",
    "    ('mms', MinMaxScaler(), ['col1', 'col2'])  \n",
    "])\n",
    "\n",
    "ct.fit_transform(x_train)"
   ]
  },
  {
   "cell_type": "markdown",
   "id": "01f08cfe",
   "metadata": {},
   "source": [
    "## Pipeline from sklearn\n",
    "Pass your column transformer and model in the pipeline"
   ]
  },
  {
   "cell_type": "code",
   "execution_count": 21,
   "id": "d0c7e6e1",
   "metadata": {},
   "outputs": [
    {
     "data": {
      "text/plain": [
       "array([16.])"
      ]
     },
     "execution_count": 21,
     "metadata": {},
     "output_type": "execute_result"
    }
   ],
   "source": [
    "from sklearn.pipeline import Pipeline\n",
    "\n",
    "pipeline = Pipeline([\n",
    "    ('my_ct', ct),\n",
    "    ('lr', LinearRegression())\n",
    "])\n",
    "\n",
    "# we created y_train, x_test earlier. \n",
    "pipeline.fit(x_train, y_train)\n",
    "pipeline.predict(x_test)"
   ]
  },
  {
   "cell_type": "markdown",
   "id": "b5c179d2",
   "metadata": {},
   "source": [
    "## More costum transformer example\n",
    "dont forget to install dateutil with \"pip install dateutils\""
   ]
  },
  {
   "cell_type": "code",
   "execution_count": 22,
   "id": "d7113014",
   "metadata": {},
   "outputs": [],
   "source": [
    "from dateutil import parser\n",
    "\n",
    "class DateParser(BaseEstimator, TransformerMixin):\n",
    "    def fit(self, X, y=None):\n",
    "        return self\n",
    "\n",
    "    def transform(self, X):\n",
    "        \n",
    "        X[\"Time\"] = [ parser.parse(d, ignoretz=True) for d in X[\"Time\"].values ]\n",
    "        return X\n",
    "\n",
    "class WeekendAdder(BaseEstimator, TransformerMixin):\n",
    "    def fit(self, X, y=None):\n",
    "        return self\n",
    "\n",
    "    def transform(self, X):\n",
    "        X[\"business_day\"] = [ int(np.is_busday(d)) for d in X[\"Time\"].values.astype('M8[D]') ]\n",
    "        return X\n",
    "\n",
    "class HourAdder(BaseEstimator, TransformerMixin):\n",
    "    def fit(self, X, y=None):\n",
    "        return self\n",
    "\n",
    "    def transform(self, X):\n",
    "        X[\"hour\"] = [ pd.to_datetime(d).hour for d in X[\"Time\"].values ]\n",
    "        return X\n",
    "\n",
    "class DropTime(BaseEstimator, TransformerMixin):\n",
    "    def fit(self, X, y=None):\n",
    "        return self\n",
    "\n",
    "    def transform(self, X):\n",
    "        return X.drop(\"Time\",axis=1)"
   ]
  },
  {
   "cell_type": "markdown",
   "id": "8c93d770",
   "metadata": {},
   "source": [
    "## Feature encoding"
   ]
  },
  {
   "cell_type": "code",
   "execution_count": 23,
   "id": "087d75e5",
   "metadata": {},
   "outputs": [],
   "source": [
    "######################################## fetching the data again ########################################\n",
    "generation = client.query(\n",
    "    \"SELECT * FROM Generation where time > now()-90d\"\n",
    "    ) # Query written in InfluxQL\n",
    "\n",
    "# Get the last 90 days of weather forecasts with the shortest lead time\n",
    "wind  = client.query(\n",
    "    \"SELECT * FROM MetForecasts where time > now()-90d and time <= now() and Lead_hours = '1'\"\n",
    "    ) # Query written in InfluxQL\n",
    "\n",
    "\n",
    "gen_df = get_df(generation)\n",
    "wind_df = get_df(wind)\n",
    "\n",
    "gen_df = pd.DataFrame(gen_df['Total'])\n",
    "wind_df = wind_df[[\"Direction\", \"Speed\"]]"
   ]
  },
  {
   "cell_type": "code",
   "execution_count": 24,
   "id": "6b0923dc",
   "metadata": {},
   "outputs": [
    {
     "data": {
      "text/html": [
       "<div>\n",
       "<style scoped>\n",
       "    .dataframe tbody tr th:only-of-type {\n",
       "        vertical-align: middle;\n",
       "    }\n",
       "\n",
       "    .dataframe tbody tr th {\n",
       "        vertical-align: top;\n",
       "    }\n",
       "\n",
       "    .dataframe thead th {\n",
       "        text-align: right;\n",
       "    }\n",
       "</style>\n",
       "<table border=\"1\" class=\"dataframe\">\n",
       "  <thead>\n",
       "    <tr style=\"text-align: right;\">\n",
       "      <th></th>\n",
       "      <th>Direction</th>\n",
       "      <th>Speed</th>\n",
       "    </tr>\n",
       "    <tr>\n",
       "      <th>time</th>\n",
       "      <th></th>\n",
       "      <th></th>\n",
       "    </tr>\n",
       "  </thead>\n",
       "  <tbody>\n",
       "    <tr>\n",
       "      <th>2022-06-09 18:00:00+00:00</th>\n",
       "      <td>SE</td>\n",
       "      <td>8.94080</td>\n",
       "    </tr>\n",
       "    <tr>\n",
       "      <th>2022-06-09 21:00:00+00:00</th>\n",
       "      <td>SE</td>\n",
       "      <td>8.94080</td>\n",
       "    </tr>\n",
       "    <tr>\n",
       "      <th>2022-06-10 00:00:00+00:00</th>\n",
       "      <td>S</td>\n",
       "      <td>5.81152</td>\n",
       "    </tr>\n",
       "    <tr>\n",
       "      <th>2022-06-10 03:00:00+00:00</th>\n",
       "      <td>S</td>\n",
       "      <td>4.02336</td>\n",
       "    </tr>\n",
       "    <tr>\n",
       "      <th>2022-06-10 06:00:00+00:00</th>\n",
       "      <td>SSE</td>\n",
       "      <td>5.81152</td>\n",
       "    </tr>\n",
       "  </tbody>\n",
       "</table>\n",
       "</div>"
      ],
      "text/plain": [
       "                          Direction    Speed\n",
       "time                                        \n",
       "2022-06-09 18:00:00+00:00        SE  8.94080\n",
       "2022-06-09 21:00:00+00:00        SE  8.94080\n",
       "2022-06-10 00:00:00+00:00         S  5.81152\n",
       "2022-06-10 03:00:00+00:00         S  4.02336\n",
       "2022-06-10 06:00:00+00:00       SSE  5.81152"
      ]
     },
     "execution_count": 24,
     "metadata": {},
     "output_type": "execute_result"
    }
   ],
   "source": [
    "wind_df.head()"
   ]
  },
  {
   "cell_type": "code",
   "execution_count": 26,
   "id": "8da4e0a2",
   "metadata": {},
   "outputs": [
    {
     "data": {
      "text/html": [
       "<div>\n",
       "<style scoped>\n",
       "    .dataframe tbody tr th:only-of-type {\n",
       "        vertical-align: middle;\n",
       "    }\n",
       "\n",
       "    .dataframe tbody tr th {\n",
       "        vertical-align: top;\n",
       "    }\n",
       "\n",
       "    .dataframe thead th {\n",
       "        text-align: right;\n",
       "    }\n",
       "</style>\n",
       "<table border=\"1\" class=\"dataframe\">\n",
       "  <thead>\n",
       "    <tr style=\"text-align: right;\">\n",
       "      <th></th>\n",
       "      <th>Speed</th>\n",
       "      <th>Direction1</th>\n",
       "      <th>Direction2</th>\n",
       "      <th>Direction3</th>\n",
       "      <th>Direction4</th>\n",
       "      <th>Direction5</th>\n",
       "      <th>Direction6</th>\n",
       "      <th>Direction7</th>\n",
       "      <th>Direction8</th>\n",
       "      <th>Direction9</th>\n",
       "      <th>Direction10</th>\n",
       "      <th>Direction11</th>\n",
       "      <th>Direction12</th>\n",
       "      <th>Direction13</th>\n",
       "      <th>Direction14</th>\n",
       "      <th>Direction15</th>\n",
       "      <th>Direction16</th>\n",
       "    </tr>\n",
       "  </thead>\n",
       "  <tbody>\n",
       "    <tr>\n",
       "      <th>0</th>\n",
       "      <td>0.500000</td>\n",
       "      <td>0.0</td>\n",
       "      <td>0.0</td>\n",
       "      <td>0.0</td>\n",
       "      <td>0.0</td>\n",
       "      <td>0.0</td>\n",
       "      <td>0.0</td>\n",
       "      <td>0.0</td>\n",
       "      <td>0.0</td>\n",
       "      <td>0.0</td>\n",
       "      <td>1.0</td>\n",
       "      <td>0.0</td>\n",
       "      <td>0.0</td>\n",
       "      <td>0.0</td>\n",
       "      <td>0.0</td>\n",
       "      <td>0.0</td>\n",
       "      <td>0.0</td>\n",
       "    </tr>\n",
       "    <tr>\n",
       "      <th>1</th>\n",
       "      <td>0.500000</td>\n",
       "      <td>0.0</td>\n",
       "      <td>0.0</td>\n",
       "      <td>0.0</td>\n",
       "      <td>0.0</td>\n",
       "      <td>0.0</td>\n",
       "      <td>0.0</td>\n",
       "      <td>0.0</td>\n",
       "      <td>0.0</td>\n",
       "      <td>0.0</td>\n",
       "      <td>1.0</td>\n",
       "      <td>0.0</td>\n",
       "      <td>0.0</td>\n",
       "      <td>0.0</td>\n",
       "      <td>0.0</td>\n",
       "      <td>0.0</td>\n",
       "      <td>0.0</td>\n",
       "    </tr>\n",
       "    <tr>\n",
       "      <th>2</th>\n",
       "      <td>0.305556</td>\n",
       "      <td>0.0</td>\n",
       "      <td>0.0</td>\n",
       "      <td>0.0</td>\n",
       "      <td>0.0</td>\n",
       "      <td>0.0</td>\n",
       "      <td>0.0</td>\n",
       "      <td>0.0</td>\n",
       "      <td>0.0</td>\n",
       "      <td>1.0</td>\n",
       "      <td>0.0</td>\n",
       "      <td>0.0</td>\n",
       "      <td>0.0</td>\n",
       "      <td>0.0</td>\n",
       "      <td>0.0</td>\n",
       "      <td>0.0</td>\n",
       "      <td>0.0</td>\n",
       "    </tr>\n",
       "    <tr>\n",
       "      <th>3</th>\n",
       "      <td>0.194444</td>\n",
       "      <td>0.0</td>\n",
       "      <td>0.0</td>\n",
       "      <td>0.0</td>\n",
       "      <td>0.0</td>\n",
       "      <td>0.0</td>\n",
       "      <td>0.0</td>\n",
       "      <td>0.0</td>\n",
       "      <td>0.0</td>\n",
       "      <td>1.0</td>\n",
       "      <td>0.0</td>\n",
       "      <td>0.0</td>\n",
       "      <td>0.0</td>\n",
       "      <td>0.0</td>\n",
       "      <td>0.0</td>\n",
       "      <td>0.0</td>\n",
       "      <td>0.0</td>\n",
       "    </tr>\n",
       "    <tr>\n",
       "      <th>4</th>\n",
       "      <td>0.305556</td>\n",
       "      <td>0.0</td>\n",
       "      <td>0.0</td>\n",
       "      <td>0.0</td>\n",
       "      <td>0.0</td>\n",
       "      <td>0.0</td>\n",
       "      <td>0.0</td>\n",
       "      <td>0.0</td>\n",
       "      <td>0.0</td>\n",
       "      <td>0.0</td>\n",
       "      <td>0.0</td>\n",
       "      <td>1.0</td>\n",
       "      <td>0.0</td>\n",
       "      <td>0.0</td>\n",
       "      <td>0.0</td>\n",
       "      <td>0.0</td>\n",
       "      <td>0.0</td>\n",
       "    </tr>\n",
       "    <tr>\n",
       "      <th>...</th>\n",
       "      <td>...</td>\n",
       "      <td>...</td>\n",
       "      <td>...</td>\n",
       "      <td>...</td>\n",
       "      <td>...</td>\n",
       "      <td>...</td>\n",
       "      <td>...</td>\n",
       "      <td>...</td>\n",
       "      <td>...</td>\n",
       "      <td>...</td>\n",
       "      <td>...</td>\n",
       "      <td>...</td>\n",
       "      <td>...</td>\n",
       "      <td>...</td>\n",
       "      <td>...</td>\n",
       "      <td>...</td>\n",
       "      <td>...</td>\n",
       "    </tr>\n",
       "    <tr>\n",
       "      <th>671</th>\n",
       "      <td>0.750000</td>\n",
       "      <td>1.0</td>\n",
       "      <td>0.0</td>\n",
       "      <td>0.0</td>\n",
       "      <td>0.0</td>\n",
       "      <td>0.0</td>\n",
       "      <td>0.0</td>\n",
       "      <td>0.0</td>\n",
       "      <td>0.0</td>\n",
       "      <td>0.0</td>\n",
       "      <td>0.0</td>\n",
       "      <td>0.0</td>\n",
       "      <td>0.0</td>\n",
       "      <td>0.0</td>\n",
       "      <td>0.0</td>\n",
       "      <td>0.0</td>\n",
       "      <td>0.0</td>\n",
       "    </tr>\n",
       "    <tr>\n",
       "      <th>672</th>\n",
       "      <td>0.750000</td>\n",
       "      <td>1.0</td>\n",
       "      <td>0.0</td>\n",
       "      <td>0.0</td>\n",
       "      <td>0.0</td>\n",
       "      <td>0.0</td>\n",
       "      <td>0.0</td>\n",
       "      <td>0.0</td>\n",
       "      <td>0.0</td>\n",
       "      <td>0.0</td>\n",
       "      <td>0.0</td>\n",
       "      <td>0.0</td>\n",
       "      <td>0.0</td>\n",
       "      <td>0.0</td>\n",
       "      <td>0.0</td>\n",
       "      <td>0.0</td>\n",
       "      <td>0.0</td>\n",
       "    </tr>\n",
       "    <tr>\n",
       "      <th>673</th>\n",
       "      <td>0.694444</td>\n",
       "      <td>1.0</td>\n",
       "      <td>0.0</td>\n",
       "      <td>0.0</td>\n",
       "      <td>0.0</td>\n",
       "      <td>0.0</td>\n",
       "      <td>0.0</td>\n",
       "      <td>0.0</td>\n",
       "      <td>0.0</td>\n",
       "      <td>0.0</td>\n",
       "      <td>0.0</td>\n",
       "      <td>0.0</td>\n",
       "      <td>0.0</td>\n",
       "      <td>0.0</td>\n",
       "      <td>0.0</td>\n",
       "      <td>0.0</td>\n",
       "      <td>0.0</td>\n",
       "    </tr>\n",
       "    <tr>\n",
       "      <th>674</th>\n",
       "      <td>0.638889</td>\n",
       "      <td>0.0</td>\n",
       "      <td>0.0</td>\n",
       "      <td>1.0</td>\n",
       "      <td>0.0</td>\n",
       "      <td>0.0</td>\n",
       "      <td>0.0</td>\n",
       "      <td>0.0</td>\n",
       "      <td>0.0</td>\n",
       "      <td>0.0</td>\n",
       "      <td>0.0</td>\n",
       "      <td>0.0</td>\n",
       "      <td>0.0</td>\n",
       "      <td>0.0</td>\n",
       "      <td>0.0</td>\n",
       "      <td>0.0</td>\n",
       "      <td>0.0</td>\n",
       "    </tr>\n",
       "    <tr>\n",
       "      <th>675</th>\n",
       "      <td>0.638889</td>\n",
       "      <td>0.0</td>\n",
       "      <td>0.0</td>\n",
       "      <td>0.0</td>\n",
       "      <td>0.0</td>\n",
       "      <td>0.0</td>\n",
       "      <td>0.0</td>\n",
       "      <td>0.0</td>\n",
       "      <td>0.0</td>\n",
       "      <td>0.0</td>\n",
       "      <td>1.0</td>\n",
       "      <td>0.0</td>\n",
       "      <td>0.0</td>\n",
       "      <td>0.0</td>\n",
       "      <td>0.0</td>\n",
       "      <td>0.0</td>\n",
       "      <td>0.0</td>\n",
       "    </tr>\n",
       "  </tbody>\n",
       "</table>\n",
       "<p>676 rows × 17 columns</p>\n",
       "</div>"
      ],
      "text/plain": [
       "        Speed  Direction1  Direction2  Direction3  Direction4  Direction5  \\\n",
       "0    0.500000         0.0         0.0         0.0         0.0         0.0   \n",
       "1    0.500000         0.0         0.0         0.0         0.0         0.0   \n",
       "2    0.305556         0.0         0.0         0.0         0.0         0.0   \n",
       "3    0.194444         0.0         0.0         0.0         0.0         0.0   \n",
       "4    0.305556         0.0         0.0         0.0         0.0         0.0   \n",
       "..        ...         ...         ...         ...         ...         ...   \n",
       "671  0.750000         1.0         0.0         0.0         0.0         0.0   \n",
       "672  0.750000         1.0         0.0         0.0         0.0         0.0   \n",
       "673  0.694444         1.0         0.0         0.0         0.0         0.0   \n",
       "674  0.638889         0.0         0.0         1.0         0.0         0.0   \n",
       "675  0.638889         0.0         0.0         0.0         0.0         0.0   \n",
       "\n",
       "     Direction6  Direction7  Direction8  Direction9  Direction10  Direction11  \\\n",
       "0           0.0         0.0         0.0         0.0          1.0          0.0   \n",
       "1           0.0         0.0         0.0         0.0          1.0          0.0   \n",
       "2           0.0         0.0         0.0         1.0          0.0          0.0   \n",
       "3           0.0         0.0         0.0         1.0          0.0          0.0   \n",
       "4           0.0         0.0         0.0         0.0          0.0          1.0   \n",
       "..          ...         ...         ...         ...          ...          ...   \n",
       "671         0.0         0.0         0.0         0.0          0.0          0.0   \n",
       "672         0.0         0.0         0.0         0.0          0.0          0.0   \n",
       "673         0.0         0.0         0.0         0.0          0.0          0.0   \n",
       "674         0.0         0.0         0.0         0.0          0.0          0.0   \n",
       "675         0.0         0.0         0.0         0.0          1.0          0.0   \n",
       "\n",
       "     Direction12  Direction13  Direction14  Direction15  Direction16  \n",
       "0            0.0          0.0          0.0          0.0          0.0  \n",
       "1            0.0          0.0          0.0          0.0          0.0  \n",
       "2            0.0          0.0          0.0          0.0          0.0  \n",
       "3            0.0          0.0          0.0          0.0          0.0  \n",
       "4            0.0          0.0          0.0          0.0          0.0  \n",
       "..           ...          ...          ...          ...          ...  \n",
       "671          0.0          0.0          0.0          0.0          0.0  \n",
       "672          0.0          0.0          0.0          0.0          0.0  \n",
       "673          0.0          0.0          0.0          0.0          0.0  \n",
       "674          0.0          0.0          0.0          0.0          0.0  \n",
       "675          0.0          0.0          0.0          0.0          0.0  \n",
       "\n",
       "[676 rows x 17 columns]"
      ]
     },
     "execution_count": 26,
     "metadata": {},
     "output_type": "execute_result"
    }
   ],
   "source": [
    "from sklearn.preprocessing import OneHotEncoder\n",
    "\n",
    "splitter = ColumnTransformer([\n",
    "    (\"MinMaxScaler\", MinMaxScaler(), ['Speed']),\n",
    "    (\"OneHotEncoder\", OneHotEncoder(), ['Direction']),\n",
    "])\n",
    "\n",
    "pd.DataFrame(np.array(splitter.fit_transform(wind_df).todense()), columns=[\"Speed\", \"Direction1\",\"Direction2\",\"Direction3\",\n",
    "                                                                           \"Direction4\",\"Direction5\",\"Direction6\", \"Direction7\",\n",
    "                                                                           \"Direction8\",\"Direction9\",\"Direction10\", \"Direction11\",\n",
    "                                                                           \"Direction12\",\"Direction13\",\"Direction14\", \"Direction15\",\n",
    "                                                                           \"Direction16\"\n",
    "                                                                          ])"
   ]
  },
  {
   "cell_type": "code",
   "execution_count": null,
   "id": "217e1c57",
   "metadata": {
    "scrolled": false
   },
   "outputs": [],
   "source": []
  },
  {
   "cell_type": "code",
   "execution_count": null,
   "id": "98e07621",
   "metadata": {},
   "outputs": [],
   "source": []
  },
  {
   "cell_type": "code",
   "execution_count": null,
   "id": "566673d8",
   "metadata": {},
   "outputs": [],
   "source": []
  }
 ],
 "metadata": {
  "kernelspec": {
   "display_name": "Python 3 (ipykernel)",
   "language": "python",
   "name": "python3"
  },
  "language_info": {
   "codemirror_mode": {
    "name": "ipython",
    "version": 3
   },
   "file_extension": ".py",
   "mimetype": "text/x-python",
   "name": "python",
   "nbconvert_exporter": "python",
   "pygments_lexer": "ipython3",
   "version": "3.8.10"
  }
 },
 "nbformat": 4,
 "nbformat_minor": 5
}
