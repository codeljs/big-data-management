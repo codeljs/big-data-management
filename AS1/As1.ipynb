{
 "cells": [
  {
   "cell_type": "markdown",
   "id": "9b08e334",
   "metadata": {},
   "source": [
    "Preprocessing:\n",
    "    \n",
    "    - Timestamp, merging dataframes\n",
    "    - Handling the missing data   \n",
    "    - Feature scaling\n",
    "    - Feature encoding\n",
    "    \n",
    "Modeling:\n",
    "\n",
    "    - Train,test,split, kfold\n",
    "    - Linear Regression\n",
    "    - column transformer\n",
    "    - Pipeline\n",
    "    \n",
    "Evaluation:\n",
    "\n",
    "    - Evaluation metrics\n",
    "    - Visualization\n",
    "    \n"
   ]
  },
  {
   "cell_type": "code",
   "execution_count": 12,
   "id": "65e283c2",
   "metadata": {},
   "outputs": [],
   "source": [
    "####################################################\n",
    "## Getting the data\n",
    "\n",
    "from influxdb import InfluxDBClient # install via \"pip install influxdb\"\n",
    "import pandas as pd\n",
    "from sklearn.model_selection import train_test_split\n",
    "from sklearn.linear_model import LinearRegression\n",
    "import matplotlib.pyplot as plt\n",
    "import numpy as np\n",
    "\n",
    "client = InfluxDBClient(host='influxus.itu.dk', port=8086, username='lsda', password='icanonlyread')\n",
    "client.switch_database('orkney')\n",
    "\n",
    "\n",
    "def get_df(results):\n",
    "    values = results.raw[\"series\"][0][\"values\"]\n",
    "    columns = results.raw[\"series\"][0][\"columns\"]\n",
    "    df = pd.DataFrame(values, columns=columns).set_index(\"time\")\n",
    "    df.index = pd.to_datetime(df.index) # Convert to datetime-index\n",
    "    return df\n"
   ]
  },
  {
   "cell_type": "code",
   "execution_count": 13,
   "id": "da0c6b83",
   "metadata": {},
   "outputs": [],
   "source": [
    "######################################## fetching the data again ########################################\n",
    "generation = client.query(\n",
    "    \"SELECT * FROM Generation where time > now()-90d and time <= now()-7\"\n",
    "    ) # Query written in InfluxQL\n",
    "\n",
    "# Get the last 90 days of weather forecasts with the shortest lead time\n",
    "wind  = client.query(\n",
    "    \"SELECT * FROM MetForecasts where time > now()-90d and time <= now()-7 and Lead_hours = '1'\"\n",
    "    ) # Query written in InfluxQL\n",
    "\n",
    "future = client.query(\n",
    "    \"SELECT * FROM MetForecasts where time > now()-7d and time <= now() and Lead_hours = '1'\"\n",
    "    ) \n",
    "\n",
    "\n",
    "gen_df = get_df(generation)\n",
    "wind_df = get_df(wind)\n",
    "future_df = get_df(future)\n",
    "\n",
    "gen_df = pd.DataFrame(gen_df['Total'])\n",
    "wind_df = wind_df[['Direction', 'Speed']]\n",
    "future_df = future_df[['Direction', 'Speed']]"
   ]
  },
  {
   "cell_type": "code",
   "execution_count": 14,
   "metadata": {},
   "outputs": [
    {
     "data": {
      "text/html": [
       "<div>\n",
       "<style scoped>\n",
       "    .dataframe tbody tr th:only-of-type {\n",
       "        vertical-align: middle;\n",
       "    }\n",
       "\n",
       "    .dataframe tbody tr th {\n",
       "        vertical-align: top;\n",
       "    }\n",
       "\n",
       "    .dataframe thead th {\n",
       "        text-align: right;\n",
       "    }\n",
       "</style>\n",
       "<table border=\"1\" class=\"dataframe\">\n",
       "  <thead>\n",
       "    <tr style=\"text-align: right;\">\n",
       "      <th></th>\n",
       "      <th>Direction</th>\n",
       "      <th>Speed</th>\n",
       "    </tr>\n",
       "    <tr>\n",
       "      <th>time</th>\n",
       "      <th></th>\n",
       "      <th></th>\n",
       "    </tr>\n",
       "  </thead>\n",
       "  <tbody>\n",
       "    <tr>\n",
       "      <th>2022-09-22 21:00:00+00:00</th>\n",
       "      <td>WSW</td>\n",
       "      <td>8.04672</td>\n",
       "    </tr>\n",
       "    <tr>\n",
       "      <th>2022-09-23 00:00:00+00:00</th>\n",
       "      <td>W</td>\n",
       "      <td>5.81152</td>\n",
       "    </tr>\n",
       "    <tr>\n",
       "      <th>2022-09-23 03:00:00+00:00</th>\n",
       "      <td>W</td>\n",
       "      <td>4.91744</td>\n",
       "    </tr>\n",
       "    <tr>\n",
       "      <th>2022-09-23 06:00:00+00:00</th>\n",
       "      <td>WSW</td>\n",
       "      <td>3.12928</td>\n",
       "    </tr>\n",
       "    <tr>\n",
       "      <th>2022-09-23 09:00:00+00:00</th>\n",
       "      <td>W</td>\n",
       "      <td>4.02336</td>\n",
       "    </tr>\n",
       "  </tbody>\n",
       "</table>\n",
       "</div>"
      ],
      "text/plain": [
       "                          Direction    Speed\n",
       "time                                        \n",
       "2022-09-22 21:00:00+00:00       WSW  8.04672\n",
       "2022-09-23 00:00:00+00:00         W  5.81152\n",
       "2022-09-23 03:00:00+00:00         W  4.91744\n",
       "2022-09-23 06:00:00+00:00       WSW  3.12928\n",
       "2022-09-23 09:00:00+00:00         W  4.02336"
      ]
     },
     "execution_count": 14,
     "metadata": {},
     "output_type": "execute_result"
    }
   ],
   "source": [
    "wind_df.head()"
   ]
  },
  {
   "cell_type": "code",
   "execution_count": 15,
   "metadata": {},
   "outputs": [
    {
     "name": "stdout",
     "output_type": "stream",
     "text": [
      "<class 'pandas.core.frame.DataFrame'>\n",
      "DatetimeIndex: 56 entries, 2022-12-14 21:00:00+00:00 to 2022-12-21 18:00:00+00:00\n",
      "Data columns (total 2 columns):\n",
      " #   Column     Non-Null Count  Dtype  \n",
      "---  ------     --------------  -----  \n",
      " 0   Direction  56 non-null     object \n",
      " 1   Speed      56 non-null     float64\n",
      "dtypes: float64(1), object(1)\n",
      "memory usage: 1.3+ KB\n"
     ]
    }
   ],
   "source": [
    "future_df.info()"
   ]
  },
  {
   "cell_type": "markdown",
   "id": "8937ed1e",
   "metadata": {},
   "source": [
    "# Load the dataframes"
   ]
  },
  {
   "cell_type": "markdown",
   "metadata": {},
   "source": [
    "# convert data metrics"
   ]
  },
  {
   "cell_type": "code",
   "execution_count": 16,
   "metadata": {},
   "outputs": [],
   "source": [
    "def windVectorX(compass):\n",
    "    arr=[\"NNE\",\"NE\",\"ENE\",\"E\",\"ESE\", \"SE\", \"SSE\",\"S\",\"SSW\",\"SW\",\"WSW\",\"W\",\"WNW\",\"NW\",\"NNW\",\"N\"]\n",
    "    num = arr.index(compass)\n",
    "    value =  (num+1)*22.5*np.pi / 180\n",
    "    x_value = np.sin(value)\n",
    "    return x_value\n",
    "\n",
    "def windVectorY(compass):\n",
    "    arr=[\"NNE\",\"NE\",\"ENE\",\"E\",\"ESE\", \"SE\", \"SSE\",\"S\",\"SSW\",\"SW\",\"WSW\",\"W\",\"WNW\",\"NW\",\"NNW\",\"N\"]\n",
    "    num = arr.index(compass)\n",
    "    value =  (num+1)*22.5*np.pi / 180\n",
    "    y_value = np.cos(value)\n",
    "    return y_value\n",
    "    "
   ]
  },
  {
   "cell_type": "code",
   "execution_count": 17,
   "metadata": {},
   "outputs": [
    {
     "name": "stdout",
     "output_type": "stream",
     "text": [
      "Null values:\n",
      " Speed     0\n",
      "windVx    0\n",
      "windVy    0\n",
      "Total     0\n",
      "dtype: int64\n"
     ]
    }
   ],
   "source": [
    "tempx = [windVectorX(i) for i in wind_df['Direction']]\n",
    "tempy = [windVectorY(i) for i in wind_df['Direction']]\n",
    "wind_df['windVx'] = tempx\n",
    "wind_df['windVy'] = tempy\n",
    "wind_df = wind_df.drop(['Direction'], axis=1)\n",
    "gen_df = gen_df.resample('3h').mean()\n",
    "wind_df = pd.concat([wind_df, gen_df], axis=1).dropna()\n",
    "print(f\"Null values:\\n {wind_df.isnull().sum()}\")\n",
    "wind_df.to_csv(\"dataBy09132022.csv\")"
   ]
  },
  {
   "cell_type": "code",
   "execution_count": 18,
   "metadata": {},
   "outputs": [
    {
     "name": "stdout",
     "output_type": "stream",
     "text": [
      "Null values:\n",
      " Speed     0\n",
      "windVx    0\n",
      "windVy    0\n",
      "Total     0\n",
      "dtype: int64\n"
     ]
    }
   ],
   "source": [
    "ftempx = [windVectorX(i) for i in future_df['Direction']]\n",
    "ftempy = [windVectorY(i) for i in future_df['Direction']]\n",
    "future_df['windVx'] = ftempx\n",
    "future_df['windVy'] = ftempy\n",
    "future_df = future_df.drop(['Direction'], axis=1)\n",
    "future_df = pd.concat([future_df, gen_df], axis=1).dropna()\n",
    "print(f\"Null values:\\n {future_df.isnull().sum()}\")\n",
    "future_df.to_csv(\"future_df.csv\")"
   ]
  },
  {
   "cell_type": "code",
   "execution_count": null,
   "metadata": {},
   "outputs": [],
   "source": []
  },
  {
   "cell_type": "code",
   "execution_count": 19,
   "metadata": {},
   "outputs": [
    {
     "data": {
      "text/html": [
       "<div>\n",
       "<style scoped>\n",
       "    .dataframe tbody tr th:only-of-type {\n",
       "        vertical-align: middle;\n",
       "    }\n",
       "\n",
       "    .dataframe tbody tr th {\n",
       "        vertical-align: top;\n",
       "    }\n",
       "\n",
       "    .dataframe thead th {\n",
       "        text-align: right;\n",
       "    }\n",
       "</style>\n",
       "<table border=\"1\" class=\"dataframe\">\n",
       "  <thead>\n",
       "    <tr style=\"text-align: right;\">\n",
       "      <th></th>\n",
       "      <th>time</th>\n",
       "      <th>Speed</th>\n",
       "      <th>windVx</th>\n",
       "      <th>windVy</th>\n",
       "      <th>Total</th>\n",
       "    </tr>\n",
       "  </thead>\n",
       "  <tbody>\n",
       "    <tr>\n",
       "      <th>0</th>\n",
       "      <td>2022-12-14 21:00:00+00:00</td>\n",
       "      <td>13.85824</td>\n",
       "      <td>-3.826834e-01</td>\n",
       "      <td>0.92388</td>\n",
       "      <td>22.442169</td>\n",
       "    </tr>\n",
       "    <tr>\n",
       "      <th>1</th>\n",
       "      <td>2022-12-15 00:00:00+00:00</td>\n",
       "      <td>11.17600</td>\n",
       "      <td>-3.826834e-01</td>\n",
       "      <td>0.92388</td>\n",
       "      <td>9.536772</td>\n",
       "    </tr>\n",
       "    <tr>\n",
       "      <th>2</th>\n",
       "      <td>2022-12-15 03:00:00+00:00</td>\n",
       "      <td>11.17600</td>\n",
       "      <td>-2.449294e-16</td>\n",
       "      <td>1.00000</td>\n",
       "      <td>6.730763</td>\n",
       "    </tr>\n",
       "    <tr>\n",
       "      <th>3</th>\n",
       "      <td>2022-12-15 06:00:00+00:00</td>\n",
       "      <td>8.94080</td>\n",
       "      <td>-3.826834e-01</td>\n",
       "      <td>0.92388</td>\n",
       "      <td>5.817125</td>\n",
       "    </tr>\n",
       "    <tr>\n",
       "      <th>4</th>\n",
       "      <td>2022-12-15 09:00:00+00:00</td>\n",
       "      <td>5.81152</td>\n",
       "      <td>-2.449294e-16</td>\n",
       "      <td>1.00000</td>\n",
       "      <td>10.927672</td>\n",
       "    </tr>\n",
       "  </tbody>\n",
       "</table>\n",
       "</div>"
      ],
      "text/plain": [
       "                        time     Speed        windVx   windVy      Total\n",
       "0  2022-12-14 21:00:00+00:00  13.85824 -3.826834e-01  0.92388  22.442169\n",
       "1  2022-12-15 00:00:00+00:00  11.17600 -3.826834e-01  0.92388   9.536772\n",
       "2  2022-12-15 03:00:00+00:00  11.17600 -2.449294e-16  1.00000   6.730763\n",
       "3  2022-12-15 06:00:00+00:00   8.94080 -3.826834e-01  0.92388   5.817125\n",
       "4  2022-12-15 09:00:00+00:00   5.81152 -2.449294e-16  1.00000  10.927672"
      ]
     },
     "execution_count": 19,
     "metadata": {},
     "output_type": "execute_result"
    }
   ],
   "source": [
    "wind_df = pd.read_csv('dataBy09132022.csv')\n",
    "wind_df.head()\n",
    "future_df = pd.read_csv('future_df.csv')\n",
    "future_df.head()"
   ]
  },
  {
   "cell_type": "markdown",
   "id": "31daee4f",
   "metadata": {},
   "source": [
    "## Costum transformer"
   ]
  },
  {
   "cell_type": "code",
   "execution_count": 20,
   "metadata": {},
   "outputs": [],
   "source": [
    "from sklearn.base import TransformerMixin, BaseEstimator\n",
    "class transformerX(TransformerMixin, BaseEstimator):\n",
    "    \n",
    "    def fit(self, x, y=None):\n",
    "        return self\n",
    "    \n",
    "    def transform(self, x, y=None):\n",
    "        transformed = x*5\n",
    "        return transformed\n",
    "    "
   ]
  },
  {
   "cell_type": "code",
   "execution_count": 278,
   "id": "20c46ce5",
   "metadata": {},
   "outputs": [],
   "source": [
    "    \n",
    "# # testing the transformer\n",
    "# # here I make an example\n",
    "# x_train = pd.DataFrame(np.array([[1, 1], [1, 2], [2, 2], [2, 3]]), columns=['col1', 'col2'])\n",
    "# y_train = np.dot(x_train, np.array([1, 2])) + 3 ############## no need atm ##############\n",
    "# x_test = pd.DataFrame(np.array([[3, 5]]), columns=['col1', 'col2']) ############## no need atm ############## \n",
    "\n",
    "# # instantiating \n",
    "# test = my_basic_transformer()\n",
    "\n",
    "# # transforming\n",
    "# test.fit_transform(x_train)"
   ]
  },
  {
   "cell_type": "markdown",
   "id": "2ea1fb1b",
   "metadata": {},
   "source": [
    "## Column transformer from sklearn\n",
    "\n",
    "Perform the preprocessing here.\n",
    "Feature scaling is added here as well."
   ]
  },
  {
   "cell_type": "code",
   "execution_count": 21,
   "id": "0473888f",
   "metadata": {},
   "outputs": [],
   "source": [
    "from sklearn.compose import ColumnTransformer\n",
    "from sklearn.preprocessing import MinMaxScaler,StandardScaler # check the documents what it does\n",
    "ct = ColumnTransformer([\n",
    "     # if dataframe is passed you need to specify what column should be transformed.\n",
    "    ('mms', MinMaxScaler(), ['Speed']),\n",
    "    ('windvectorx', MinMaxScaler(), ['windVx']),\n",
    "    ('windvectory', MinMaxScaler(), ['windVy'])  \n",
    "])\n",
    "\n",
    "# ct.fit_transform(x_train)"
   ]
  },
  {
   "cell_type": "markdown",
   "id": "01f08cfe",
   "metadata": {},
   "source": [
    "## Pipeline from sklearn\n",
    "Pass your column transformer and model in the pipeline"
   ]
  },
  {
   "cell_type": "code",
   "execution_count": 22,
   "metadata": {},
   "outputs": [
    {
     "data": {
      "text/html": [
       "<div>\n",
       "<style scoped>\n",
       "    .dataframe tbody tr th:only-of-type {\n",
       "        vertical-align: middle;\n",
       "    }\n",
       "\n",
       "    .dataframe tbody tr th {\n",
       "        vertical-align: top;\n",
       "    }\n",
       "\n",
       "    .dataframe thead th {\n",
       "        text-align: right;\n",
       "    }\n",
       "</style>\n",
       "<table border=\"1\" class=\"dataframe\">\n",
       "  <thead>\n",
       "    <tr style=\"text-align: right;\">\n",
       "      <th></th>\n",
       "      <th>time</th>\n",
       "      <th>Speed</th>\n",
       "      <th>windVx</th>\n",
       "      <th>windVy</th>\n",
       "      <th>Total</th>\n",
       "    </tr>\n",
       "  </thead>\n",
       "  <tbody>\n",
       "    <tr>\n",
       "      <th>0</th>\n",
       "      <td>2022-09-22 21:00:00+00:00</td>\n",
       "      <td>8.04672</td>\n",
       "      <td>-0.92388</td>\n",
       "      <td>-3.826834e-01</td>\n",
       "      <td>11.872393</td>\n",
       "    </tr>\n",
       "    <tr>\n",
       "      <th>1</th>\n",
       "      <td>2022-09-23 00:00:00+00:00</td>\n",
       "      <td>5.81152</td>\n",
       "      <td>-1.00000</td>\n",
       "      <td>-1.836970e-16</td>\n",
       "      <td>8.839425</td>\n",
       "    </tr>\n",
       "    <tr>\n",
       "      <th>2</th>\n",
       "      <td>2022-09-23 03:00:00+00:00</td>\n",
       "      <td>4.91744</td>\n",
       "      <td>-1.00000</td>\n",
       "      <td>-1.836970e-16</td>\n",
       "      <td>5.877813</td>\n",
       "    </tr>\n",
       "    <tr>\n",
       "      <th>3</th>\n",
       "      <td>2022-09-23 06:00:00+00:00</td>\n",
       "      <td>3.12928</td>\n",
       "      <td>-0.92388</td>\n",
       "      <td>-3.826834e-01</td>\n",
       "      <td>4.722575</td>\n",
       "    </tr>\n",
       "    <tr>\n",
       "      <th>4</th>\n",
       "      <td>2022-09-23 09:00:00+00:00</td>\n",
       "      <td>4.02336</td>\n",
       "      <td>-1.00000</td>\n",
       "      <td>-1.836970e-16</td>\n",
       "      <td>5.408131</td>\n",
       "    </tr>\n",
       "  </tbody>\n",
       "</table>\n",
       "</div>"
      ],
      "text/plain": [
       "                        time    Speed   windVx        windVy      Total\n",
       "0  2022-09-22 21:00:00+00:00  8.04672 -0.92388 -3.826834e-01  11.872393\n",
       "1  2022-09-23 00:00:00+00:00  5.81152 -1.00000 -1.836970e-16   8.839425\n",
       "2  2022-09-23 03:00:00+00:00  4.91744 -1.00000 -1.836970e-16   5.877813\n",
       "3  2022-09-23 06:00:00+00:00  3.12928 -0.92388 -3.826834e-01   4.722575\n",
       "4  2022-09-23 09:00:00+00:00  4.02336 -1.00000 -1.836970e-16   5.408131"
      ]
     },
     "execution_count": 22,
     "metadata": {},
     "output_type": "execute_result"
    }
   ],
   "source": [
    "wind_df.head()"
   ]
  },
  {
   "cell_type": "code",
   "execution_count": 23,
   "metadata": {},
   "outputs": [],
   "source": [
    "rawY = wind_df['Total']\n",
    "rawX = wind_df.drop('Total',axis=1)\n",
    "raw_futureY = future_df['Total']\n",
    "raw_futureX = future_df.drop('Total',axis=1)"
   ]
  },
  {
   "cell_type": "code",
   "execution_count": 73,
   "metadata": {},
   "outputs": [],
   "source": [
    "numSplit = 5\n",
    "from sklearn.model_selection import TimeSeriesSplit\n",
    "tscv = TimeSeriesSplit(n_splits=numSplit)\n"
   ]
  },
  {
   "cell_type": "code",
   "execution_count": 74,
   "metadata": {},
   "outputs": [],
   "source": [
    "x_train_list = []\n",
    "y_train_list= []\n",
    "x_test_list= []\n",
    "y_test_list = []\n",
    "for train_index, test_index in tscv.split(rawX.values):\n",
    "    #print(\"TRAIN:\", train_index, \"TEST:\", test_index)\n",
    "    # x_train = rawX[train_index]\n",
    "    # x_test = rawX[test_index]\n",
    "    x_train, x_test = rawX.values[train_index], rawX.values[test_index]\n",
    "    y_train, y_test = rawY.values[train_index], rawY.values[test_index]\n",
    "    x_train_list.append(pd.DataFrame(x_train, columns = ['time','Speed','windVx','windVy']))\n",
    "    y_train_list.append(pd.DataFrame(y_train, columns = ['Total']))\n",
    "    x_test_list.append(pd.DataFrame(x_test, columns = ['time','Speed','windVx','windVy']))\n",
    "    y_test_list.append(pd.DataFrame(y_test, columns = ['Total']))\n",
    "\n",
    "    \n",
    "    "
   ]
  },
  {
   "cell_type": "code",
   "execution_count": 284,
   "metadata": {},
   "outputs": [],
   "source": [
    "# rawY = wind_df['Total']\n",
    "# rawX = wind_df.drop('Total',axis=1)\n",
    "# x_train, x_test, y_train, y_test = train_test_split(rawX, rawY, test_size=0.2, shuffle=False)\n",
    "\n",
    "# x_train = np.array(x_train).reshape(-1,1)\n",
    "# y_train = np.array(y_train).reshape(-1,1)\n",
    "# x_test = np.array(x_test).reshape(-1,1)"
   ]
  },
  {
   "cell_type": "code",
   "execution_count": 26,
   "metadata": {},
   "outputs": [
    {
     "data": {
      "text/plain": [
       "array(['2022-09-22 21:00:00+00:00', 8.04672, -0.9238795325112868,\n",
       "       -0.3826834323650895], dtype=object)"
      ]
     },
     "execution_count": 26,
     "metadata": {},
     "output_type": "execute_result"
    }
   ],
   "source": [
    "x_train[0]"
   ]
  },
  {
   "cell_type": "code",
   "execution_count": 286,
   "metadata": {},
   "outputs": [
    {
     "data": {
      "text/html": [
       "<div>\n",
       "<style scoped>\n",
       "    .dataframe tbody tr th:only-of-type {\n",
       "        vertical-align: middle;\n",
       "    }\n",
       "\n",
       "    .dataframe tbody tr th {\n",
       "        vertical-align: top;\n",
       "    }\n",
       "\n",
       "    .dataframe thead th {\n",
       "        text-align: right;\n",
       "    }\n",
       "</style>\n",
       "<table border=\"1\" class=\"dataframe\">\n",
       "  <thead>\n",
       "    <tr style=\"text-align: right;\">\n",
       "      <th></th>\n",
       "      <th>0</th>\n",
       "    </tr>\n",
       "  </thead>\n",
       "  <tbody>\n",
       "    <tr>\n",
       "      <th>0</th>\n",
       "      <td>5.797828</td>\n",
       "    </tr>\n",
       "    <tr>\n",
       "      <th>1</th>\n",
       "      <td>6.709056</td>\n",
       "    </tr>\n",
       "    <tr>\n",
       "      <th>2</th>\n",
       "      <td>8.390839</td>\n",
       "    </tr>\n",
       "    <tr>\n",
       "      <th>3</th>\n",
       "      <td>10.180039</td>\n",
       "    </tr>\n",
       "    <tr>\n",
       "      <th>4</th>\n",
       "      <td>11.290600</td>\n",
       "    </tr>\n",
       "  </tbody>\n",
       "</table>\n",
       "</div>"
      ],
      "text/plain": [
       "           0\n",
       "0   5.797828\n",
       "1   6.709056\n",
       "2   8.390839\n",
       "3  10.180039\n",
       "4  11.290600"
      ]
     },
     "execution_count": 286,
     "metadata": {},
     "output_type": "execute_result"
    }
   ],
   "source": [
    "ttt = pd.DataFrame(y_train)\n",
    "ttt.head()"
   ]
  },
  {
   "cell_type": "code",
   "execution_count": 75,
   "id": "d0c7e6e1",
   "metadata": {},
   "outputs": [],
   "source": [
    "from sklearn.pipeline import Pipeline\n",
    "\n",
    "pipeline_linear = Pipeline([\n",
    "    ('my_ct', ct),\n",
    "    ('lr', LinearRegression())\n",
    "])\n",
    "\n",
    "# print(y_pred)"
   ]
  },
  {
   "cell_type": "code",
   "execution_count": 80,
   "id": "217e1c57",
   "metadata": {
    "scrolled": false
   },
   "outputs": [
    {
     "name": "stdout",
     "output_type": "stream",
     "text": [
      "the mean of the score for split number: 5\n",
      "0.5567132150326446\n"
     ]
    }
   ],
   "source": [
    "scores = []\n",
    "from sklearn.metrics import mean_squared_error as mse\n",
    "for i in range(len(x_train_list)):\n",
    "    pipeline_linear.fit(pd.DataFrame(x_train_list[i]), pd.DataFrame(y_train_list[i]))\n",
    "    y_pred_linear = pipeline_linear.predict(pd.DataFrame(x_test_list[i]))\n",
    "    scores.append (pipeline_linear.score(x_train_list[i], y_train_list[i]))\n",
    "print(\"the mean of the score for split number: \"+str(numSplit))\n",
    "print(sum(scores)/len(scores))\n",
    "    # if i == 4:\n",
    "    #     print(y_pred_linear)"
   ]
  },
  {
   "cell_type": "code",
   "execution_count": 289,
   "metadata": {},
   "outputs": [
    {
     "name": "stdout",
     "output_type": "stream",
     "text": [
      "\n"
     ]
    }
   ],
   "source": [
    "print()"
   ]
  },
  {
   "cell_type": "code",
   "execution_count": 44,
   "metadata": {},
   "outputs": [],
   "source": [
    "from sklearn.svm import SVR\n",
    "pipeline_SVR = Pipeline([\n",
    "    ('my_ct', ct),\n",
    "    ('lr', SVR(kernel=\"rbf\", C=100, gamma=0.1, epsilon=0.1))\n",
    "])\n"
   ]
  },
  {
   "cell_type": "code",
   "execution_count": 83,
   "metadata": {},
   "outputs": [
    {
     "name": "stdout",
     "output_type": "stream",
     "text": [
      "the mean of the score for split number: 5\n",
      "0.5857491387634028\n"
     ]
    },
    {
     "name": "stderr",
     "output_type": "stream",
     "text": [
      "/opt/homebrew/anaconda3/lib/python3.9/site-packages/sklearn/utils/validation.py:1111: DataConversionWarning: A column-vector y was passed when a 1d array was expected. Please change the shape of y to (n_samples, ), for example using ravel().\n",
      "  y = column_or_1d(y, warn=True)\n",
      "/opt/homebrew/anaconda3/lib/python3.9/site-packages/sklearn/utils/validation.py:1111: DataConversionWarning: A column-vector y was passed when a 1d array was expected. Please change the shape of y to (n_samples, ), for example using ravel().\n",
      "  y = column_or_1d(y, warn=True)\n",
      "/opt/homebrew/anaconda3/lib/python3.9/site-packages/sklearn/utils/validation.py:1111: DataConversionWarning: A column-vector y was passed when a 1d array was expected. Please change the shape of y to (n_samples, ), for example using ravel().\n",
      "  y = column_or_1d(y, warn=True)\n",
      "/opt/homebrew/anaconda3/lib/python3.9/site-packages/sklearn/utils/validation.py:1111: DataConversionWarning: A column-vector y was passed when a 1d array was expected. Please change the shape of y to (n_samples, ), for example using ravel().\n",
      "  y = column_or_1d(y, warn=True)\n",
      "/opt/homebrew/anaconda3/lib/python3.9/site-packages/sklearn/utils/validation.py:1111: DataConversionWarning: A column-vector y was passed when a 1d array was expected. Please change the shape of y to (n_samples, ), for example using ravel().\n",
      "  y = column_or_1d(y, warn=True)\n"
     ]
    }
   ],
   "source": [
    "scores = []\n",
    "for i in range(len(x_train_list)):\n",
    "    pipeline_SVR.fit(pd.DataFrame(x_train_list[i]), pd.DataFrame(y_train_list[i]))\n",
    "    y_pred_SVR = pipeline_SVR.predict(pd.DataFrame(x_test_list[i]))\n",
    "    scores.append (pipeline_SVR.score(x_train_list[i], y_train_list[i]))\n",
    "print(\"the mean of the score for split number: \"+str(numSplit))\n",
    "print(sum(scores)/len(scores))\n",
    "\n"
   ]
  },
  {
   "cell_type": "code",
   "execution_count": 62,
   "metadata": {},
   "outputs": [],
   "source": [
    "from sklearn.neighbors import KNeighborsRegressor\n",
    "pipeline_KNN = Pipeline([\n",
    "    ('my_ct', ct),\n",
    "    ('lr', KNeighborsRegressor(n_neighbors=5))\n",
    "])\n",
    "\n"
   ]
  },
  {
   "cell_type": "code",
   "execution_count": 84,
   "metadata": {},
   "outputs": [
    {
     "name": "stdout",
     "output_type": "stream",
     "text": [
      "Score: 0.79\n",
      "Score: 0.73\n",
      "Score: 0.7\n",
      "Score: 0.72\n",
      "Score: 0.72\n",
      "the mean of the score for split number: 5\n",
      "0.7341739927301764\n"
     ]
    }
   ],
   "source": [
    "scores = []\n",
    "for i in range(len(x_train_list)):\n",
    "    pipeline_KNN.fit(pd.DataFrame(x_train_list[i]), pd.DataFrame(y_train_list[i]))\n",
    "    y_pred_KNN = pipeline_KNN.predict(pd.DataFrame(x_test_list[i]))\n",
    "    print(f\"Score: {round(pipeline_KNN.score(x_train_list[i], y_train_list[i]),2)}\")\n",
    "    scores.append (pipeline_KNN.score(x_train_list[i], y_train_list[i]))\n",
    "print(\"the mean of the score for split number: \"+str(numSplit))\n",
    "print(sum(scores)/len(scores))\n",
    "    \n"
   ]
  },
  {
   "cell_type": "code",
   "execution_count": 33,
   "metadata": {},
   "outputs": [],
   "source": [
    "from sklearn.tree import DecisionTreeRegressor\n",
    "pipeline_tree = Pipeline([\n",
    "    ('my_ct', ct),\n",
    "    ('lr', DecisionTreeRegressor(random_state=0))\n",
    "])\n",
    "\n"
   ]
  },
  {
   "cell_type": "code",
   "execution_count": 81,
   "metadata": {},
   "outputs": [
    {
     "name": "stdout",
     "output_type": "stream",
     "text": [
      "the mean of the score for split number: 5\n",
      "0.8450472335824426\n"
     ]
    }
   ],
   "source": [
    "scores = []\n",
    "\n",
    "for i in range(len(x_train_list)):\n",
    "    pipeline_tree.fit(pd.DataFrame(x_train_list[i]), pd.DataFrame(y_train_list[i]))\n",
    "    y_pred_tree = pipeline_tree.predict(pd.DataFrame(x_test_list[i]))\n",
    "    scores.append (pipeline_tree.score(x_train_list[i], y_train_list[i]))\n",
    "print(\"the mean of the score for split number: \"+str(numSplit))\n",
    "print(sum(scores)/len(scores))"
   ]
  },
  {
   "cell_type": "code",
   "execution_count": 296,
   "metadata": {},
   "outputs": [],
   "source": [
    "from sklearn.ensemble import RandomForestRegressor\n",
    "pipeline_random_forest = Pipeline([\n",
    "    ('my_ct', ct),\n",
    "    ('lr', RandomForestRegressor(max_depth=10, random_state=0))\n",
    "])\n"
   ]
  },
  {
   "cell_type": "code",
   "execution_count": 297,
   "metadata": {},
   "outputs": [
    {
     "name": "stderr",
     "output_type": "stream",
     "text": [
      "/home/jiashuo/.local/lib/python3.10/site-packages/sklearn/pipeline.py:382: DataConversionWarning: A column-vector y was passed when a 1d array was expected. Please change the shape of y to (n_samples,), for example using ravel().\n",
      "  self._final_estimator.fit(Xt, y, **fit_params_last_step)\n",
      "/home/jiashuo/.local/lib/python3.10/site-packages/sklearn/pipeline.py:382: DataConversionWarning: A column-vector y was passed when a 1d array was expected. Please change the shape of y to (n_samples,), for example using ravel().\n",
      "  self._final_estimator.fit(Xt, y, **fit_params_last_step)\n"
     ]
    },
    {
     "name": "stdout",
     "output_type": "stream",
     "text": [
      "Score: 0.85\n",
      "\tMean Square Error: 24.57\n",
      "\tRoot Mean Square Error: 4.96\n",
      "Score: 0.85\n",
      "\tMean Square Error: 8.47\n",
      "\tRoot Mean Square Error: 2.91\n"
     ]
    },
    {
     "name": "stderr",
     "output_type": "stream",
     "text": [
      "/home/jiashuo/.local/lib/python3.10/site-packages/sklearn/pipeline.py:382: DataConversionWarning: A column-vector y was passed when a 1d array was expected. Please change the shape of y to (n_samples,), for example using ravel().\n",
      "  self._final_estimator.fit(Xt, y, **fit_params_last_step)\n",
      "/home/jiashuo/.local/lib/python3.10/site-packages/sklearn/pipeline.py:382: DataConversionWarning: A column-vector y was passed when a 1d array was expected. Please change the shape of y to (n_samples,), for example using ravel().\n",
      "  self._final_estimator.fit(Xt, y, **fit_params_last_step)\n"
     ]
    },
    {
     "name": "stdout",
     "output_type": "stream",
     "text": [
      "Score: 0.85\n",
      "\tMean Square Error: 26.07\n",
      "\tRoot Mean Square Error: 5.11\n",
      "Score: 0.85\n",
      "\tMean Square Error: 7.55\n",
      "\tRoot Mean Square Error: 2.75\n",
      "Score: 0.85\n",
      "\tMean Square Error: 25.2\n",
      "\tRoot Mean Square Error: 5.02\n"
     ]
    },
    {
     "name": "stderr",
     "output_type": "stream",
     "text": [
      "/home/jiashuo/.local/lib/python3.10/site-packages/sklearn/pipeline.py:382: DataConversionWarning: A column-vector y was passed when a 1d array was expected. Please change the shape of y to (n_samples,), for example using ravel().\n",
      "  self._final_estimator.fit(Xt, y, **fit_params_last_step)\n"
     ]
    }
   ],
   "source": [
    "\n",
    "\n",
    "for i in range(len(x_train_list)):\n",
    "    pipeline_random_forest.fit(pd.DataFrame(x_train_list[i]), pd.DataFrame(y_train_list[i]))\n",
    "    y_pred_random_forest = pipeline_random_forest.predict(pd.DataFrame(x_test_list[i]))\n",
    "    print(f\"Score: {round(pipeline_random_forest.score(x_train_list[i], y_train_list[i]),2)}\")\n",
    "    print(f\"\\tMean Square Error: {round(mse(y_test_list[i], y_pred_random_forest),2)}\")\n",
    "    print(f\"\\tRoot Mean Square Error: {round(mse(y_test_list[i], y_pred_random_forest, squared=False),2)}\")"
   ]
  },
  {
   "cell_type": "code",
   "execution_count": 298,
   "metadata": {},
   "outputs": [],
   "source": [
    "from sklearn.neural_network import MLPRegressor\n",
    "pipeline_NN = Pipeline([\n",
    "    ('my_ct', ct),\n",
    "    ('lr', MLPRegressor(solver='adam',random_state=None, max_iter=5000,early_stopping=False))\n",
    "])\n",
    "\n"
   ]
  },
  {
   "cell_type": "code",
   "execution_count": 299,
   "metadata": {},
   "outputs": [
    {
     "name": "stderr",
     "output_type": "stream",
     "text": [
      "/home/jiashuo/.local/lib/python3.10/site-packages/sklearn/neural_network/_multilayer_perceptron.py:1607: DataConversionWarning: A column-vector y was passed when a 1d array was expected. Please change the shape of y to (n_samples, ), for example using ravel().\n",
      "  y = column_or_1d(y, warn=True)\n"
     ]
    },
    {
     "name": "stdout",
     "output_type": "stream",
     "text": [
      "Score: 0.72\n",
      "\tMean Square Error: 14.25\n",
      "\tRoot Mean Square Error: 3.77\n"
     ]
    },
    {
     "name": "stderr",
     "output_type": "stream",
     "text": [
      "/home/jiashuo/.local/lib/python3.10/site-packages/sklearn/neural_network/_multilayer_perceptron.py:1607: DataConversionWarning: A column-vector y was passed when a 1d array was expected. Please change the shape of y to (n_samples, ), for example using ravel().\n",
      "  y = column_or_1d(y, warn=True)\n"
     ]
    },
    {
     "name": "stdout",
     "output_type": "stream",
     "text": [
      "Score: 0.75\n",
      "\tMean Square Error: 10.51\n",
      "\tRoot Mean Square Error: 3.24\n"
     ]
    },
    {
     "name": "stderr",
     "output_type": "stream",
     "text": [
      "/home/jiashuo/.local/lib/python3.10/site-packages/sklearn/neural_network/_multilayer_perceptron.py:1607: DataConversionWarning: A column-vector y was passed when a 1d array was expected. Please change the shape of y to (n_samples, ), for example using ravel().\n",
      "  y = column_or_1d(y, warn=True)\n"
     ]
    },
    {
     "name": "stdout",
     "output_type": "stream",
     "text": [
      "Score: 0.75\n",
      "\tMean Square Error: 20.24\n",
      "\tRoot Mean Square Error: 4.5\n"
     ]
    },
    {
     "name": "stderr",
     "output_type": "stream",
     "text": [
      "/home/jiashuo/.local/lib/python3.10/site-packages/sklearn/neural_network/_multilayer_perceptron.py:1607: DataConversionWarning: A column-vector y was passed when a 1d array was expected. Please change the shape of y to (n_samples, ), for example using ravel().\n",
      "  y = column_or_1d(y, warn=True)\n"
     ]
    },
    {
     "name": "stdout",
     "output_type": "stream",
     "text": [
      "Score: 0.77\n",
      "\tMean Square Error: 8.17\n",
      "\tRoot Mean Square Error: 2.86\n"
     ]
    },
    {
     "name": "stderr",
     "output_type": "stream",
     "text": [
      "/home/jiashuo/.local/lib/python3.10/site-packages/sklearn/neural_network/_multilayer_perceptron.py:1607: DataConversionWarning: A column-vector y was passed when a 1d array was expected. Please change the shape of y to (n_samples, ), for example using ravel().\n",
      "  y = column_or_1d(y, warn=True)\n"
     ]
    },
    {
     "name": "stdout",
     "output_type": "stream",
     "text": [
      "Score: 0.77\n",
      "\tMean Square Error: 27.58\n",
      "\tRoot Mean Square Error: 5.25\n"
     ]
    }
   ],
   "source": [
    "for i in range(len(x_train_list)):\n",
    "    pipeline_NN.fit(pd.DataFrame(x_train_list[i]), pd.DataFrame(y_train_list[i]))\n",
    "    y_pred_NN = pipeline_NN.predict(pd.DataFrame(x_test_list[i]))\n",
    "    print(f\"Score: {round(pipeline_NN.score(x_train_list[i], y_train_list[i]),2)}\")\n",
    "    print(f\"\\tMean Square Error: {round(mse(y_test_list[i], y_pred_NN),2)}\")\n",
    "    print(f\"\\tRoot Mean Square Error: {round(mse(y_test_list[i], y_pred_NN, squared=False),2)}\")"
   ]
  },
  {
   "cell_type": "code",
   "execution_count": 300,
   "metadata": {},
   "outputs": [
    {
     "data": {
      "text/plain": [
       "(54, 4)"
      ]
     },
     "execution_count": 300,
     "metadata": {},
     "output_type": "execute_result"
    }
   ],
   "source": [
    "raw_futureX.shape"
   ]
  },
  {
   "cell_type": "code",
   "execution_count": 301,
   "metadata": {},
   "outputs": [
    {
     "name": "stdout",
     "output_type": "stream",
     "text": [
      "\ty_pred_linear\n",
      "\tMean Square Error: 19.95\n",
      "\tRoot Mean Square Error: 4.47\n",
      "\ty_pred_SVR\n",
      "\tMean Square Error: 14.92\n",
      "\tRoot Mean Square Error: 3.86\n",
      "\ty_pred_tree\n",
      "\tMean Square Error: 10.86\n",
      "\tRoot Mean Square Error: 3.3\n",
      "\ty_pred_random_forest\n",
      "\tMean Square Error: 10.69\n",
      "\tRoot Mean Square Error: 3.27\n",
      "\ty_pred_KNN\n",
      "\tMean Square Error: 12.02\n",
      "\tRoot Mean Square Error: 3.47\n",
      "\ty_pred_NN\n",
      "\tMean Square Error: 16.09\n",
      "\tRoot Mean Square Error: 4.01\n"
     ]
    }
   ],
   "source": [
    "model = [pipeline_linear,pipeline_SVR,pipeline_tree,pipeline_random_forest,pipeline_KNN,pipeline_NN]\n",
    "name = [\"y_pred_linear\",\"y_pred_SVR\",\"y_pred_tree\",\"y_pred_random_forest\",\"y_pred_KNN\",\"y_pred_NN\"]\n",
    "i=0\n",
    "\n",
    "for m in model:\n",
    "    \n",
    "    future_pred = m.predict(raw_futureX)\n",
    "    print(f\"\\t{name[i]}\")\n",
    "    i+=1\n",
    "    print(f\"\\tMean Square Error: {round(mse(raw_futureY, future_pred),2)}\")\n",
    "    print(f\"\\tRoot Mean Square Error: {round(mse(raw_futureY, future_pred, squared=False),2)}\")\n",
    "    \n",
    "    x_index = np.array(raw_futureX['Speed'])\n",
    "    y_pred = np.array(future_pred)\n",
    "    y_real = np.array(raw_futureY)\n",
    "    # plt.scatter(x_index, y_real, color='b')\n",
    "    # plt.plot(x_index,y_pred, color='r')\n",
    "    #plt.show()\n",
    "    "
   ]
  }
 ],
 "metadata": {
  "kernelspec": {
   "display_name": "Python 3",
   "language": "python",
   "name": "python3"
  },
  "language_info": {
   "codemirror_mode": {
    "name": "ipython",
    "version": 3
   },
   "file_extension": ".py",
   "mimetype": "text/x-python",
   "name": "python",
   "nbconvert_exporter": "python",
   "pygments_lexer": "ipython3",
   "version": "3.9.6"
  },
  "orig_nbformat": 4,
  "vscode": {
   "interpreter": {
    "hash": "31f2aee4e71d21fbe5cf8b01ff0e069b9275f58929596ceb00d14d90e3e16cd6"
   }
  }
 },
 "nbformat": 4,
 "nbformat_minor": 2
}
